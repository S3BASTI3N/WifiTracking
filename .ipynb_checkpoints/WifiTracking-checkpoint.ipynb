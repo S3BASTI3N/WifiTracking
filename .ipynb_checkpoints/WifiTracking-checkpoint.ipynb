{
 "cells": [
  {
   "cell_type": "code",
   "execution_count": 111,
   "metadata": {
    "collapsed": false
   },
   "outputs": [],
   "source": [
    "%matplotlib inline\n",
    "\n",
    "import scipy.constants\n",
    "import numpy as np\n",
    "import matplotlib.pyplot as plt\n",
    "import math\n",
    "import scipy as sp\n",
    "from scipy.optimize import minimize"
   ]
  },
  {
   "cell_type": "markdown",
   "metadata": {},
   "source": [
    "0.2 a The Friis free space equation consists of:\n",
    "\n",
    "$$P_r = P_t + 20 \\times \\log^{10}{\\frac{c}{4\\pi f r}}$$\n",
    "\n",
    "where P_t equals the transmission power, c the speed of sound, f the frequency and r the distance. Plotting this for f is 2.4Ghz and r between 0.4 and 30 metres results in the following plot:"
   ]
  },
  {
   "cell_type": "code",
   "execution_count": 112,
   "metadata": {
    "collapsed": false
   },
   "outputs": [
    {
     "data": {
      "image/png": "[encoded data removed]",
      "text/plain": [
       "<matplotlib.figure.Figure at 0x7fadfa03d518>"
      ]
     },
     "metadata": {},
     "output_type": "display_data"
    }
   ],
   "source": [
    "c  = scipy.constants.speed_of_light\n",
    "f  = 2.4e9\n",
    "r  = np.arange(0.4, 30, 0.1)\n",
    "Pt = 0\n",
    "P  = Pt + 20 * np.log10(c/(4.* np.pi * f * r))\n",
    "\n",
    "plt.figure(1)\n",
    "plt.plot(r,P)\n",
    "plt.show()"
   ]
  },
  {
   "cell_type": "markdown",
   "metadata": {},
   "source": [
    "b: This equation can also be inverted to r as a function of P_r:\n",
    "    \n",
    "$$r = \\frac{c}{4 \\pi f 10^{\\frac{P_r - P_t}{20}}}$$"
   ]
  },
  {
   "cell_type": "code",
   "execution_count": 113,
   "metadata": {
    "collapsed": false
   },
   "outputs": [
    {
     "name": "stdout",
     "output_type": "stream",
     "text": [
      "The difference in metres between -30 to -31 and -60 to -61 is: 0.03835527636485858 and 1.2129003359817592\n"
     ]
    }
   ],
   "source": [
    "def getDistance(Pr):\n",
    "    return c/(4*np.pi*f*math.pow(10, (Pr-Pt)/20))\n",
    "\n",
    "d30 = getDistance(-31) - getDistance(-30)\n",
    "d60 = getDistance(-61) - getDistance(-60)\n",
    "\n",
    "print(\"The difference in metres between -30 to -31 and -60 to -61 is:\", d30, \"and\", d60)"
   ]
  },
  {
   "cell_type": "markdown",
   "metadata": {},
   "source": [
    "c: As can be seen above, the difference in distance between 30 and 31 dBm is 0.0384 metres and between -60 and -61 dBm is 1.21 metres. This that with a lower signal strength the difference in strength has a larger influence on the difference in distance."
   ]
  },
  {
   "cell_type": "markdown",
   "metadata": {},
   "source": [
    "d: This also means that the uncertainty for the distance is larger when the signal strength is smaller. As an error in the measured signal strength has a larger influance on the resulting calculated distance."
   ]
  },
  {
   "cell_type": "markdown",
   "metadata": {},
   "source": [
    "0.3 e: In order to reconstruct the location of the client triangulation can be used. There excists unfortunatly no exact solution as can be seen in the picture below:\n",
    "\n",
    "**MARTIJN PLAATJE PAINT :D**"
   ]
  },
  {
   "cell_type": "markdown",
   "metadata": {},
   "source": [
    "f: To Calculate the signal strength of a client at a certain location with a certain router the original formula can be rewritten to:\n",
    "\n",
    "$$P_r = P_t + 20 \\times \\log^{10}({\\frac{c}{4\\pi f r}})$$\n",
    "$$P_r = P_t + 20 \\times (\\log^{10}({\\frac{c}{4\\pi f}}) - \\log^{10}({r}))$$\n",
    "$$P_r = P_t + 20 \\times (\\log^{10}({\\frac{c}{4\\pi f}}) - \\log^{10}(\\sqrt{(x-x_i)^2 + (y-y_i)^2 + Z^2}))$$\n",
    "$$P_r = P_t + 20 \\times \\log^{10}({\\frac{c}{4\\pi f}}) - 20 \\times \\log^{10}(\\sqrt{(x-x_i)^2 + (y-y_i)^2 + Z^2})$$\n",
    "$$P_r = P_t + 20 \\times \\log^{10}({\\frac{c}{4\\pi f}}) - 20 \\times \\log^{10}(((x-x_i)^2 + (y-y_i)^2 + Z^2)^\\frac{1}{2})$$\n",
    "$$P_r = P_t + 20 \\times \\log^{10}({\\frac{c}{4\\pi f}}) - 10 \\times \\log^{10}((x-x_i)^2 + (y-y_i)^2 + Z^2)$$\n",
    "\n"
   ]
  },
  {
   "cell_type": "markdown",
   "metadata": {},
   "source": [
    "g: **LEG RESULTATEN ONDER UIT**"
   ]
  },
  {
   "cell_type": "code",
   "execution_count": 114,
   "metadata": {
    "collapsed": false
   },
   "outputs": [
    {
     "data": {
      "image/png": "[encoded data removed]",
      "text/plain": [
       "<matplotlib.figure.Figure at 0x7fadfa03da90>"
      ]
     },
     "metadata": {},
     "output_type": "display_data"
    },
    {
     "name": "stdout",
     "output_type": "stream",
     "text": [
      "The mean and deviation are: -0.0442882713053 and 0.997197942624\n"
     ]
    }
   ],
   "source": [
    "def getExpectedStrength(x, y, xi, yi, Z, Pt):\n",
    "    return (Pt + 20 * np.log10(c/(4*np.pi*f)) -\n",
    "            10*np.log10(math.pow(x-xi,2) + math.pow(y-yi,2) + math.pow(Z,2)))\n",
    "\n",
    "def getMeassuredStrength(x, y, xi, yi, Z, Pt, G, sigma):\n",
    "    return (Pt + G * np.log10(c/(4*np.pi*f)) -\n",
    "            10*np.log10(math.pow(x-xi,2) + math.pow(y-yi,2) + math.pow(Z,2)) +\n",
    "            np.random.normal(0, sigma))\n",
    "Z = 2\n",
    "G = 20\n",
    "\n",
    "sigma = 1\n",
    "expectedStrength = getExpectedStrength(20, 0, 0, 0, Z, 0)\n",
    "meassurements = [getMeassuredStrength(20, 0, 0, 0, Z, 0, G, sigma) for x in range(1000)]\n",
    "nRisiduals = (meassurements - expectedStrength)/sigma\n",
    "plt.hist(nRisiduals, bins=10)\n",
    "plt.show()\n",
    "\n",
    "mean = np.mean(nRisiduals)\n",
    "mu = np.std(nRisiduals)\n",
    "\n",
    "print(\"The mean and deviation are:\", mean, \"and\", mu)"
   ]
  },
  {
   "cell_type": "markdown",
   "metadata": {},
   "source": [
    "h: **LEG RESULTATEN ONDER UIT**"
   ]
  },
  {
   "cell_type": "code",
   "execution_count": 115,
   "metadata": {
    "collapsed": false
   },
   "outputs": [
    {
     "name": "stdout",
     "output_type": "stream",
     "text": [
      "The mean and deviation when underestimating are: 0.141637857781 and 1.97434173074\n"
     ]
    },
    {
     "data": {
      "image/png": "[encoded data removed]",
      "text/plain": [
       "<matplotlib.figure.Figure at 0x7fadfa8faa58>"
      ]
     },
     "metadata": {},
     "output_type": "display_data"
    },
    {
     "name": "stdout",
     "output_type": "stream",
     "text": [
      "The mean and deviation when overestimating are: 0.0354094644453 and 0.493585432685\n"
     ]
    },
    {
     "data": {
      "image/png": "[encoded data removed]",
      "text/plain": [
       "<matplotlib.figure.Figure at 0x7fadf51085c0>"
      ]
     },
     "metadata": {},
     "output_type": "display_data"
    }
   ],
   "source": [
    "sigma = 2\n",
    "expectedStrength = getExpectedStrength(20, 0, 0, 0, Z, 0)\n",
    "meassurements = [getMeassuredStrength(20, 0, 0, 0, Z, 0, G, sigma) for x in range(1000)]\n",
    "\n",
    "# Underestimate\n",
    "nRisiduals = (meassurements - expectedStrength)/1\n",
    "mean = np.mean(nRisiduals)\n",
    "mu = np.std(nRisiduals)\n",
    "print(\"The mean and deviation when underestimating are:\", mean, \"and\", mu)\n",
    "plt.hist(nRisiduals, bins=10)\n",
    "plt.show()\n",
    "\n",
    "# Overestimate\n",
    "nRisiduals = (meassurements - expectedStrength)/4\n",
    "mean = np.mean(nRisiduals)\n",
    "mu = np.std(nRisiduals)\n",
    "print(\"The mean and deviation when overestimating are:\", mean, \"and\", mu)\n",
    "plt.hist(nRisiduals, bins=10)\n",
    "plt.show()"
   ]
  },
  {
   "cell_type": "markdown",
   "metadata": {},
   "source": [
    "i: **EXPLAINED RESULTS BELOW** (mean is no longer 0 due to systematic error)"
   ]
  },
  {
   "cell_type": "code",
   "execution_count": 116,
   "metadata": {
    "collapsed": false
   },
   "outputs": [
    {
     "data": {
      "image/png": "[encoded data removed]",
      "text/plain": [
       "<matplotlib.figure.Figure at 0x7fadfa053dd8>"
      ]
     },
     "metadata": {},
     "output_type": "display_data"
    },
    {
     "name": "stdout",
     "output_type": "stream",
     "text": [
      "The mean and deviation are: -9.9888043892 and 1.00438935729\n"
     ]
    }
   ],
   "source": [
    "G = 25\n",
    "\n",
    "sigma = 1\n",
    "expectedStrength = getExpectedStrength(20, 0, 0, 0, Z, 0)\n",
    "meassurements = [getMeassuredStrength(20, 0, 0, 0, Z, 0, G, sigma) for x in range(1000)]\n",
    "nRisiduals = (meassurements - expectedStrength)/sigma\n",
    "plt.hist(nRisiduals, bins=10)\n",
    "plt.show()\n",
    "\n",
    "mean = np.mean(nRisiduals)\n",
    "mu = np.std(nRisiduals)\n",
    "\n",
    "print(\"The mean and deviation are:\", mean, \"and\", mu)"
   ]
  },
  {
   "cell_type": "markdown",
   "metadata": {},
   "source": [
    "j: mean of zero and a standard deviation of one? **CHECK PLS**"
   ]
  },
  {
   "cell_type": "markdown",
   "metadata": {},
   "source": [
    "0.4 k: When generating a single wifi packet without noise and an assumed sigma of 1dBm, the $\\chi^{2}$ is at its minimum at (5,5) which is the actual position:"
   ]
  },
  {
   "cell_type": "code",
   "execution_count": 117,
   "metadata": {
    "collapsed": false
   },
   "outputs": [],
   "source": [
    "def estimatePositionWithoutNoise(routers, assumedClient, actualClient, sigma, G, Pt):\n",
    "    x,y,z = assumedClient\n",
    "    xreal, yreal, zreal = actualClient\n",
    "    Chi = 0\n",
    "    for xi,yi,zi in routers:\n",
    "        Z = zi - z\n",
    "        Si = getExpectedStrength(x,y,xi,yi,Z,Pt)\n",
    "        Pri = getExpectedStrength(xreal,yreal,xi,yi,zreal-zi,Pt)\n",
    "        Chi += math.pow(Si-Pri,2)/math.pow(sigma,2)\n",
    "    return Chi\n",
    "\n",
    "\n",
    "\n",
    "routers = [[0, 0, 3],[ 0, 20, 3],[20, 0, 3],[20, 20, 3]]\n",
    "actualClient = [5,5,1]\n",
    "X = np.arange(-5,16,1)\n",
    "Chis = [[x, estimatePositionWithoutNoise(routers, [x,5,1], actualClient, 1, 20, 0)] for x in X]"
   ]
  },
  {
   "cell_type": "code",
   "execution_count": 118,
   "metadata": {
    "collapsed": false
   },
   "outputs": [
    {
     "data": {
      "image/png": "[encoded data removed]",
      "text/plain": [
       "<matplotlib.figure.Figure at 0x7fadfa908128>"
      ]
     },
     "metadata": {},
     "output_type": "display_data"
    }
   ],
   "source": [
    "Chis = np.matrix(Chis)\n",
    "plt.plot(Chis[:,0],Chis[:,1])\n",
    "plt.show()"
   ]
  },
  {
   "cell_type": "markdown",
   "metadata": {},
   "source": [
    "0.4 l: When generating a single wifi packet with random Gaussian noise and a sigma of 1dBm, the $\\chi^{2}$ is at its minimum around (5,5) which is the actual position, but not necessarily exactly at (5,5):"
   ]
  },
  {
   "cell_type": "code",
   "execution_count": 119,
   "metadata": {
    "collapsed": false
   },
   "outputs": [],
   "source": [
    "def estimatePositionWithNoise(routers, assumedClient, actualClient, sigma, G, Pt):\n",
    "    x,y,z = assumedClient\n",
    "    xreal, yreal, zreal = actualClient\n",
    "    Chi = 0\n",
    "    for xi,yi,zi in routers:\n",
    "        Z = zi - z\n",
    "        Si = getExpectedStrength(x,y,xi,yi,Z,Pt)\n",
    "        Pri = getMeassuredStrength(xreal,yreal, xi, yi, zreal-zi, Pt, G, sigma)\n",
    "        \n",
    "        Chi += math.pow(Si-Pri,2)/math.pow(sigma,2)\n",
    "    return Chi\n",
    "\n",
    "routers = [[0, 0, 3],[ 0, 20, 3],[20, 0, 3],[20, 20, 3]]\n",
    "actualClient = [5,5,1]\n",
    "X = np.arange(-5,16,0.1)\n",
    "Chis = [[x, estimatePositionWithNoise(routers, [x,5,1], actualClient, 1, 20, 0)] for x in X]"
   ]
  },
  {
   "cell_type": "code",
   "execution_count": 120,
   "metadata": {
    "collapsed": false
   },
   "outputs": [
    {
     "data": {
      "image/png": "[encoded data removed]",
      "text/plain": [
       "<matplotlib.figure.Figure at 0x7fadef68d7f0>"
      ]
     },
     "metadata": {},
     "output_type": "display_data"
    }
   ],
   "source": [
    "Chis = np.matrix(Chis)\n",
    "plt.plot(Chis[:,0],Chis[:,1])\n",
    "plt.show()"
   ]
  },
  {
   "cell_type": "markdown",
   "metadata": {},
   "source": [
    "0.4 m: The minimize function (the Powell method) will find the optimum of the estimated position at location (5,5)."
   ]
  },
  {
   "cell_type": "code",
   "execution_count": 135,
   "metadata": {
    "collapsed": false
   },
   "outputs": [
    {
     "name": "stdout",
     "output_type": "stream",
     "text": [
      "[ 5.  5.]\n"
     ]
    }
   ],
   "source": [
    "def g(X):\n",
    "    x,y = X\n",
    "    routers = [[0, 0, 3],[ 0, 20, 3],[20, 0, 3],[20, 20, 3]]\n",
    "    actualClient = [5,5,1]\n",
    "    return estimatePositionWithoutNoise(routers, [x,y,1], actualClient, 1, 20, 0)\n",
    "\n",
    "print(minimize(g,[3,8], method='Powell').x)\n",
    "    "
   ]
  },
  {
   "cell_type": "markdown",
   "metadata": {},
   "source": [
    "0.4m: "
   ]
  },
  {
   "cell_type": "code",
   "execution_count": null,
   "metadata": {
    "collapsed": true
   },
   "outputs": [],
   "source": []
  }
 ],
 "metadata": {
  "anaconda-cloud": {},
  "kernelspec": {
   "display_name": "Python [Root]",
   "language": "python",
   "name": "Python [Root]"
  },
  "language_info": {
   "codemirror_mode": {
    "name": "ipython",
    "version": 3
   },
   "file_extension": ".py",
   "mimetype": "text/x-python",
   "name": "python",
   "nbconvert_exporter": "python",
   "pygments_lexer": "ipython3",
   "version": "3.5.2"
  }
 },
 "nbformat": 4,
 "nbformat_minor": 0
}
