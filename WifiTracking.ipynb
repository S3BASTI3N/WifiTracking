{
 "cells": [
  {
   "cell_type": "code",
   "execution_count": 1,
   "metadata": {
    "collapsed": false
   },
   "outputs": [],
   "source": [
    "%matplotlib inline\n",
    "\n",
    "import scipy.constants\n",
    "import numpy as np\n",
    "import matplotlib.pyplot as plt\n",
    "import math\n",
    "import scipy as sp\n",
    "from scipy.optimize import minimize"
   ]
  },
  {
   "cell_type": "markdown",
   "metadata": {},
   "source": [
    "0.2 a The Friis free space equation consists of:\n",
    "\n",
    "$$P_r = P_t + 20 \\times \\log^{10}{\\frac{c}{4\\pi f r}}$$\n",
    "\n",
    "where P_t equals the transmission power, c the speed of sound, f the frequency and r the distance. Plotting this for f is 2.4Ghz and r between 0.4 and 30 metres results in the plot down below. As we can see the router is more sensitive to devices that are closer to the router. The difference in signal strength between devices that are 1 and 2 meters from the router is greater than the difference in signal strength between devices that are 10 and 11 meters from the router."
   ]
  },
  {
   "cell_type": "code",
   "execution_count": 2,
   "metadata": {
    "collapsed": false
   },
   "outputs": [
    {
     "data": {
      "image/png": "[encoded data removed]",
      "text/plain": [
       "<matplotlib.figure.Figure at 0xa745cc0>"
      ]
     },
     "metadata": {},
     "output_type": "display_data"
    }
   ],
   "source": [
    "c  = scipy.constants.speed_of_light\n",
    "f  = 2.4e9\n",
    "r  = np.arange(0.4, 30, 0.1)\n",
    "Pt = 0\n",
    "P  = Pt + 20 * np.log10(c/(4.* np.pi * f * r))\n",
    "\n",
    "plt.figure(1)\n",
    "plt.plot(r,P)\n",
    "plt.show()"
   ]
  },
  {
   "cell_type": "markdown",
   "metadata": {},
   "source": [
    "b: This equation can also be inverted to r as a function of P_r:\n",
    "    \n",
    "$$r = \\frac{c}{4 \\pi f 10^{\\frac{P_r - P_t}{20}}}$$"
   ]
  },
  {
   "cell_type": "code",
   "execution_count": 3,
   "metadata": {
    "collapsed": false
   },
   "outputs": [
    {
     "name": "stdout",
     "output_type": "stream",
     "text": [
      "('The difference in metres between -30 to -31 and -60 to -61 is:', 0.0, 'and', 89.46272173569267)\n"
     ]
    }
   ],
   "source": [
    "def getDistance(Pr):\n",
    "    return c/(4*np.pi*f*math.pow(10, (Pr-Pt)/20))\n",
    "\n",
    "d30 = getDistance(-31) - getDistance(-30)\n",
    "d60 = getDistance(-61) - getDistance(-60)\n",
    "\n",
    "print(\"The difference in metres between -30 to -31 and -60 to -61 is:\", d30, \"and\", d60)"
   ]
  },
  {
   "cell_type": "markdown",
   "metadata": {},
   "source": [
    "c: As can be seen above, the difference in distance between 30 and 31 dBm is 0.0384 metres and between -60 and -61 dBm is 1.21 metres. This that with a lower signal strength the difference in strength has a larger influence on the difference in distance."
   ]
  },
  {
   "cell_type": "markdown",
   "metadata": {},
   "source": [
    "d: This also means that the uncertainty for the distance is larger when the signal strength is smaller. As an error in the measured signal strength has a larger influance on the resulting calculated distance."
   ]
  },
  {
   "cell_type": "markdown",
   "metadata": {},
   "source": [
    "e: In order to reconstruct the location of the client triangulation can be used. There exists unfortunately no exact solution as can be seen in the picture below. There is no point where all the circles intersect \n"
   ]
  },
  {
   "cell_type": "code",
   "execution_count": 4,
   "metadata": {
    "collapsed": false
   },
   "outputs": [
    {
     "data": {
      "image/png": "[encoded data removed]",
      "text/plain": [
       "<matplotlib.figure.Figure at 0xa7c6940>"
      ]
     },
     "metadata": {},
     "output_type": "display_data"
    }
   ],
   "source": [
    "c1 = plt.Circle((0,0), 15, alpha=0.5)\n",
    "c2 = plt.Circle((0,20), 15, alpha=0.5)\n",
    "c3 = plt.Circle((20,10), 15, alpha=0.5)\n",
    "fig,ax=plt.subplots()\n",
    "plt.xlim(-16,36)\n",
    "plt.ylim(-16,36)\n",
    "\n",
    "ax.add_artist(c1)\n",
    "ax.add_artist(c2)\n",
    "ax.add_artist(c3)\n",
    "\n",
    "plt.show()"
   ]
  },
  {
   "cell_type": "markdown",
   "metadata": {},
   "source": [
    "f: To Calculate the signal strength of a client at a certain location with a certain router the original formula can be rewritten to:\n",
    "\n",
    "$$P_r = P_t + 20 \\times \\log^{10}({\\frac{c}{4\\pi f r}})$$\n",
    "$$P_r = P_t + 20 \\times (\\log^{10}({\\frac{c}{4\\pi f}}) - \\log^{10}({r}))$$\n",
    "$$P_r = P_t + 20 \\times (\\log^{10}({\\frac{c}{4\\pi f}}) - \\log^{10}(\\sqrt{(x-x_i)^2 + (y-y_i)^2 + Z^2}))$$\n",
    "$$P_r = P_t + 20 \\times \\log^{10}({\\frac{c}{4\\pi f}}) - 20 \\times \\log^{10}(\\sqrt{(x-x_i)^2 + (y-y_i)^2 + Z^2})$$\n",
    "$$P_r = P_t + 20 \\times \\log^{10}({\\frac{c}{4\\pi f}}) - 20 \\times \\log^{10}(((x-x_i)^2 + (y-y_i)^2 + Z^2)^\\frac{1}{2})$$\n",
    "$$P_r = P_t + 20 \\times \\log^{10}({\\frac{c}{4\\pi f}}) - 10 \\times \\log^{10}((x-x_i)^2 + (y-y_i)^2 + Z^2)$$\n",
    "\n"
   ]
  },
  {
   "cell_type": "markdown",
   "metadata": {},
   "source": [
    "g: "
   ]
  },
  {
   "cell_type": "code",
   "execution_count": 5,
   "metadata": {
    "collapsed": false
   },
   "outputs": [
    {
     "data": {
      "image/png": "[encoded data removed]",
      "text/plain": [
       "<matplotlib.figure.Figure at 0x1acce5f8>"
      ]
     },
     "metadata": {},
     "output_type": "display_data"
    },
    {
     "name": "stdout",
     "output_type": "stream",
     "text": [
      "('The mean and deviation are:', -0.05361427262299228, 'and', 1.0211922595251026)\n"
     ]
    }
   ],
   "source": [
    "def getExpectedStrength(x, y, xi, yi, Z, Pt):\n",
    "    return (Pt + 20 * np.log10(c/(4*np.pi*f)) -\n",
    "            10*np.log10(math.pow(x-xi,2) + math.pow(y-yi,2) + math.pow(Z,2)))\n",
    "\n",
    "def getMeassuredStrength(x, y, xi, yi, Z, Pt, G, sigma, noise=None):\n",
    "    if(not noise): \n",
    "        noise = np.random.normal(0, sigma);\n",
    "    return (Pt + G * np.log10(c/(4*np.pi*f)) -\n",
    "            10*np.log10(math.pow(x-xi,2) + math.pow(y-yi,2) + math.pow(Z,2)) +\n",
    "            noise)\n",
    "Z = 2\n",
    "G = 20\n",
    "\n",
    "sigma = 1\n",
    "expectedStrength = getExpectedStrength(20, 0, 0, 0, Z, 0)\n",
    "meassurements = [getMeassuredStrength(20, 0, 0, 0, Z, 0, G, sigma) for x in range(1000)]\n",
    "nRisiduals = (meassurements - expectedStrength)/sigma\n",
    "plt.hist(nRisiduals, bins=10)\n",
    "plt.show()\n",
    "\n",
    "mean = np.mean(nRisiduals)\n",
    "mu = np.std(nRisiduals)\n",
    "\n",
    "print(\"The mean and deviation are:\", mean, \"and\", mu)"
   ]
  },
  {
   "cell_type": "markdown",
   "metadata": {},
   "source": [
    "h: If you underestimatethe noise/fluctuations/measurement uncertainties, the deviation gets smaller. If you overestimate, the deviation will get larger, meaning you are even more uncertain about your predictions."
   ]
  },
  {
   "cell_type": "code",
   "execution_count": 6,
   "metadata": {
    "collapsed": false
   },
   "outputs": [
    {
     "name": "stdout",
     "output_type": "stream",
     "text": [
      "('The mean and deviation when underestimating are:', -0.054691550331823664, 'and', 1.9873862193562641)\n"
     ]
    },
    {
     "data": {
      "image/png": "[encoded data removed]",
      "text/plain": [
       "<matplotlib.figure.Figure at 0x1acf40b8>"
      ]
     },
     "metadata": {},
     "output_type": "display_data"
    },
    {
     "name": "stdout",
     "output_type": "stream",
     "text": [
      "('The mean and deviation when overestimating are:', -0.013672887582955916, 'and', 0.49684655483906603)\n"
     ]
    },
    {
     "data": {
      "image/png": "[encoded data removed]",
      "text/plain": [
       "<matplotlib.figure.Figure at 0x1b2135c0>"
      ]
     },
     "metadata": {},
     "output_type": "display_data"
    }
   ],
   "source": [
    "sigma = 2\n",
    "G = 20\n",
    "expectedStrength = getExpectedStrength(20, 0, 0, 0, Z, 0)\n",
    "meassurements = [getMeassuredStrength(20, 0, 0, 0, Z, 0, G, sigma) for x in range(1000)]\n",
    "\n",
    "# Underestimate\n",
    "nRisiduals = (meassurements - expectedStrength)/1\n",
    "mean = np.mean(nRisiduals)\n",
    "mu = np.std(nRisiduals)\n",
    "print(\"The mean and deviation when underestimating are:\", mean, \"and\", mu)\n",
    "plt.hist(nRisiduals, bins=10)\n",
    "plt.show()\n",
    "\n",
    "# Overestimate\n",
    "nRisiduals = (meassurements - expectedStrength)/4\n",
    "mean = np.mean(nRisiduals)\n",
    "mu = np.std(nRisiduals)\n",
    "print(\"The mean and deviation when overestimating are:\", mean, \"and\", mu)\n",
    "plt.hist(nRisiduals, bins=10)\n",
    "plt.show()"
   ]
  },
  {
   "cell_type": "markdown",
   "metadata": {},
   "source": [
    "i: The mean is no longer at zero, which means that there is an single error that affects all measurements."
   ]
  },
  {
   "cell_type": "code",
   "execution_count": 7,
   "metadata": {
    "collapsed": false
   },
   "outputs": [
    {
     "data": {
      "image/png": "[encoded data removed]",
      "text/plain": [
       "<matplotlib.figure.Figure at 0x1af3bc50>"
      ]
     },
     "metadata": {},
     "output_type": "display_data"
    },
    {
     "name": "stdout",
     "output_type": "stream",
     "text": [
      "('The mean and deviation are:', 10.012447013920701, 'and', 0.98236665906418164)\n"
     ]
    }
   ],
   "source": [
    "G = 15\n",
    "\n",
    "sigma = 1\n",
    "expectedStrength = getExpectedStrength(20, 0, 0, 0, Z, 0)\n",
    "meassurements = [getMeassuredStrength(20, 0, 0, 0, Z, 0, G, sigma) for x in range(1000)]\n",
    "nRisiduals = (meassurements - expectedStrength)/sigma\n",
    "plt.hist(nRisiduals, bins=10)\n",
    "plt.show()\n",
    "\n",
    "mean = np.mean(nRisiduals)\n",
    "mu = np.std(nRisiduals)\n",
    "\n",
    "print(\"The mean and deviation are:\", mean, \"and\", mu)"
   ]
  },
  {
   "cell_type": "markdown",
   "metadata": {},
   "source": [
    "j: In general, we would like to see a mean of zero and a deviation of one in my pull distribution."
   ]
  },
  {
   "cell_type": "markdown",
   "metadata": {},
   "source": [
    "k: When generating a single wifi packet without noise and an assumed sigma of 1dBm, the $\\chi^{2}$ is at its minimum at (5,5) which is the actual position:"
   ]
  },
  {
   "cell_type": "code",
   "execution_count": 8,
   "metadata": {
    "collapsed": false
   },
   "outputs": [
    {
     "data": {
      "image/png": "[encoded data removed]",
      "text/plain": [
       "<matplotlib.figure.Figure at 0x1ab8c160>"
      ]
     },
     "metadata": {},
     "output_type": "display_data"
    }
   ],
   "source": [
    "def estimatePositionWithoutNoise(routers, assumedClient, actualClient, sigma, G, Pt):\n",
    "    x,y,z = assumedClient\n",
    "    xreal, yreal, zreal = actualClient\n",
    "    Chi = 0\n",
    "    for xi,yi,zi in routers:\n",
    "        Z = zi - z\n",
    "        Si = getExpectedStrength(x,y,xi,yi,Z,Pt)\n",
    "        Pri = getExpectedStrength(xreal,yreal,xi,yi,zreal-zi,Pt)\n",
    "        Chi += math.pow(Si-Pri,2)/math.pow(sigma,2)\n",
    "    return Chi\n",
    "\n",
    "\n",
    "\n",
    "routers = [[0, 0, 3],[ 0, 20, 3],[20, 0, 3],[20, 20, 3]]\n",
    "actualClient = [5,5,1]\n",
    "X = np.arange(-5,16,1)\n",
    "Chis = [[x, estimatePositionWithoutNoise(routers, [x,5,1], actualClient, 1, 20, 0)] for x in X]\n",
    "\n",
    "Chis = np.matrix(Chis)\n",
    "plt.plot(Chis[:,0],Chis[:,1])\n",
    "plt.show()"
   ]
  },
  {
   "cell_type": "markdown",
   "metadata": {},
   "source": [
    "l: When generating a single wifi packet with random Gaussian noise and a sigma of 1dBm, the $\\chi^{2}$ is at its minimum around (5,5) which is the actual position, but not necessarily exactly at (5,5. If you run it different times, the minimum stays around (5,5) sometimes actually being at (5,5) but not always."
   ]
  },
  {
   "cell_type": "code",
   "execution_count": 9,
   "metadata": {
    "collapsed": false
   },
   "outputs": [
    {
     "data": {
      "image/png": "[encoded data removed]",
      "text/plain": [
       "<matplotlib.figure.Figure at 0x1ab72080>"
      ]
     },
     "metadata": {},
     "output_type": "display_data"
    },
    {
     "data": {
      "image/png": "[encoded data removed]",
      "text/plain": [
       "<matplotlib.figure.Figure at 0x1acf4ef0>"
      ]
     },
     "metadata": {},
     "output_type": "display_data"
    },
    {
     "data": {
      "image/png": "[encoded data removed]",
      "text/plain": [
       "<matplotlib.figure.Figure at 0x1aaf1588>"
      ]
     },
     "metadata": {},
     "output_type": "display_data"
    },
    {
     "data": {
      "image/png": "[encoded data removed]",
      "text/plain": [
       "<matplotlib.figure.Figure at 0x1b39d8d0>"
      ]
     },
     "metadata": {},
     "output_type": "display_data"
    }
   ],
   "source": [
    "def estimatePositionWithNoise(routers, assumedClient, actualClient, sigma, G, Pt, noise, unc=sigma):\n",
    "    x,y,z = assumedClient\n",
    "    xreal, yreal, zreal = actualClient\n",
    "    Chi = 0\n",
    "    for i,[xi,yi,zi] in enumerate(routers):\n",
    "        Z = zi - z\n",
    "        Si = getExpectedStrength(x,y,xi,yi,Z,Pt)\n",
    "        Pri = getMeassuredStrength(xreal,yreal, xi, yi, zreal-zi, Pt, G, sigma, noise[i])\n",
    "        \n",
    "        Chi += math.pow(Si-Pri,2)/math.pow(unc,2)\n",
    "    return Chi\n",
    "\n",
    "routers = [[0, 0, 3],[ 0, 20, 3],[20, 0, 3],[20, 20, 3]]\n",
    "actualClient = [5,5,1]\n",
    "X = np.arange(-5,16,1)\n",
    "noise = [np.random.normal(0, 1) for x in range(4)]\n",
    "#Chis = [[x, estimatePositionWithNoise(routers, [x,5,1], actualClient, 1, 20, 0, noise)] for x in X]\n",
    "for i in range(0,4):\n",
    "    Chis = []\n",
    "    for x in X:\n",
    "        noise = [np.random.normal(0, 1) for x in range(4)]\n",
    "        Chis.append([x, estimatePositionWithNoise(routers, [x,5,1], actualClient, 1, 20, 0, noise)])\n",
    "\n",
    "    Chis = np.matrix(Chis)\n",
    "    plt.plot(Chis[:,0],Chis[:,1])\n",
    "    plt.show()"
   ]
  },
  {
   "cell_type": "markdown",
   "metadata": {},
   "source": [
    "m: The minimize function (the Powell method) will find the optimum of the estimated position at location (5,5)."
   ]
  },
  {
   "cell_type": "code",
   "execution_count": 10,
   "metadata": {
    "collapsed": false
   },
   "outputs": [
    {
     "name": "stdout",
     "output_type": "stream",
     "text": [
      "[ 5.  5.]\n"
     ]
    }
   ],
   "source": [
    "def g(X):\n",
    "    x,y = X\n",
    "    routers = [[0, 0, 3],[ 0, 20, 3],[20, 0, 3],[20, 20, 3]]\n",
    "    actualClient = [5,5,1]\n",
    "    return estimatePositionWithoutNoise(routers, [x,y,1], actualClient, 1, 20, 0)\n",
    "\n",
    "print(minimize(g,[3,8], method='Powell').x)\n",
    "    "
   ]
  },
  {
   "cell_type": "markdown",
   "metadata": {},
   "source": [
    "0.4n: The average estimated position is quite good (around (5,5)), the $\\chi^{2}$ value is also close to the expected value of 2. We expect it to be 2 since the number of datapoints (routers) is 4 and the number of parameters is 2 (x and y position)."
   ]
  },
  {
   "cell_type": "code",
   "execution_count": null,
   "metadata": {
    "collapsed": true
   },
   "outputs": [],
   "source": []
  },
  {
   "cell_type": "code",
   "execution_count": 11,
   "metadata": {
    "collapsed": false
   },
   "outputs": [
    {
     "data": {
      "image/png": "[encoded data removed]",
      "text/plain": [
       "<matplotlib.figure.Figure at 0x1b2075f8>"
      ]
     },
     "metadata": {},
     "output_type": "display_data"
    },
    {
     "data": {
      "image/png": "[encoded data removed]",
      "text/plain": [
       "<matplotlib.figure.Figure at 0x1b723a58>"
      ]
     },
     "metadata": {},
     "output_type": "display_data"
    },
    {
     "name": "stdout",
     "output_type": "stream",
     "text": [
      "('Chi squared =', 1.9915221646600283)\n",
      "('Position =', matrix([[ 4.93631722,  4.9049477 ]]))\n"
     ]
    }
   ],
   "source": [
    "noise = []\n",
    "\n",
    "def g2(X):\n",
    "    x,y = X\n",
    "    routers = [[0, 0, 3],[ 0, 20, 3],[20, 0, 3],[20, 20, 3]]\n",
    "    actualClient = [5,5,1]\n",
    "    return estimatePositionWithNoise(routers, [x,y,1], actualClient, 1 ,20, 0, noise)\n",
    "\n",
    "results = []\n",
    "Chis = []\n",
    "#print(minimize(g2,[10,10], method='Powell'))\n",
    "\n",
    "for i in range(0,1000):\n",
    "    noise = [np.random.normal(0, 1) for x in range(4)]\n",
    "    randx = np.random.rand()*19\n",
    "    randy = np.random.rand()*19\n",
    "    minimized = minimize(g2,[randx,randy], method='Powell')\n",
    "    results.append(minimized.x)\n",
    "    Chis.append(minimized.fun)\n",
    "\n",
    "results = np.matrix(results)\n",
    "plt.scatter(results[:,0],results[:,1])\n",
    "plt.ylim(0,20)\n",
    "plt.xlim(0,20)\n",
    "plt.show()\n",
    "\n",
    "plt.hist(Chis, bins=50)\n",
    "plt.show()\n",
    "\n",
    "print(\"Chi squared =\", np.mean(Chis))\n",
    "print(\"Position =\", results.mean(0))"
   ]
  },
  {
   "cell_type": "markdown",
   "metadata": {},
   "source": [
    "o: The average $\\chi^{2}$ value of the minimums agrees with the NDoF which is 4 - 2 = 2 (number of routers - number of parameters)."
   ]
  },
  {
   "cell_type": "markdown",
   "metadata": {},
   "source": [
    "p: The minimums hisogram (green in the histogram below) seems to agree with the $\\chi^{2}$ histogram (blue in the histogram below) quite well."
   ]
  },
  {
   "cell_type": "code",
   "execution_count": 12,
   "metadata": {
    "collapsed": false
   },
   "outputs": [
    {
     "data": {
      "image/png": "[encoded data removed]",
      "text/plain": [
       "<matplotlib.figure.Figure at 0x1b85f080>"
      ]
     },
     "metadata": {},
     "output_type": "display_data"
    }
   ],
   "source": [
    "plt.hist(np.random.chisquare(2,1000), alpha=0.3, bins=100,label='chi2 distribution',normed=True)\n",
    "plt.hist(Chis, bins=100, alpha=0.3, label='wifi chi2', normed=True)\n",
    "plt.xlim(0,20)\n",
    "plt.ylim(0,0.5)\n",
    "plt.legend()\n",
    "plt.show()\n"
   ]
  },
  {
   "cell_type": "markdown",
   "metadata": {},
   "source": [
    "q: The cloud of estimated device positions became more scattered, because we added Gaussian noise with a sigma of 2 while we used a sigma of 1 as an estimation. The $\\chi^{2}$ became higher, which is to be expected when we underestimate the noise in our model. The $\\chi^{2}$ distribution is more flat than we'd expect, this is also because we underestimate the noise."
   ]
  },
  {
   "cell_type": "code",
   "execution_count": 13,
   "metadata": {
    "collapsed": false
   },
   "outputs": [
    {
     "data": {
      "image/png": "[encoded data removed]",
      "text/plain": [
       "<matplotlib.figure.Figure at 0x1bd6ff98>"
      ]
     },
     "metadata": {},
     "output_type": "display_data"
    },
    {
     "data": {
      "image/png": "[encoded data removed]",
      "text/plain": [
       "<matplotlib.figure.Figure at 0x1bf03198>"
      ]
     },
     "metadata": {},
     "output_type": "display_data"
    },
    {
     "name": "stdout",
     "output_type": "stream",
     "text": [
      "('The average chi-squared is:', 6.7328511632416594)\n",
      "('The average position is:', matrix([[ 4.23688125,  4.26285447]]))\n"
     ]
    },
    {
     "data": {
      "image/png": "[encoded data removed]",
      "text/plain": [
       "<matplotlib.figure.Figure at 0x1aeb9080>"
      ]
     },
     "metadata": {},
     "output_type": "display_data"
    }
   ],
   "source": [
    "noise = []\n",
    "\n",
    "def g2(X):\n",
    "    x,y = X\n",
    "    routers = [[0, 0, 3],[ 0, 20, 3],[20, 0, 3],[20, 20, 3]]\n",
    "    actualClient = [5,5,1]\n",
    "    return estimatePositionWithNoise(routers, [x,y,1], actualClient, 2 ,20, 0, noise, 1)\n",
    "\n",
    "results = []\n",
    "Chis = []\n",
    "#print(minimize(g2,[10,10], method='Powell'))\n",
    "\n",
    "for i in range(0,1000):\n",
    "    noise = [np.random.normal(0, 2) for x in range(4)]\n",
    "    randx = np.random.rand()*19\n",
    "    randy = np.random.rand()*19\n",
    "    minimized = minimize(g2,[randx,randy], method='Powell')\n",
    "    results.append(minimized.x)\n",
    "    Chis.append(minimized.fun)\n",
    "\n",
    "results = np.matrix(results)\n",
    "plt.scatter(results[:,0],results[:,1])\n",
    "plt.xlim(0,20)\n",
    "plt.ylim(0,20)\n",
    "plt.show()\n",
    "\n",
    "plt.hist(Chis, bins=100)\n",
    "plt.show()\n",
    "\n",
    "print(\"The average chi-squared is:\", np.mean(Chis))\n",
    "print(\"The average position is:\", results.mean(0))\n",
    "\n",
    "plt.hist(np.random.chisquare(2,1000), alpha=0.5, bins=100,label='chi2 distribution',normed=True)\n",
    "plt.hist(Chis, bins=100, alpha=0.5, label='wifi chi2', normed=True)\n",
    "plt.xlim(0,20)\n",
    "plt.ylim(0,0.5)\n",
    "plt.legend()\n",
    "plt.show()"
   ]
  },
  {
   "cell_type": "markdown",
   "metadata": {},
   "source": [
    "\n",
    "\n",
    "\n"
   ]
  },
  {
   "cell_type": "markdown",
   "metadata": {},
   "source": [
    "r: When the average minimim $\\chi^{2}$ value is much higher than the NDoF, it means that either the model is wrong or the measurement/data uncertainties have been underestimated. Experimenting with the uncertainties should explain whether the model was wrong or the initial estimated uncertainties were wrong.\n"
   ]
  },
  {
   "cell_type": "markdown",
   "metadata": {
    "collapsed": false
   },
   "source": [
    "**0.5**"
   ]
  },
  {
   "cell_type": "markdown",
   "metadata": {
    "collapsed": true
   },
   "source": [
    "s) <br>\n",
    "let:\n",
    "$C_{i} = P_{i}(x_0,y_0),\n",
    "D_{x/y}^{i} = \\frac{\\partial}{\\partial x/y} C_{i}\n",
    "$ <br>\n",
    "\n",
    "\n",
    "$$\n",
    "\\begin{aligned}\n",
    "\\chi^2 &= \\sum_{i} \\frac{1}{\\sigma_{i}^2}\\left(S_{i} - P_{i}(x,y)\\right)^2 \\\\\n",
    "&= \\sum_{i} \\frac{1}{\\sigma_{i}^2}\\left(S_{i} - (C_{i} + D_{x}^{i}(x-x_0) + D_{y}^{i}(y -y_0) ) \\right)^2 \\\\\n",
    "&= \\sum_{i} \\left( (S_{i} - C_{i})^2 - 2 (S_{i} - C_{i})\\left(D_{x}^{i}(x-x_0) + D_{y}^{i}(y -y_0)\\right) + \\left(D_{x}^{i}(x-x_0) + D_{y}^{i}(y -y_0)\\right)^2 \\right)\n",
    "\\end{aligned}\n",
    "$$ <br>\n",
    "\n",
    "This can be expanded further but with little insight gained."
   ]
  },
  {
   "cell_type": "markdown",
   "metadata": {
    "collapsed": true
   },
   "source": [
    "t) <br>\n",
    "\n",
    "\n",
    "$$\n",
    "\\begin{aligned}\n",
    "\\frac{\\partial}{\\partial x} \\chi^2 &= \\frac{\\partial}{\\partial x} \\sum_{i} \\frac{1}{\\sigma_{i}^2}\\left(S_{i} - P_{i}(x,y)\\right)^2 \\\\\n",
    "&= \\sum_{i} 2 \\frac{1}{\\sigma_{i}^2}\\left(S_{i} - P_{i}(x,y)\\right) \\frac{\\partial}{\\partial x} P_{i}(x,y)\n",
    "\\end{aligned}\n",
    "$$ <br>\n",
    "\n",
    "Making the substitution from $(3)$ and by noticing \n",
    "$$ \n",
    "\\begin{aligned}\n",
    "\\frac{\\partial}{\\partial x} P_{i}(x,y) &=  \\frac{\\partial}{\\partial x} P_{i}(x_0,y_0) \\\\\n",
    "&= D_{x}^{i}\n",
    "\\end{aligned}\n",
    "$$ \n",
    "we see: <br>\n",
    "\n",
    "$$\n",
    "\\begin{aligned}\n",
    "\\frac{\\partial}{\\partial x} \\chi^2 &= 2 \\sum_{i} \\frac{D_{x}^{i}}{\\sigma_{i}^2}\\left(S_{i} - C_{i} + D_{x}^{i}(x-x_0) +D_{y}^{i}(y -y_0)  \\right)\n",
    "\\end{aligned}\n",
    "$$ <br>\n",
    "\n",
    "from $(4)$:\n",
    "$$\n",
    "\\begin{aligned}\n",
    "2 \\sum_{i} \\frac{D_{x}^{i}}{\\sigma_{i}^2}\\left(S_{i} - C_{i} + D_{x}^{i}(x-x_0) +D_{y}^{i}(y -y_0)  \\right)\n",
    "&= 2 \\sum_{i} \\frac{D_{x}^{i}}{\\sigma_{i}^2}\\left(S_{i} - C_{i} \\right)\n",
    "\\end{aligned}\n",
    "$$ <br>\n",
    "\n",
    "so:\n",
    "$$\n",
    "\\begin{aligned}\n",
    "\\sum_{i} \\left(D_{x}^{i}(x-x_0) +D_{y}^{i}(y -y_0)  \\right) &= 0\n",
    "\\end{aligned}\n",
    "$$ <br>\n",
    "\n",
    "by substituting this back into the taylor expanded $\\chi^2$ we get:\n",
    "$$\n",
    "\\begin{aligned}\n",
    "\\chi^2 &= \\sum_{i} \\frac{1}{\\sigma_{i}^2} \\left( (S_{i} - C_{i})^2 + \\left(D_{x}^{i}(x-x_0) + D_{y}^{i}(y -y_0)\\right)^2 \\right) \\\\\n",
    "&= \\sum_{i} \\frac{1}{\\sigma_{i}^2} \\left( (S_{i} - C_{i})^2 + (D_{x}^{i})^2(x-x_0)^2 + (D_{y}^{i})^2(y -y_0)^2 + 2 D_{x}^{i}(x-x_0)D_{y}^{i}(y -y_0)\\right)\n",
    "\\end{aligned}\n",
    "$$ <br>"
   ]
  },
  {
   "cell_type": "markdown",
   "metadata": {},
   "source": [
    "u) <br>\n",
    "with $(x - x_0) = \\Delta x$ and $(y - y_0) = \\Delta y$ <br>\n",
    "$$\n",
    "\\begin{aligned}\n",
    "\\chi^2 &= \\sum_{i} \\frac{1}{\\sigma_{i}^2} \\left( (S_{i} - C_{i})^2 + (D_{x}^{i})^2\\Delta x^2 + (D_{y}^{i})^2\\Delta y^2 + 2 D_{x}^{i}D_{y}^{i}\\Delta x\\Delta y\\right) \\\\\n",
    "&= \\left( \\sum_{i} \\frac{1}{\\sigma_{i}^2} (S_{i} - C_{i})^2 \\right) + \\sum_{i} \\frac{1}{\\sigma_{i}^2} \\left((D_{x}^{i})^2\\Delta x^2 + (D_{y}^{i})^2\\Delta y^2 + 2 D_{x}^{i}D_{y}^{i}\\Delta x\\Delta y\\right)\n",
    "\\end{aligned}\n",
    "$$ <br>\n",
    "\n",
    "\n",
    "with\n",
    "$$\n",
    "A =  \\left( \\sum_{i} \\frac{1}{\\sigma_{i}^2} (S_{i} - C_{i})^2 \\right)\n",
    "$$\n",
    "$$\n",
    "\\hat{B} = \n",
    "\\begin{bmatrix}\n",
    "\\sum_{i}\\frac{1}{\\sigma_{i}^2}(D_{x}^{i})^2 & \\sum_{i}\\frac{1}{\\sigma_{i}^2} D_{x}^{i}D_{y}^{i} \\\\\n",
    "\\sum_{i}\\frac{1}{\\sigma_{i}^2} D_{x}^{i}D_{y}^{i} & \\sum_{i}\\frac{1}{\\sigma_{i}^2} (D_{y}^{i})^2 \n",
    "\\end{bmatrix}\n",
    "$$\n",
    "\n",
    "then:\n",
    "$$\n",
    "\\chi^2 = A + (\\Delta x, \\Delta y) \\hat{B} (\\Delta x, \\Delta y)^{T}\n",
    "$$"
   ]
  },
  {
   "cell_type": "markdown",
   "metadata": {},
   "source": [
    "v) <br>\n",
    "assume:\n",
    "$$\n",
    "\\chi_0 = \\chi^2(x_0, y_0) \\\\\n",
    "\\chi_1 = \\chi^2(x_1,y_1) \\\\\n",
    "$$\n",
    "\n",
    "with $\\chi_1 = \\chi_0 + 1$ so:\n",
    "$$\n",
    "(\\Delta x_1, \\Delta y_1) \\hat{B} (\\Delta x_1, \\Delta y_1)^{T} = (\\Delta x_0, \\Delta y_0) \\hat{B} (\\Delta x_0, \\Delta y_0)^{T} + 1\n",
    "$$\n",
    "\n",
    "but as $\\Delta x_0 = x_0 - x_0 = 0$ this simplifies to:\n",
    "$$\n",
    "(\\Delta x_1, \\Delta y_1) \\hat{B} (\\Delta x_1, \\Delta y_1)^{T} = 1\n",
    "$$\n",
    "\n",
    "this can be rewritten in the form\n",
    "$$\n",
    "\\Delta x_1^2 \\left[D_{x}^{i}\\right]^2 + \\Delta x_1\\left[2 \\Delta y_1 D_{x}^{i} D_{y}^{i} \\right] + \\left[ \\Delta y_1^2(D_{y}^{i})^2 - 1 \\right] = 0\n",
    "$$\n",
    "\n",
    "so solving using the quadratic formula gives the result\n",
    "$$\n",
    "\\Delta x_1 = \\frac{-\\Delta y_1 D_{y}^{i} \\pm 1}{D_{x}^{i}}\n",
    "$$\n",
    "\n",
    "\n",
    "\n",
    "NOTES: this seems wrong, there is still more to do so maybe we should ask on tuesday/wednesday"
   ]
  },
  {
   "cell_type": "markdown",
   "metadata": {},
   "source": [
    "for w) onwards..\n",
    "\n",
    "\n",
    "\n",
    "covariance matrix of x & y is given by $\\hat{B}^{-1}$ so...\n",
    "\n",
    "variance of x & y is given by $tr(\\hat{B}^{-1})$\n",
    "\n",
    "noise should definitely not be 1, if the noise is good then $\\chi^2 \\$"
   ]
  },
  {
   "cell_type": "code",
   "execution_count": null,
   "metadata": {
    "collapsed": true
   },
   "outputs": [],
   "source": []
  },
  {
   "cell_type": "code",
   "execution_count": null,
   "metadata": {
    "collapsed": true
   },
   "outputs": [],
   "source": []
  },
  {
   "cell_type": "code",
   "execution_count": null,
   "metadata": {
    "collapsed": true
   },
   "outputs": [],
   "source": []
  },
  {
   "cell_type": "code",
   "execution_count": null,
   "metadata": {
    "collapsed": true
   },
   "outputs": [],
   "source": []
  }
 ],
 "metadata": {
  "anaconda-cloud": {},
  "kernelspec": {
   "display_name": "Python 2",
   "language": "python",
   "name": "python2"
  },
  "language_info": {
   "codemirror_mode": {
    "name": "ipython",
    "version": 2
   },
   "file_extension": ".py",
   "mimetype": "text/x-python",
   "name": "python",
   "nbconvert_exporter": "python",
   "pygments_lexer": "ipython2",
   "version": "2.7.11"
  }
 },
 "nbformat": 4,
 "nbformat_minor": 0
}
