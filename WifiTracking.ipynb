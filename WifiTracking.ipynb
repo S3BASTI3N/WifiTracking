{
 "cells": [
  {
   "cell_type": "code",
   "execution_count": 7,
   "metadata": {
    "collapsed": true
   },
   "outputs": [],
   "source": [
    "%matplotlib inline\n",
    "\n",
    "import scipy.constants\n",
    "import numpy as np\n",
    "import matplotlib.pyplot as plt\n",
    "import math"
   ]
  },
  {
   "cell_type": "markdown",
   "metadata": {},
   "source": [
    "0.2 a The Friis free space equation consists of:\n",
    "\n",
    "$$P_r = P_t + 20 \\times \\log^{10}{\\frac{c}{4\\pi f r}}$$\n",
    "\n",
    "where P_t equals the transmission power, c the speed of sound, f the frequency and r the distance. Plotting this for f is 2.4Ghz and r between 0.4 and 30 metres results in the following plot:"
   ]
  },
  {
   "cell_type": "code",
   "execution_count": 8,
   "metadata": {
    "collapsed": false
   },
   "outputs": [
    {
     "data": {
      "image/png": "[encoded data removed]",
      "text/plain": [
       "<matplotlib.figure.Figure at 0x7fb8d05fdeb8>"
      ]
     },
     "metadata": {},
     "output_type": "display_data"
    }
   ],
   "source": [
    "c  = scipy.constants.speed_of_light\n",
    "f  = 2.4e9\n",
    "r  = np.arange(0.4, 30, 0.1)\n",
    "Pt = 0\n",
    "P  = Pt + 20 * np.log10(c/(4.* np.pi * f * r))\n",
    "\n",
    "plt.figure(1)\n",
    "plt.plot(r,P)\n",
    "plt.show()"
   ]
  },
  {
   "cell_type": "markdown",
   "metadata": {},
   "source": [
    "b: This equation can also be inverted to r as a function of P_r:\n",
    "    \n",
    "$$r = \\frac{c}{4 \\pi f 10^{\\frac{P_r - P_t}{20}}}$$"
   ]
  },
  {
   "cell_type": "code",
   "execution_count": 38,
   "metadata": {
    "collapsed": false
   },
   "outputs": [
    {
     "name": "stdout",
     "output_type": "stream",
     "text": [
      "The difference in metres between -30 to -31 and -60 to -61 is: 0.03835527636485858 and 1.2129003359817592\n"
     ]
    }
   ],
   "source": [
    "def getDistance(Pr):\n",
    "    return c/(4*np.pi*f*math.pow(10, (Pr-Pt)/20))\n",
    "\n",
    "d30 = getDistance(-31) - getDistance(-30)\n",
    "d60 = getDistance(-61) - getDistance(-60)\n",
    "\n",
    "print(\"The difference in metres between -30 to -31 and -60 to -61 is:\", d30, \"and\", d60)"
   ]
  },
  {
   "cell_type": "markdown",
   "metadata": {},
   "source": [
    "c: As can be seen above, the difference in distance between 30 and 31 dBm is 0.0384 metres and between -60 and -61 dBm is 1.21 metres. This that with a lower signal strength the difference in strength has a larger influence on the difference in distance."
   ]
  },
  {
   "cell_type": "markdown",
   "metadata": {},
   "source": [
    "d: This also means that the uncertainty for the distance is larger when the signal strength is smaller. As an error in the measured signal strength has a larger influance on the resulting calculated distance."
   ]
  },
  {
   "cell_type": "markdown",
   "metadata": {},
   "source": [
    "0.3 e: In order to reconstruct the location of the client triangulation can be used. There excists unfortunatly no exact solution as can be seen in the picture below:\n",
    "\n",
    "**MARTIJN PLAATJE PAINT :D**"
   ]
  },
  {
   "cell_type": "markdown",
   "metadata": {},
   "source": [
    "f: To Calculate the signal strength of a client at a certain location with a certain router the original formula can be rewritten to:\n",
    "\n",
    "$$P_r = P_t + 20 \\times \\log^{10}({\\frac{c}{4\\pi f r}})$$\n",
    "$$P_r = P_t + 20 \\times (\\log^{10}({\\frac{c}{4\\pi f}}) - \\log^{10}({r}))$$\n",
    "$$P_r = P_t + 20 \\times (\\log^{10}({\\frac{c}{4\\pi f}}) - \\log^{10}(\\sqrt{(x-x_i)^2 + (y-y_i)^2 + Z^2}))$$\n",
    "$$P_r = P_t + 20 \\times \\log^{10}({\\frac{c}{4\\pi f}}) - 20 \\times \\log^{10}(\\sqrt{(x-x_i)^2 + (y-y_i)^2 + Z^2})$$\n",
    "$$P_r = P_t + 20 \\times \\log^{10}({\\frac{c}{4\\pi f}}) - 20 \\times \\log^{10}(((x-x_i)^2 + (y-y_i)^2 + Z^2)^\\frac{1}{2})$$\n",
    "$$P_r = P_t + 20 \\times \\log^{10}({\\frac{c}{4\\pi f}}) - 10 \\times \\log^{10}((x-x_i)^2 + (y-y_i)^2 + Z^2)$$\n",
    "\n"
   ]
  },
  {
   "cell_type": "markdown",
   "metadata": {},
   "source": [
    "g: **LEG RESULTATEN ONDER UIT**"
   ]
  },
  {
   "cell_type": "code",
   "execution_count": 42,
   "metadata": {
    "collapsed": false
   },
   "outputs": [
    {
     "data": {
      "image/png": "[encoded data removed]",
      "text/plain": [
       "<matplotlib.figure.Figure at 0x7fb8cddd1ef0>"
      ]
     },
     "metadata": {},
     "output_type": "display_data"
    },
    {
     "name": "stdout",
     "output_type": "stream",
     "text": [
      "The mean and deviation are: 0.0535894532869 and 1.02741029967\n"
     ]
    }
   ],
   "source": [
    "def getExpectedStrength(x, y, xi, yi, Z, Pt):\n",
    "    return (Pt + 20 * np.log10(c/(4*np.pi*f)) -\n",
    "            10*np.log10(math.pow(x-xi,2) + math.pow(y-yi,2) + math.pow(Z,2)))\n",
    "\n",
    "def getMeassuredStrength(x, y, xi, yi, Z, Pt, G, sigma):\n",
    "    return (Pt + G * np.log10(c/(4*np.pi*f)) -\n",
    "            10*np.log10(math.pow(x-xi,2) + math.pow(y-yi,2) + math.pow(Z,2)) +\n",
    "            np.random.normal(0, sigma))\n",
    "Z = 2\n",
    "G = 20\n",
    "\n",
    "sigma = 1\n",
    "expectedStrength = getExpectedStrength(20, 0, 0, 0, Z, 0)\n",
    "meassurements = [getMeassuredStrength(20, 0, 0, 0, Z, 0, G, sigma) for x in range(1000)]\n",
    "nRisiduals = (meassurements - expectedStrength)/sigma\n",
    "plt.hist(nRisiduals, bins=10)\n",
    "plt.show()\n",
    "\n",
    "mean = np.mean(nRisiduals)\n",
    "mu = np.std(nRisiduals)\n",
    "\n",
    "print(\"The mean and deviation are:\", mean, \"and\", mu)"
   ]
  },
  {
   "cell_type": "markdown",
   "metadata": {},
   "source": [
    "h: **LEG RESULTATEN ONDER UIT**"
   ]
  },
  {
   "cell_type": "code",
   "execution_count": 43,
   "metadata": {
    "collapsed": false
   },
   "outputs": [
    {
     "name": "stdout",
     "output_type": "stream",
     "text": [
      "The mean and deviation when underestimating are: -0.0780299774774 and 1.94487061556\n"
     ]
    },
    {
     "data": {
      "image/png": "[encoded data removed]",
      "text/plain": [
       "<matplotlib.figure.Figure at 0x7fb8cdddff98>"
      ]
     },
     "metadata": {},
     "output_type": "display_data"
    },
    {
     "name": "stdout",
     "output_type": "stream",
     "text": [
      "The mean and deviation when overestimating are: -0.0195074943694 and 0.48621765389\n"
     ]
    },
    {
     "data": {
      "image/png": "[encoded data removed]",
      "text/plain": [
       "<matplotlib.figure.Figure at 0x7fb8cdd55828>"
      ]
     },
     "metadata": {},
     "output_type": "display_data"
    }
   ],
   "source": [
    "sigma = 2\n",
    "expectedStrength = getExpectedStrength(20, 0, 0, 0, Z, 0)\n",
    "meassurements = [getMeassuredStrength(20, 0, 0, 0, Z, 0, G, sigma) for x in range(1000)]\n",
    "\n",
    "# Underestimate\n",
    "nRisiduals = (meassurements - expectedStrength)/1\n",
    "mean = np.mean(nRisiduals)\n",
    "mu = np.std(nRisiduals)\n",
    "print(\"The mean and deviation when underestimating are:\", mean, \"and\", mu)\n",
    "plt.hist(nRisiduals, bins=10)\n",
    "plt.show()\n",
    "\n",
    "# Overestimate\n",
    "nRisiduals = (meassurements - expectedStrength)/4\n",
    "mean = np.mean(nRisiduals)\n",
    "mu = np.std(nRisiduals)\n",
    "print(\"The mean and deviation when overestimating are:\", mean, \"and\", mu)\n",
    "plt.hist(nRisiduals, bins=10)\n",
    "plt.show()"
   ]
  },
  {
   "cell_type": "markdown",
   "metadata": {},
   "source": [
    "i: **EXPLAINED RESULTS BELOW** (mean is no longer 0 due to systematic error)"
   ]
  },
  {
   "cell_type": "code",
   "execution_count": 41,
   "metadata": {
    "collapsed": false
   },
   "outputs": [
    {
     "data": {
      "image/png": "[encoded data removed]",
      "text/plain": [
       "<matplotlib.figure.Figure at 0x7fb8cdef2f60>"
      ]
     },
     "metadata": {},
     "output_type": "display_data"
    },
    {
     "name": "stdout",
     "output_type": "stream",
     "text": [
      "The mean and deviation are: -10.0057294478 and 0.976872468461\n"
     ]
    }
   ],
   "source": [
    "G = 25\n",
    "\n",
    "sigma = 1\n",
    "expectedStrength = getExpectedStrength(20, 0, 0, 0, Z, 0)\n",
    "meassurements = [getMeassuredStrength(20, 0, 0, 0, Z, 0, G, sigma) for x in range(1000)]\n",
    "nRisiduals = (meassurements - expectedStrength)/sigma\n",
    "plt.hist(nRisiduals, bins=10)\n",
    "plt.show()\n",
    "\n",
    "mean = np.mean(nRisiduals)\n",
    "mu = np.std(nRisiduals)\n",
    "\n",
    "print(\"The mean and deviation are:\", mean, \"and\", mu)"
   ]
  },
  {
   "cell_type": "markdown",
   "metadata": {},
   "source": [
    "j: mean of zero and a standard deviation of one? **CHECK PLS**"
   ]
  },
  {
   "cell_type": "markdown",
   "metadata": {},
   "source": [
    "0.4 k: "
   ]
  },
  {
   "cell_type": "code",
   "execution_count": null,
   "metadata": {
    "collapsed": true
   },
   "outputs": [],
   "source": []
  }
 ],
 "metadata": {
  "anaconda-cloud": {},
  "kernelspec": {
   "display_name": "Python [Root]",
   "language": "python",
   "name": "Python [Root]"
  },
  "language_info": {
   "codemirror_mode": {
    "name": "ipython",
    "version": 3
   },
   "file_extension": ".py",
   "mimetype": "text/x-python",
   "name": "python",
   "nbconvert_exporter": "python",
   "pygments_lexer": "ipython3",
   "version": "3.5.2"
  }
 },
 "nbformat": 4,
 "nbformat_minor": 0
}
