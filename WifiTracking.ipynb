{
 "cells": [
  {
   "cell_type": "code",
   "execution_count": 181,
   "metadata": {
    "collapsed": false,
    "nbpresent": {
     "id": "7a4c91f8-fa4e-4081-983e-e6f31527914d"
    }
   },
   "outputs": [],
   "source": [
    "%matplotlib inline\n",
    "\n",
    "import scipy.constants\n",
    "import numpy as np\n",
    "import matplotlib.pyplot as plt\n",
    "import math\n",
    "import csv\n",
    "import scipy as sp\n",
    "from scipy.optimize import minimize\n",
    "from matplotlib.patches import Ellipse\n"
   ]
  },
  {
   "cell_type": "markdown",
   "metadata": {
    "nbpresent": {
     "id": "b69b5afb-5e0a-4166-be58-abba99f27efa"
    }
   },
   "source": [
    "0.2 a The Friis free space equation consists of:\n",
    "\n",
    "$$P_r = P_t + 20 \\times \\log^{10}{\\frac{c}{4\\pi f r}}$$\n",
    "\n",
    "where P_t equals the transmission power, c the speed of sound, f the frequency and r the distance. Plotting this for f is 2.4Ghz and r between 0.4 and 30 metres results in the plot down below. As we can see the router is more sensitive to devices that are closer to the router. The difference in signal strength between devices that are 1 and 2 meters from the router is greater than the difference in signal strength between devices that are 10 and 11 meters from the router."
   ]
  },
  {
   "cell_type": "code",
   "execution_count": 182,
   "metadata": {
    "collapsed": false,
    "nbpresent": {
     "id": "1fc3b5c6-226f-42f5-9193-b8b2f6d6526c"
    }
   },
   "outputs": [
    {
     "data": {
      "image/png": "[encoded data removed]",
      "text/plain": [
       "<matplotlib.figure.Figure at 0x7f51764da978>"
      ]
     },
     "metadata": {},
     "output_type": "display_data"
    }
   ],
   "source": [
    "c  = scipy.constants.speed_of_light\n",
    "f  = 2.4e9\n",
    "r  = np.arange(0.4, 30, 0.1)\n",
    "Pt = 0\n",
    "P  = Pt + 20 * np.log10(c/(4.* np.pi * f * r))\n",
    "\n",
    "plt.figure(1)\n",
    "plt.plot(r,P)\n",
    "plt.show()"
   ]
  },
  {
   "cell_type": "markdown",
   "metadata": {
    "nbpresent": {
     "id": "44225553-4f7a-45bf-88bd-b2dc34e9e5ec"
    }
   },
   "source": [
    "b: This equation can also be inverted to r as a function of P_r:\n",
    "    \n",
    "$$r = \\frac{c}{4 \\pi f 10^{\\frac{P_r - P_t}{20}}}$$"
   ]
  },
  {
   "cell_type": "code",
   "execution_count": 183,
   "metadata": {
    "collapsed": false,
    "nbpresent": {
     "id": "412971d4-94b7-472a-aab6-d9b03eb0c2ec"
    }
   },
   "outputs": [
    {
     "name": "stdout",
     "output_type": "stream",
     "text": [
      "The difference in metres between -30 to -31 and -60 to -61 is: 0.03835527636485858 and 1.2129003359817592\n"
     ]
    }
   ],
   "source": [
    "def getDistance(Pr):\n",
    "    return c/(4*np.pi*f*math.pow(10, (Pr-Pt)/20))\n",
    "\n",
    "d30 = getDistance(-31) - getDistance(-30)\n",
    "d60 = getDistance(-61) - getDistance(-60)\n",
    "\n",
    "print(\"The difference in metres between -30 to -31 and -60 to -61 is:\", d30, \"and\", d60)"
   ]
  },
  {
   "cell_type": "markdown",
   "metadata": {
    "nbpresent": {
     "id": "c5d1acbf-b35b-4112-9318-9324954018ae"
    }
   },
   "source": [
    "c: As can be seen above, the difference in distance between 30 and 31 dBm is 0.0384 metres and between -60 and -61 dBm is 1.21 metres. This that with a lower signal strength the difference in strength has a larger influence on the difference in distance."
   ]
  },
  {
   "cell_type": "markdown",
   "metadata": {
    "nbpresent": {
     "id": "d21f7dfd-1d93-49b7-a862-c2c2cf92a07a"
    }
   },
   "source": [
    "d: This also means that the uncertainty for the distance is larger when the signal strength is smaller. As an error in the measured signal strength has a larger influance on the resulting calculated distance."
   ]
  },
  {
   "cell_type": "markdown",
   "metadata": {
    "nbpresent": {
     "id": "6ecf9451-27a4-4775-99ad-ca25aa8202fb"
    }
   },
   "source": [
    "e: In order to reconstruct the location of the client triangulation can be used. There exists unfortunately no exact solution as can be seen in the picture below. There is no point where all the circles intersect \n"
   ]
  },
  {
   "cell_type": "code",
   "execution_count": 184,
   "metadata": {
    "collapsed": false,
    "nbpresent": {
     "id": "95ce272e-4914-47af-a2ea-4ecd2e816559"
    }
   },
   "outputs": [
    {
     "data": {
      "image/png": "[encoded data removed]",
      "text/plain": [
       "<matplotlib.figure.Figure at 0x7f51766189e8>"
      ]
     },
     "metadata": {},
     "output_type": "display_data"
    }
   ],
   "source": [
    "c1 = plt.Circle((0,0), 15, alpha=0.5)\n",
    "c2 = plt.Circle((0,20), 15, alpha=0.5)\n",
    "c3 = plt.Circle((20,10), 15, alpha=0.5)\n",
    "fig,ax=plt.subplots()\n",
    "plt.xlim(-16,36)\n",
    "plt.ylim(-16,36)\n",
    "\n",
    "ax.add_artist(c1)\n",
    "ax.add_artist(c2)\n",
    "ax.add_artist(c3)\n",
    "\n",
    "plt.show()"
   ]
  },
  {
   "cell_type": "markdown",
   "metadata": {
    "nbpresent": {
     "id": "2ef9cf63-380e-46c2-a088-67f579aaf6b3"
    }
   },
   "source": [
    "f: To Calculate the signal strength of a client at a certain location with a certain router the original formula can be rewritten to:\n",
    "\n",
    "$$P_r = P_t + 20 \\times \\log^{10}({\\frac{c}{4\\pi f r}})$$\n",
    "$$P_r = P_t + 20 \\times (\\log^{10}({\\frac{c}{4\\pi f}}) - \\log^{10}({r}))$$\n",
    "$$P_r = P_t + 20 \\times (\\log^{10}({\\frac{c}{4\\pi f}}) - \\log^{10}(\\sqrt{(x-x_i)^2 + (y-y_i)^2 + Z^2}))$$\n",
    "$$P_r = P_t + 20 \\times \\log^{10}({\\frac{c}{4\\pi f}}) - 20 \\times \\log^{10}(\\sqrt{(x-x_i)^2 + (y-y_i)^2 + Z^2})$$\n",
    "$$P_r = P_t + 20 \\times \\log^{10}({\\frac{c}{4\\pi f}}) - 20 \\times \\log^{10}(((x-x_i)^2 + (y-y_i)^2 + Z^2)^\\frac{1}{2})$$\n",
    "$$P_r = P_t + 20 \\times \\log^{10}({\\frac{c}{4\\pi f}}) - 10 \\times \\log^{10}((x-x_i)^2 + (y-y_i)^2 + Z^2)$$\n",
    "\n"
   ]
  },
  {
   "cell_type": "markdown",
   "metadata": {
    "nbpresent": {
     "id": "8ad97527-5110-49c5-84b1-2649232fcbce"
    }
   },
   "source": [
    "g: "
   ]
  },
  {
   "cell_type": "code",
   "execution_count": 185,
   "metadata": {
    "collapsed": false,
    "nbpresent": {
     "id": "1f6e241b-1208-4683-b6cc-5609625fc5e3"
    }
   },
   "outputs": [
    {
     "data": {
      "image/png": "[encoded data removed]",
      "text/plain": [
       "<matplotlib.figure.Figure at 0x7f517f1f2630>"
      ]
     },
     "metadata": {},
     "output_type": "display_data"
    },
    {
     "name": "stdout",
     "output_type": "stream",
     "text": [
      "The mean and deviation are: -0.0111296752395 and 0.999464908214\n"
     ]
    }
   ],
   "source": [
    "def getExpectedStrength(x, y, xi, yi, Z, Pt):\n",
    "    return (Pt + 20 * np.log10(c/(4*np.pi*f)) -\n",
    "            10*np.log10(math.pow(x-xi,2) + math.pow(y-yi,2) + math.pow(Z,2)))\n",
    "\n",
    "def getMeassuredStrength(x, y, xi, yi, Z, Pt, G, sigma, noise=None):\n",
    "    if(not noise): \n",
    "        noise = np.random.normal(0, sigma);\n",
    "    return (Pt + G * np.log10(c/(4*np.pi*f)) -\n",
    "            10*np.log10(math.pow(x-xi,2) + math.pow(y-yi,2) + math.pow(Z,2)) +\n",
    "            noise)\n",
    "Z = 2\n",
    "G = 20\n",
    "\n",
    "sigma = 1\n",
    "expectedStrength = getExpectedStrength(20, 0, 0, 0, Z, 0)\n",
    "meassurements = [getMeassuredStrength(20, 0, 0, 0, Z, 0, G, sigma) for x in range(1000)]\n",
    "nRisiduals = (meassurements - expectedStrength)/sigma\n",
    "plt.hist(nRisiduals, bins=10)\n",
    "plt.show()\n",
    "\n",
    "mean = np.mean(nRisiduals)\n",
    "mu = np.std(nRisiduals)\n",
    "\n",
    "print(\"The mean and deviation are:\", mean, \"and\", mu)"
   ]
  },
  {
   "cell_type": "markdown",
   "metadata": {
    "nbpresent": {
     "id": "5736c50c-7c98-49e2-a915-cb45efdc53b4"
    }
   },
   "source": [
    "h: If you underestimatethe noise/fluctuations/measurement uncertainties, the deviation gets smaller. If you overestimate, the deviation will get larger, meaning you are even more uncertain about your predictions."
   ]
  },
  {
   "cell_type": "code",
   "execution_count": 186,
   "metadata": {
    "collapsed": false,
    "nbpresent": {
     "id": "ac5c50ea-664f-4330-9949-30dc84523ca5"
    }
   },
   "outputs": [
    {
     "name": "stdout",
     "output_type": "stream",
     "text": [
      "The mean and deviation when underestimating are: 0.144300441827 and 2.01676783245\n"
     ]
    },
    {
     "data": {
      "image/png": "[encoded data removed]",
      "text/plain": [
       "<matplotlib.figure.Figure at 0x7f51763ffa90>"
      ]
     },
     "metadata": {},
     "output_type": "display_data"
    },
    {
     "name": "stdout",
     "output_type": "stream",
     "text": [
      "The mean and deviation when overestimating are: 0.0360751104569 and 0.504191958112\n"
     ]
    },
    {
     "data": {
      "image/png": "[encoded data removed]",
      "text/plain": [
       "<matplotlib.figure.Figure at 0x7f51765ec4a8>"
      ]
     },
     "metadata": {},
     "output_type": "display_data"
    }
   ],
   "source": [
    "sigma = 2\n",
    "G = 20\n",
    "expectedStrength = getExpectedStrength(20, 0, 0, 0, Z, 0)\n",
    "meassurements = [getMeassuredStrength(20, 0, 0, 0, Z, 0, G, sigma) for x in range(1000)]\n",
    "\n",
    "# Underestimate\n",
    "nRisiduals = (meassurements - expectedStrength)/1\n",
    "mean = np.mean(nRisiduals)\n",
    "mu = np.std(nRisiduals)\n",
    "print(\"The mean and deviation when underestimating are:\", mean, \"and\", mu)\n",
    "plt.hist(nRisiduals, bins=10)\n",
    "plt.show()\n",
    "\n",
    "# Overestimate\n",
    "nRisiduals = (meassurements - expectedStrength)/4\n",
    "mean = np.mean(nRisiduals)\n",
    "mu = np.std(nRisiduals)\n",
    "print(\"The mean and deviation when overestimating are:\", mean, \"and\", mu)\n",
    "plt.hist(nRisiduals, bins=10)\n",
    "plt.show()"
   ]
  },
  {
   "cell_type": "markdown",
   "metadata": {
    "nbpresent": {
     "id": "2a7e7c72-ca5c-433a-9ea0-062ac35c2794"
    }
   },
   "source": [
    "i: The mean is no longer at zero, which means that there is an single error that affects all measurements."
   ]
  },
  {
   "cell_type": "code",
   "execution_count": 187,
   "metadata": {
    "collapsed": false,
    "nbpresent": {
     "id": "d328b5b8-97dc-476e-bb5e-67c387aacc76"
    }
   },
   "outputs": [
    {
     "data": {
      "image/png": "[encoded data removed]",
      "text/plain": [
       "<matplotlib.figure.Figure at 0x7f517686b0b8>"
      ]
     },
     "metadata": {},
     "output_type": "display_data"
    },
    {
     "name": "stdout",
     "output_type": "stream",
     "text": [
      "The mean and deviation are: 9.95521701286 and 1.0159225515\n"
     ]
    }
   ],
   "source": [
    "G = 15\n",
    "\n",
    "sigma = 1\n",
    "expectedStrength = getExpectedStrength(20, 0, 0, 0, Z, 0)\n",
    "meassurements = [getMeassuredStrength(20, 0, 0, 0, Z, 0, G, sigma) for x in range(1000)]\n",
    "nRisiduals = (meassurements - expectedStrength)/sigma\n",
    "plt.hist(nRisiduals, bins=10)\n",
    "plt.show()\n",
    "\n",
    "mean = np.mean(nRisiduals)\n",
    "mu = np.std(nRisiduals)\n",
    "\n",
    "print(\"The mean and deviation are:\", mean, \"and\", mu)"
   ]
  },
  {
   "cell_type": "markdown",
   "metadata": {
    "nbpresent": {
     "id": "1b69c674-f7da-4d25-8460-d6998be63b9f"
    }
   },
   "source": [
    "j: In general, we would like to see a mean of zero and a deviation of one in my pull distribution."
   ]
  },
  {
   "cell_type": "markdown",
   "metadata": {
    "nbpresent": {
     "id": "a683e9ae-c552-4e36-b2c2-64501ee75860"
    }
   },
   "source": [
    "k: When generating a single wifi packet without noise and an assumed sigma of 1dBm, the $\\chi^{2}$ is at its minimum at (5,5) which is the actual position:"
   ]
  },
  {
   "cell_type": "code",
   "execution_count": 188,
   "metadata": {
    "collapsed": false,
    "nbpresent": {
     "id": "d44f1dea-6e87-473c-8568-609bf0d09638"
    }
   },
   "outputs": [
    {
     "data": {
      "image/png": "[encoded data removed]",
      "text/plain": [
       "<matplotlib.figure.Figure at 0x7f5176501be0>"
      ]
     },
     "metadata": {},
     "output_type": "display_data"
    }
   ],
   "source": [
    "def estimatePositionWithoutNoise(routers, assumedClient, actualClient, sigma, G, Pt):\n",
    "    x,y,z = assumedClient\n",
    "    xreal, yreal, zreal = actualClient\n",
    "    Chi = 0\n",
    "    for xi,yi,zi in routers:\n",
    "        Z = zi - z\n",
    "        Si = getExpectedStrength(x,y,xi,yi,Z,Pt)\n",
    "        Pri = getExpectedStrength(xreal,yreal,xi,yi,zreal-zi,Pt)\n",
    "        Chi += math.pow(Si-Pri,2)/math.pow(sigma,2)\n",
    "    return Chi\n",
    "\n",
    "\n",
    "\n",
    "routers = [[0, 0, 3],[ 0, 20, 3],[20, 0, 3],[20, 20, 3]]\n",
    "actualClient = [5,5,1]\n",
    "X = np.arange(-5,16,1)\n",
    "Chis = [[x, estimatePositionWithoutNoise(routers, [x,5,1], actualClient, 1, 20, 0)] for x in X]\n",
    "\n",
    "Chis = np.matrix(Chis)\n",
    "plt.plot(Chis[:,0],Chis[:,1])\n",
    "plt.show()"
   ]
  },
  {
   "cell_type": "markdown",
   "metadata": {
    "nbpresent": {
     "id": "00729f73-1034-4d71-ba55-a34c7d01d5b3"
    }
   },
   "source": [
    "l: When generating a single wifi packet with random Gaussian noise and a sigma of 1dBm, the $\\chi^{2}$ is at its minimum around (5,5) which is the actual position, but not necessarily exactly at (5,5. If you run it different times, the minimum stays around (5,5) sometimes actually being at (5,5) but not always."
   ]
  },
  {
   "cell_type": "code",
   "execution_count": 189,
   "metadata": {
    "collapsed": false,
    "nbpresent": {
     "id": "9612fa4a-7777-42a9-9c07-eacc0d92eb6d"
    }
   },
   "outputs": [
    {
     "data": {
      "image/png": "[encoded data removed]",
      "text/plain": [
       "<matplotlib.figure.Figure at 0x7f5176651c18>"
      ]
     },
     "metadata": {},
     "output_type": "display_data"
    },
    {
     "data": {
      "image/png": "[encoded data removed]",
      "text/plain": [
       "<matplotlib.figure.Figure at 0x7f5176469da0>"
      ]
     },
     "metadata": {},
     "output_type": "display_data"
    },
    {
     "data": {
      "image/png": "[encoded data removed]",
      "text/plain": [
       "<matplotlib.figure.Figure at 0x7f5176649ef0>"
      ]
     },
     "metadata": {},
     "output_type": "display_data"
    },
    {
     "data": {
      "image/png": "[encoded data removed]",
      "text/plain": [
       "<matplotlib.figure.Figure at 0x7f5174977978>"
      ]
     },
     "metadata": {},
     "output_type": "display_data"
    }
   ],
   "source": [
    "def estimatePositionWithNoise(routers, assumedClient, actualClient, sigma, G, Pt, noise, unc=sigma):\n",
    "    x,y,z = assumedClient\n",
    "    xreal, yreal, zreal = actualClient\n",
    "    Chi = 0\n",
    "    for i,[xi,yi,zi] in enumerate(routers):\n",
    "        Z = zi - z\n",
    "        Si = getExpectedStrength(x,y,xi,yi,Z,Pt)\n",
    "        Pri = getMeassuredStrength(xreal,yreal, xi, yi, zreal-zi, Pt, G, sigma, noise[i])\n",
    "        \n",
    "        Chi += math.pow(Si-Pri,2)/math.pow(unc,2)\n",
    "    return Chi\n",
    "\n",
    "routers = [[0, 0, 3],[ 0, 20, 3],[20, 0, 3],[20, 20, 3]]\n",
    "actualClient = [5,5,1]\n",
    "X = np.arange(-5,16,1)\n",
    "noise = [np.random.normal(0, 1) for x in range(4)]\n",
    "#Chis = [[x, estimatePositionWithNoise(routers, [x,5,1], actualClient, 1, 20, 0, noise)] for x in X]\n",
    "for i in range(0,4):\n",
    "    Chis = []\n",
    "    for x in X:\n",
    "        noise = [np.random.normal(0, 1) for x in range(4)]\n",
    "        Chis.append([x, estimatePositionWithNoise(routers, [x,5,1], actualClient, 1, 20, 0, noise)])\n",
    "\n",
    "    Chis = np.matrix(Chis)\n",
    "    plt.plot(Chis[:,0],Chis[:,1])\n",
    "    plt.show()"
   ]
  },
  {
   "cell_type": "markdown",
   "metadata": {
    "nbpresent": {
     "id": "f5bd6762-10da-4883-9a02-2e370dc0aa78"
    }
   },
   "source": [
    "m: The minimize function (the Powell method) will find the optimum of the estimated position at location (5,5)."
   ]
  },
  {
   "cell_type": "code",
   "execution_count": 190,
   "metadata": {
    "collapsed": false,
    "nbpresent": {
     "id": "50880be4-328a-4776-87a4-babc0123278d"
    }
   },
   "outputs": [
    {
     "name": "stdout",
     "output_type": "stream",
     "text": [
      "[ 5.  5.]\n"
     ]
    }
   ],
   "source": [
    "def g(X):\n",
    "    x,y = X\n",
    "    routers = [[0, 0, 3],[ 0, 20, 3],[20, 0, 3],[20, 20, 3]]\n",
    "    actualClient = [5,5,1]\n",
    "    return estimatePositionWithoutNoise(routers, [x,y,1], actualClient, 1, 20, 0)\n",
    "\n",
    "print(minimize(g,[3,8], method='Powell').x)\n",
    "    "
   ]
  },
  {
   "cell_type": "markdown",
   "metadata": {
    "nbpresent": {
     "id": "89acacd1-10a3-40c0-a2d6-0f4021d5d4e9"
    }
   },
   "source": [
    "0.4n: The average estimated position is quite good (around (5,5)), the $\\chi^{2}$ value is also close to the expected value of 2. We expect it to be 2 since the number of datapoints (routers) is 4 and the number of parameters is 2 (x and y position)."
   ]
  },
  {
   "cell_type": "code",
   "execution_count": null,
   "metadata": {
    "collapsed": true,
    "nbpresent": {
     "id": "c4e5875d-65d5-401c-b69e-625578623b64"
    }
   },
   "outputs": [],
   "source": []
  },
  {
   "cell_type": "code",
   "execution_count": 191,
   "metadata": {
    "collapsed": false,
    "nbpresent": {
     "id": "14e5cf57-1d50-41f8-aa50-2247a5ff469e"
    }
   },
   "outputs": [
    {
     "data": {
      "image/png": "[encoded data removed]",
      "text/plain": [
       "<matplotlib.figure.Figure at 0x7f517493aa58>"
      ]
     },
     "metadata": {},
     "output_type": "display_data"
    },
    {
     "data": {
      "image/png": "[encoded data removed]",
      "text/plain": [
       "<matplotlib.figure.Figure at 0x7f5176560a58>"
      ]
     },
     "metadata": {},
     "output_type": "display_data"
    },
    {
     "name": "stdout",
     "output_type": "stream",
     "text": [
      "Chi squared = 2.06078134282\n",
      "Position = [[ 4.85575098  4.93779957]]\n"
     ]
    }
   ],
   "source": [
    "noise = []\n",
    "\n",
    "def g2(X):\n",
    "    x,y = X\n",
    "    routers = [[0, 0, 3],[ 0, 20, 3],[20, 0, 3],[20, 20, 3]]\n",
    "    actualClient = [5,5,1]\n",
    "    return estimatePositionWithNoise(routers, [x,y,1], actualClient, 1 ,20, 0, noise)\n",
    "\n",
    "results = []\n",
    "Chis = []\n",
    "#print(minimize(g2,[10,10], method='Powell'))\n",
    "\n",
    "for i in range(0,1000):\n",
    "    noise = [np.random.normal(0, 1) for x in range(4)]\n",
    "    randx = np.random.rand()*19\n",
    "    randy = np.random.rand()*19\n",
    "    minimized = minimize(g2,[randx,randy], method='Powell')\n",
    "    results.append(minimized.x)\n",
    "    Chis.append(minimized.fun)\n",
    "\n",
    "results = np.matrix(results)\n",
    "plt.scatter(results[:,0],results[:,1])\n",
    "plt.ylim(0,20)\n",
    "plt.xlim(0,20)\n",
    "plt.show()\n",
    "\n",
    "plt.hist(Chis, bins=50)\n",
    "plt.show()\n",
    "\n",
    "print(\"Chi squared =\", np.mean(Chis))\n",
    "print(\"Position =\", results.mean(0))"
   ]
  },
  {
   "cell_type": "markdown",
   "metadata": {
    "nbpresent": {
     "id": "bda5f403-7c83-4bb1-ab10-c7bac0a40a7a"
    }
   },
   "source": [
    "o: The average $\\chi^{2}$ value of the minimums agrees with the NDoF which is 4 - 2 = 2 (number of routers - number of parameters)."
   ]
  },
  {
   "cell_type": "markdown",
   "metadata": {
    "nbpresent": {
     "id": "e0dd70bb-475e-43bc-8587-77e89bee1651"
    }
   },
   "source": [
    "p: The minimums hisogram (green in the histogram below) seems to agree with the $\\chi^{2}$ histogram (blue in the histogram below) quite well."
   ]
  },
  {
   "cell_type": "code",
   "execution_count": 192,
   "metadata": {
    "collapsed": false,
    "nbpresent": {
     "id": "ffc6c4af-4c8b-42ee-9c31-36e7ce19fa0d"
    }
   },
   "outputs": [
    {
     "data": {
      "image/png": "[encoded data removed]",
      "text/plain": [
       "<matplotlib.figure.Figure at 0x7f51765d1518>"
      ]
     },
     "metadata": {},
     "output_type": "display_data"
    }
   ],
   "source": [
    "plt.hist(np.random.chisquare(2,1000), alpha=0.3, bins=100,label='chi2 distribution',normed=True)\n",
    "plt.hist(Chis, bins=100, alpha=0.3, label='wifi chi2', normed=True)\n",
    "plt.xlim(0,20)\n",
    "plt.ylim(0,0.5)\n",
    "plt.legend()\n",
    "plt.show()\n"
   ]
  },
  {
   "cell_type": "markdown",
   "metadata": {
    "nbpresent": {
     "id": "1196f794-817f-4507-8b1d-1c873ba39e7d"
    }
   },
   "source": [
    "q: The cloud of estimated device positions became more scattered, because we added Gaussian noise with a sigma of 2 while we used a sigma of 1 as an estimation. The $\\chi^{2}$ became higher, which is to be expected when we underestimate the noise in our model. The $\\chi^{2}$ distribution is more flat than we'd expect, this is also because we underestimate the noise."
   ]
  },
  {
   "cell_type": "code",
   "execution_count": 193,
   "metadata": {
    "collapsed": false,
    "nbpresent": {
     "id": "7eeb08fe-96c4-4040-a926-52116505d6b3"
    }
   },
   "outputs": [
    {
     "data": {
      "image/png": "[encoded data removed]",
      "text/plain": [
       "<matplotlib.figure.Figure at 0x7f51765dfdd8>"
      ]
     },
     "metadata": {},
     "output_type": "display_data"
    },
    {
     "data": {
      "image/png": "[encoded data removed]",
      "text/plain": [
       "<matplotlib.figure.Figure at 0x7f517f12bb70>"
      ]
     },
     "metadata": {},
     "output_type": "display_data"
    },
    {
     "name": "stdout",
     "output_type": "stream",
     "text": [
      "The average chi-squared is: 7.43142916987\n",
      "The average position is: [[ 4.41213867  4.29694049]]\n"
     ]
    },
    {
     "data": {
      "image/png": "[encoded data removed]",
      "text/plain": [
       "<matplotlib.figure.Figure at 0x7f5184f205c0>"
      ]
     },
     "metadata": {},
     "output_type": "display_data"
    }
   ],
   "source": [
    "noise = []\n",
    "\n",
    "def g2(X):\n",
    "    x,y = X\n",
    "    routers = [[0, 0, 3],[ 0, 20, 3],[20, 0, 3],[20, 20, 3]]\n",
    "    actualClient = [5,5,1]\n",
    "    return estimatePositionWithNoise(routers, [x,y,1], actualClient, 2 ,20, 0, noise, 1)\n",
    "\n",
    "results = []\n",
    "Chis = []\n",
    "#print(minimize(g2,[10,10], method='Powell'))\n",
    "\n",
    "for i in range(0,1000):\n",
    "    noise = [np.random.normal(0, 2) for x in range(4)]\n",
    "    randx = np.random.rand()*19\n",
    "    randy = np.random.rand()*19\n",
    "    minimized = minimize(g2,[randx,randy], method='Powell')\n",
    "    results.append(minimized.x)\n",
    "    Chis.append(minimized.fun)\n",
    "\n",
    "results = np.matrix(results)\n",
    "plt.scatter(results[:,0],results[:,1])\n",
    "plt.xlim(0,20)\n",
    "plt.ylim(0,20)\n",
    "plt.show()\n",
    "\n",
    "plt.hist(Chis, bins=100)\n",
    "plt.show()\n",
    "\n",
    "print(\"The average chi-squared is:\", np.mean(Chis))\n",
    "print(\"The average position is:\", results.mean(0))\n",
    "\n",
    "plt.hist(np.random.chisquare(2,1000), alpha=0.5, bins=100,label='chi2 distribution',normed=True)\n",
    "plt.hist(Chis, bins=100, alpha=0.5, label='wifi chi2', normed=True)\n",
    "plt.xlim(0,20)\n",
    "plt.ylim(0,0.5)\n",
    "plt.legend()\n",
    "plt.show()"
   ]
  },
  {
   "cell_type": "markdown",
   "metadata": {
    "nbpresent": {
     "id": "be9f5f23-aaff-4408-9384-52caf1f12195"
    }
   },
   "source": [
    "\n",
    "\n",
    "\n"
   ]
  },
  {
   "cell_type": "markdown",
   "metadata": {
    "nbpresent": {
     "id": "05ce12fc-d462-4846-b044-b1238fe3a582"
    }
   },
   "source": [
    "r: When the average minimim $\\chi^{2}$ value is much higher than the NDoF, it means that either the model is wrong or the measurement/data uncertainties have been underestimated. Experimenting with the uncertainties should explain whether the model was wrong or the initial estimated uncertainties were wrong.\n"
   ]
  },
  {
   "cell_type": "markdown",
   "metadata": {
    "collapsed": false,
    "nbpresent": {
     "id": "a1c4ee54-fe4c-491c-9574-1f1f7ec22bc6"
    }
   },
   "source": [
    "**0.5**"
   ]
  },
  {
   "cell_type": "markdown",
   "metadata": {
    "collapsed": true,
    "nbpresent": {
     "id": "e5b3053e-8c48-45f1-9ac3-5565d7bf9333"
    }
   },
   "source": [
    "s) <br>\n",
    "let:\n",
    "$C_{i} = P_{i}(x_0,y_0),\n",
    "D_{x/y}^{i} = \\frac{\\partial}{\\partial x/y} C_{i}\n",
    "$ <br>\n",
    "\n",
    "\n",
    "$$\n",
    "\\begin{aligned}\n",
    "\\chi^2 &= \\sum_{i} \\frac{1}{\\sigma_{i}^2}\\left(S_{i} - P_{i}(x,y)\\right)^2 \\\\\n",
    "&= \\sum_{i} \\frac{1}{\\sigma_{i}^2}\\left(S_{i} - (C_{i} + D_{x}^{i}(x-x_0) + D_{y}^{i}(y -y_0) ) \\right)^2 \\\\\n",
    "&= \\sum_{i} \\left( (S_{i} - C_{i})^2 - 2 (S_{i} - C_{i})\\left(D_{x}^{i}(x-x_0) + D_{y}^{i}(y -y_0)\\right) + \\left(D_{x}^{i}(x-x_0) + D_{y}^{i}(y -y_0)\\right)^2 \\right)\n",
    "\\end{aligned}\n",
    "$$ <br>\n",
    "\n",
    "This can be expanded further but with little insight gained."
   ]
  },
  {
   "cell_type": "markdown",
   "metadata": {
    "collapsed": true,
    "nbpresent": {
     "id": "fbcc0227-f407-4feb-9097-ce21acc125cc"
    }
   },
   "source": [
    "t) <br>\n",
    "\n",
    "\n",
    "$$\n",
    "\\begin{aligned}\n",
    "\\frac{\\partial}{\\partial x} \\chi^2 &= \\frac{\\partial}{\\partial x} \\sum_{i} \\frac{1}{\\sigma_{i}^2}\\left(S_{i} - P_{i}(x,y)\\right)^2 \\\\\n",
    "&= \\sum_{i} 2 \\frac{1}{\\sigma_{i}^2}\\left(S_{i} - P_{i}(x,y)\\right) \\frac{\\partial}{\\partial x} P_{i}(x,y)\n",
    "\\end{aligned}\n",
    "$$ <br>\n",
    "\n",
    "Making the substitution from $(3)$ and by noticing \n",
    "$$ \n",
    "\\begin{aligned}\n",
    "\\frac{\\partial}{\\partial x} P_{i}(x,y) &=  \\frac{\\partial}{\\partial x} P_{i}(x_0,y_0) \\\\\n",
    "&= D_{x}^{i}\n",
    "\\end{aligned}\n",
    "$$ \n",
    "we see: <br>\n",
    "\n",
    "$$\n",
    "\\begin{aligned}\n",
    "\\frac{\\partial}{\\partial x} \\chi^2 &= 2 \\sum_{i} \\frac{D_{x}^{i}}{\\sigma_{i}^2}\\left(S_{i} - C_{i} + D_{x}^{i}(x-x_0) +D_{y}^{i}(y -y_0)  \\right)\n",
    "\\end{aligned}\n",
    "$$ <br>\n",
    "\n",
    "from $(4)$:\n",
    "$$\n",
    "\\begin{aligned}\n",
    "2 \\sum_{i} \\frac{D_{x}^{i}}{\\sigma_{i}^2}\\left(S_{i} - C_{i} + D_{x}^{i}(x-x_0) +D_{y}^{i}(y -y_0)  \\right)\n",
    "&= 2 \\sum_{i} \\frac{D_{x}^{i}}{\\sigma_{i}^2}\\left(S_{i} - C_{i} \\right)\n",
    "\\end{aligned}\n",
    "$$ <br>\n",
    "\n",
    "so:\n",
    "$$\n",
    "\\begin{aligned}\n",
    "\\sum_{i} \\left(D_{x}^{i}(x-x_0) +D_{y}^{i}(y -y_0)  \\right) &= 0\n",
    "\\end{aligned}\n",
    "$$ <br>\n",
    "\n",
    "by substituting this back into the taylor expanded $\\chi^2$ we get:\n",
    "$$\n",
    "\\begin{aligned}\n",
    "\\chi^2 &= \\sum_{i} \\frac{1}{\\sigma_{i}^2} \\left( (S_{i} - C_{i})^2 + \\left(D_{x}^{i}(x-x_0) + D_{y}^{i}(y -y_0)\\right)^2 \\right) \\\\\n",
    "&= \\sum_{i} \\frac{1}{\\sigma_{i}^2} \\left( (S_{i} - C_{i})^2 + (D_{x}^{i})^2(x-x_0)^2 + (D_{y}^{i})^2(y -y_0)^2 + 2 D_{x}^{i}(x-x_0)D_{y}^{i}(y -y_0)\\right)\n",
    "\\end{aligned}\n",
    "$$ <br>"
   ]
  },
  {
   "cell_type": "markdown",
   "metadata": {
    "nbpresent": {
     "id": "0a69aaaf-9b49-4fe9-b075-96e102dbddb5"
    }
   },
   "source": [
    "u) <br>\n",
    "with $(x - x_0) = \\Delta x$ and $(y - y_0) = \\Delta y$ <br>\n",
    "$$\n",
    "\\begin{aligned}\n",
    "\\chi^2 &= \\sum_{i} \\frac{1}{\\sigma_{i}^2} \\left( (S_{i} - C_{i})^2 + (D_{x}^{i})^2\\Delta x^2 + (D_{y}^{i})^2\\Delta y^2 + 2 D_{x}^{i}D_{y}^{i}\\Delta x\\Delta y\\right) \\\\\n",
    "&= \\left( \\sum_{i} \\frac{1}{\\sigma_{i}^2} (S_{i} - C_{i})^2 \\right) + \\sum_{i} \\frac{1}{\\sigma_{i}^2} \\left((D_{x}^{i})^2\\Delta x^2 + (D_{y}^{i})^2\\Delta y^2 + 2 D_{x}^{i}D_{y}^{i}\\Delta x\\Delta y\\right)\n",
    "\\end{aligned}\n",
    "$$ <br>\n",
    "\n",
    "\n",
    "with\n",
    "$$\n",
    "A =  \\left( \\sum_{i} \\frac{1}{\\sigma_{i}^2} (S_{i} - C_{i})^2 \\right)\n",
    "$$\n",
    "$$\n",
    "\\hat{B} = \n",
    "\\begin{bmatrix}\n",
    "\\sum_{i}\\frac{1}{\\sigma_{i}^2}(D_{x}^{i})^2 & \\sum_{i}\\frac{1}{\\sigma_{i}^2} D_{x}^{i}D_{y}^{i} \\\\\n",
    "\\sum_{i}\\frac{1}{\\sigma_{i}^2} D_{x}^{i}D_{y}^{i} & \\sum_{i}\\frac{1}{\\sigma_{i}^2} (D_{y}^{i})^2 \n",
    "\\end{bmatrix}\n",
    "$$\n",
    "\n",
    "then:\n",
    "$$\n",
    "\\chi^2 = A + (\\Delta x, \\Delta y) \\hat{B} (\\Delta x, \\Delta y)^{T}\n",
    "$$"
   ]
  },
  {
   "cell_type": "markdown",
   "metadata": {
    "nbpresent": {
     "id": "b487770a-4830-4017-b3e9-f3fe6addf9f9"
    }
   },
   "source": [
    "v) <br>\n",
    "assume:\n",
    "$$\n",
    "\\chi_0 = \\chi^2(x_0, y_0) \\\\\n",
    "\\chi_1 = \\chi^2(x_1,y_1) \\\\\n",
    "$$\n",
    "\n",
    "with $\\chi_1 = \\chi_0 + 1$ so:\n",
    "$$\n",
    "(\\Delta x_1, \\Delta y_1) \\hat{B} (\\Delta x_1, \\Delta y_1)^{T} = (\\Delta x_0, \\Delta y_0) \\hat{B} (\\Delta x_0, \\Delta y_0)^{T} + 1\n",
    "$$\n",
    "\n",
    "but as $\\Delta x_0 = x_0 - x_0 = 0$ this simplifies to:\n",
    "$$\n",
    "(\\Delta x_1, \\Delta y_1) \\hat{B} (\\Delta x_1, \\Delta y_1)^{T} = 1\n",
    "$$\n",
    "\n",
    "this can be rewritten in the form\n",
    "$$\n",
    "\\Delta x_1^2 \\hat{B}_{11} + 2 \\Delta x_1 \\Delta y_1 \\hat{B}_{12} + \\Delta y_1^2 \\hat{B}_{22} - 1= 0\n",
    "$$\n",
    "\n",
    "this is maximised when the determinant with respect to each variable is zero, ie. for \n",
    "$$\n",
    "\\left(2\\Delta y_1 \\hat{B}_{12}\\right)^2 - 4\\left( \\hat{B}_{11}\\right)\\left(\\Delta y_1^2\\hat{B}_{22} - 1\\right) = 0\n",
    "$$\n",
    "\n",
    "so $\\Delta x_1$ is maximised when\n",
    "$$\n",
    "\\Delta y_1^2 = \\frac{\\hat{B}_{11}}{\\hat{B}_{11}\\hat{B}_{22} - \\hat{B}_{12}^2}\n",
    "$$\n",
    "\n",
    "and similarly $\\Delta y_1$ is maximised when\n",
    "$$\n",
    "\\Delta x_1^2 = \\frac{\\hat{B}_{22}}{\\hat{B}_{11}\\hat{B}_{22} - \\hat{B}_{12}^2}\n",
    "$$\n",
    "\n",
    "which are equal to the diagonal of the inverse $\\hat{B}$ matrix\n"
   ]
  },
  {
   "cell_type": "code",
   "execution_count": 194,
   "metadata": {
    "collapsed": false,
    "nbpresent": {
     "id": "d621f6aa-c0bc-4dcb-bf74-18d906b6feae"
    }
   },
   "outputs": [
    {
     "name": "stdout",
     "output_type": "stream",
     "text": [
      "0.640611076519\n",
      "0.547846839408\n"
     ]
    },
    {
     "data": {
      "image/png": "[encoded data removed]",
      "text/plain": [
       "<matplotlib.figure.Figure at 0x7f517662c278>"
      ]
     },
     "metadata": {},
     "output_type": "display_data"
    }
   ],
   "source": [
    "actualXY = [5,5]\n",
    "noise = [np.random.normal(0, 1) for x in range(4)]\n",
    "randx = np.random.rand()*19\n",
    "randy = np.random.rand()*19\n",
    "minimized = minimize(g2,[randx,randy], method='Powell')\n",
    "estimatedXY = minimized.x\n",
    "\n",
    "#dFdx = (40(x - xi))/(math.log(10)*((x-xi)^2 + (y-yi)^2 + Z^2))\n",
    "#dFdy = (40(y - yi))/(math.log(10)*((x-xi)^2 + (y-yi)^2 + Z^2))\n",
    "B11 = 0\n",
    "B22 = 0\n",
    "B12 = 0\n",
    "\n",
    "x = [0,0,20,20]\n",
    "y = [0,20,0,20]\n",
    "Z = 2\n",
    "\n",
    "for i in range(0,4):\n",
    "    dFdx = (40*(estimatedXY[0] - x[i]))/(math.log(10)*((estimatedXY[0]-x[i])**2 + (estimatedXY[1]-y[i])**2 + Z**2))\n",
    "    dFdy = (40*(estimatedXY[1] - y[i]))/(math.log(10)*((estimatedXY[0]-x[i])**2 + (estimatedXY[1]-y[i])**2 + Z**2))\n",
    "    B11 += (dFdx**2 * 1/(sigma**2))\n",
    "    B22 += (dFdy**2 * 1/(sigma**2))\n",
    "    B12 += (dFdx * dFdy * 1/(sigma**2))\n",
    "\n",
    "varx = B22 / (B11*B22 - B12**2)\n",
    "vary = B11 / (B11*B22 - B12**2)\n",
    "\n",
    "stdx = np.sqrt(varx)\n",
    "stdy = np.sqrt(vary)\n",
    "print(stdx)\n",
    "print(stdy)\n",
    "\n",
    "e = Ellipse(estimatedXY, width = stdx, height=stdy)\n",
    "plt.scatter(actualXY[0],actualXY[1])\n",
    "plt.scatter(estimatedXY[0], estimatedXY[1])\n",
    "plt.gca().add_artist(e)\n",
    "\n",
    "e.set_alpha(0.5)\n",
    "e.set_facecolor('g')\n",
    "plt.xlim(0,10)\n",
    "plt.ylim(0,10)\n",
    "\n",
    "plt.show()"
   ]
  },
  {
   "cell_type": "code",
   "execution_count": 195,
   "metadata": {
    "collapsed": false,
    "nbpresent": {
     "id": "cce57c55-3ae2-4d19-9188-c894fe1e9e94"
    }
   },
   "outputs": [
    {
     "data": {
      "image/png": "[encoded data removed]",
      "text/plain": [
       "<matplotlib.figure.Figure at 0x7f51766e07f0>"
      ]
     },
     "metadata": {},
     "output_type": "display_data"
    },
    {
     "data": {
      "image/png": "[encoded data removed]",
      "text/plain": [
       "<matplotlib.figure.Figure at 0x7f5176437160>"
      ]
     },
     "metadata": {},
     "output_type": "display_data"
    }
   ],
   "source": [
    "actualXY = [5,5]\n",
    "x = [0,0,20,20]\n",
    "y = [0,20,0,20]\n",
    "Z = 2\n",
    "sigma = 1\n",
    "\n",
    "residualsX = []\n",
    "residualsY = []\n",
    "uncertainties = []\n",
    "\n",
    "for i in range(1000):\n",
    "    noise = [np.random.normal(0, 1) for x in range(4)]\n",
    "    randx = np.random.rand()*19\n",
    "    randy = np.random.rand()*19\n",
    "    minimized = minimize(g2,[randx,randy], method='Powell')\n",
    "    estimatedXY = minimized.x\n",
    "\n",
    "    #dFdx = (40(x - xi))/(math.log(10)*((x-xi)^2 + (y-yi)^2 + Z^2))\n",
    "    #dFdy = (40(y - yi))/(math.log(10)*((x-xi)^2 + (y-yi)^2 + Z^2))\n",
    "    B11 = 0\n",
    "    B22 = 0\n",
    "    B12 = 0\n",
    "\n",
    "    for i in range(0,4):\n",
    "        dFdx = (40*(estimatedXY[0] - x[i]))/(math.log(10)*((estimatedXY[0]-x[i])**2 + (estimatedXY[1]-y[i])**2 + Z**2))\n",
    "        dFdy = (40*(estimatedXY[1] - y[i]))/(math.log(10)*((estimatedXY[0]-x[i])**2 + (estimatedXY[1]-y[i])**2 + Z**2))\n",
    "        B11 += (dFdx**2 * 1/(sigma**2))\n",
    "        B22 += (dFdy**2 * 1/(sigma**2))\n",
    "        B12 += (dFdx * dFdy * 1/(sigma**2))\n",
    "\n",
    "    varx = B22 / (B11*B22 - B12**2)\n",
    "    vary = B11 / (B11*B22 - B12**2)\n",
    "\n",
    "    stdx = np.sqrt(varx)\n",
    "    stdy = np.sqrt(vary)\n",
    "    \n",
    "    residualsX.append((estimatedXY[0]-actualXY[0])/sigma)\n",
    "    residualsY.append((estimatedXY[1]-actualXY[1])/sigma)\n",
    "    uncertainties.append([stdx,stdy])\n",
    "\n",
    "plt.hist(residualsX, bins=30)\n",
    "plt.show()\n",
    "\n",
    "plt.hist(residualsY, bins=30)\n",
    "plt.show()"
   ]
  },
  {
   "cell_type": "markdown",
   "metadata": {
    "collapsed": true,
    "nbpresent": {
     "id": "2f644538-a9ba-427c-a438-a849cb58c7cc"
    }
   },
   "source": [
    "The centers are where we expect them to be and about as wide as we expect it to be. If we would over or underestimate the uncertainty we would expect a pull distribution that is either centered incorrectly or with a variance that is not 1."
   ]
  },
  {
   "cell_type": "markdown",
   "metadata": {
    "collapsed": true,
    "nbpresent": {
     "id": "1eed7cc8-85d9-4986-a32c-442fbbd8882c"
    }
   },
   "source": [
    "z: If underestimate the measurement error by a factor 2, we expect the width of the pull distribution of the estimated errors on the x and y positions to become wider by a factor 2."
   ]
  },
  {
   "cell_type": "markdown",
   "metadata": {
    "nbpresent": {
     "id": "1d91aa05-514e-40a4-8465-006f32dc24fc"
    }
   },
   "source": [
    "**0.6a**"
   ]
  },
  {
   "cell_type": "code",
   "execution_count": 203,
   "metadata": {
    "collapsed": false,
    "nbpresent": {
     "id": "4a2196c4-2aff-40e6-80d1-a879c7eff53f"
    }
   },
   "outputs": [
    {
     "name": "stdout",
     "output_type": "stream",
     "text": [
      "\n",
      "    {'timeStamp': 1423136407778, 'seqNr': 12, 'signal': -57, 'droneId': 'Oscar'}\n",
      "    {'timeStamp': 1423136407779, 'seqNr': 12, 'signal': -68, 'droneId': 'Hotel'}\n",
      "    {'timeStamp': 1423136407784, 'seqNr': 12, 'signal': -60, 'droneId': 'Papa'}\n",
      "    {'timeStamp': 1423136407788, 'seqNr': 12, 'signal': -68, 'droneId': 'November'}\n",
      "    {'timeStamp': 1423136407789, 'seqNr': 12, 'signal': -66, 'droneId': 'India'}\n",
      "    {'timeStamp': 1423136407796, 'seqNr': 12, 'signal': -75, 'droneId': 'Romeo'}\n",
      "    {'timeStamp': 1423136407796, 'seqNr': 12, 'signal': -82, 'droneId': 'Mike'}\n",
      "    {'timeStamp': 1423136407805, 'seqNr': 12, 'signal': -60, 'droneId': 'Quebec'}\n",
      "\n",
      "    {'timeStamp': 1423136407788, 'seqNr': 268, 'signal': -59, 'droneId': 'Oscar'}\n",
      "    {'timeStamp': 1423136407789, 'seqNr': 268, 'signal': -67, 'droneId': 'Hotel'}\n",
      "    {'timeStamp': 1423136407794, 'seqNr': 268, 'signal': -60, 'droneId': 'Papa'}\n",
      "    {'timeStamp': 1423136407797, 'seqNr': 268, 'signal': -62, 'droneId': 'Lima'}\n",
      "    {'timeStamp': 1423136407798, 'seqNr': 268, 'signal': -65, 'droneId': 'November'}\n",
      "    {'timeStamp': 1423136407799, 'seqNr': 268, 'signal': -64, 'droneId': 'India'}\n",
      "    {'timeStamp': 1423136407806, 'seqNr': 268, 'signal': -76, 'droneId': 'Romeo'}\n",
      "    {'timeStamp': 1423136407815, 'seqNr': 268, 'signal': -60, 'droneId': 'Quebec'}\n",
      "    {'timeStamp': 1423136407856, 'seqNr': 268, 'signal': -79, 'droneId': 'Kilo'}\n",
      "\n",
      "    {'timeStamp': 1423136407967, 'seqNr': 3084, 'signal': -64, 'droneId': 'Oscar'}\n",
      "    {'timeStamp': 1423136407968, 'seqNr': 3084, 'signal': -69, 'droneId': 'Hotel'}\n",
      "    {'timeStamp': 1423136407973, 'seqNr': 3084, 'signal': -67, 'droneId': 'Papa'}\n",
      "    {'timeStamp': 1423136407976, 'seqNr': 3084, 'signal': -53, 'droneId': 'Lima'}\n",
      "    {'timeStamp': 1423136407977, 'seqNr': 3084, 'signal': -70, 'droneId': 'November'}\n",
      "    {'timeStamp': 1423136407978, 'seqNr': 3084, 'signal': -70, 'droneId': 'India'}\n",
      "    {'timeStamp': 1423136407985, 'seqNr': 3084, 'signal': -88, 'droneId': 'Romeo'}\n",
      "    {'timeStamp': 1423136407985, 'seqNr': 3084, 'signal': -81, 'droneId': 'Mike'}\n",
      "    {'timeStamp': 1423136407993, 'seqNr': 3084, 'signal': -56, 'droneId': 'Quebec'}\n",
      "    {'timeStamp': 1423136408347, 'seqNr': 3084, 'signal': -82, 'droneId': 'Kilo'}\n",
      "\n",
      "    {'timeStamp': 1423136407977, 'seqNr': 3340, 'signal': -61, 'droneId': 'Oscar'}\n",
      "    {'timeStamp': 1423136407978, 'seqNr': 3340, 'signal': -69, 'droneId': 'Hotel'}\n",
      "    {'timeStamp': 1423136407984, 'seqNr': 3340, 'signal': -70, 'droneId': 'Papa'}\n",
      "    {'timeStamp': 1423136407986, 'seqNr': 3340, 'signal': -52, 'droneId': 'Lima'}\n",
      "    {'timeStamp': 1423136407988, 'seqNr': 3340, 'signal': -75, 'droneId': 'November'}\n",
      "    {'timeStamp': 1423136407989, 'seqNr': 3340, 'signal': -69, 'droneId': 'India'}\n",
      "    {'timeStamp': 1423136407995, 'seqNr': 3340, 'signal': -80, 'droneId': 'Mike'}\n",
      "    {'timeStamp': 1423136407996, 'seqNr': 3340, 'signal': -84, 'droneId': 'Romeo'}\n",
      "    {'timeStamp': 1423136408409, 'seqNr': 3340, 'signal': -55, 'droneId': 'Quebec'}\n",
      "    {'timeStamp': 1423136408453, 'seqNr': 3340, 'signal': -82, 'droneId': 'Kilo'}\n",
      "\n",
      "    {'timeStamp': 1423136452767, 'seqNr': 2828, 'signal': -65, 'droneId': 'Hotel'}\n",
      "    {'timeStamp': 1423136452767, 'seqNr': 2828, 'signal': -59, 'droneId': 'Oscar'}\n",
      "    {'timeStamp': 1423136452773, 'seqNr': 2828, 'signal': -47, 'droneId': 'Papa'}\n",
      "    {'timeStamp': 1423136452775, 'seqNr': 2828, 'signal': -60, 'droneId': 'Lima'}\n",
      "    {'timeStamp': 1423136452777, 'seqNr': 2828, 'signal': -73, 'droneId': 'India'}\n",
      "    {'timeStamp': 1423136452777, 'seqNr': 2828, 'signal': -65, 'droneId': 'November'}\n",
      "    {'timeStamp': 1423136452784, 'seqNr': 2828, 'signal': -62, 'droneId': 'Mike'}\n",
      "    {'timeStamp': 1423136452785, 'seqNr': 2828, 'signal': -71, 'droneId': 'Romeo'}\n",
      "    {'timeStamp': 1423136452793, 'seqNr': 2828, 'signal': -50, 'droneId': 'Quebec'}\n",
      "    {'timeStamp': 1423136452808, 'seqNr': 2828, 'signal': -71, 'droneId': 'Alpha'}\n",
      "    {'timeStamp': 1423136452834, 'seqNr': 2828, 'signal': -64, 'droneId': 'Kilo'}\n",
      "\n",
      "    {'timeStamp': 1423136452777, 'seqNr': 3084, 'signal': -67, 'droneId': 'Hotel'}\n",
      "    {'timeStamp': 1423136452777, 'seqNr': 3084, 'signal': -60, 'droneId': 'Oscar'}\n",
      "    {'timeStamp': 1423136452783, 'seqNr': 3084, 'signal': -46, 'droneId': 'Papa'}\n",
      "    {'timeStamp': 1423136452787, 'seqNr': 3084, 'signal': -73, 'droneId': 'India'}\n",
      "    {'timeStamp': 1423136452787, 'seqNr': 3084, 'signal': -64, 'droneId': 'November'}\n",
      "    {'timeStamp': 1423136452794, 'seqNr': 3084, 'signal': -69, 'droneId': 'Romeo'}\n",
      "    {'timeStamp': 1423136452794, 'seqNr': 3084, 'signal': -62, 'droneId': 'Mike'}\n",
      "    {'timeStamp': 1423136452803, 'seqNr': 3084, 'signal': -48, 'droneId': 'Quebec'}\n",
      "    {'timeStamp': 1423136452818, 'seqNr': 3084, 'signal': -72, 'droneId': 'Alpha'}\n",
      "    {'timeStamp': 1423136452844, 'seqNr': 3084, 'signal': -64, 'droneId': 'Kilo'}\n",
      "\n",
      "    {'timeStamp': 1423136497760, 'seqNr': 2060, 'signal': -59, 'droneId': 'Hotel'}\n",
      "    {'timeStamp': 1423136497760, 'seqNr': 2060, 'signal': -70, 'droneId': 'Oscar'}\n",
      "    {'timeStamp': 1423136497765, 'seqNr': 2060, 'signal': -67, 'droneId': 'Papa'}\n",
      "    {'timeStamp': 1423136497768, 'seqNr': 2060, 'signal': -66, 'droneId': 'Lima'}\n",
      "    {'timeStamp': 1423136497769, 'seqNr': 2060, 'signal': -49, 'droneId': 'November'}\n",
      "    {'timeStamp': 1423136497770, 'seqNr': 2060, 'signal': -70, 'droneId': 'India'}\n",
      "    {'timeStamp': 1423136497777, 'seqNr': 2060, 'signal': -75, 'droneId': 'Mike'}\n",
      "    {'timeStamp': 1423136497777, 'seqNr': 2060, 'signal': -51, 'droneId': 'Romeo'}\n",
      "    {'timeStamp': 1423136497785, 'seqNr': 2060, 'signal': -65, 'droneId': 'Quebec'}\n",
      "    {'timeStamp': 1423136497801, 'seqNr': 2060, 'signal': -61, 'droneId': 'Alpha'}\n",
      "    {'timeStamp': 1423136497827, 'seqNr': 2060, 'signal': -61, 'droneId': 'Kilo'}\n",
      "\n",
      "    {'timeStamp': 1423136497770, 'seqNr': 2316, 'signal': -69, 'droneId': 'Oscar'}\n",
      "    {'timeStamp': 1423136497770, 'seqNr': 2316, 'signal': -59, 'droneId': 'Hotel'}\n",
      "    {'timeStamp': 1423136497775, 'seqNr': 2316, 'signal': -68, 'droneId': 'Papa'}\n",
      "    {'timeStamp': 1423136497778, 'seqNr': 2316, 'signal': -68, 'droneId': 'Lima'}\n",
      "    {'timeStamp': 1423136497779, 'seqNr': 2316, 'signal': -49, 'droneId': 'November'}\n",
      "    {'timeStamp': 1423136497780, 'seqNr': 2316, 'signal': -71, 'droneId': 'India'}\n",
      "    {'timeStamp': 1423136497787, 'seqNr': 2316, 'signal': -81, 'droneId': 'Mike'}\n",
      "    {'timeStamp': 1423136497787, 'seqNr': 2316, 'signal': -52, 'droneId': 'Romeo'}\n",
      "    {'timeStamp': 1423136497796, 'seqNr': 2316, 'signal': -66, 'droneId': 'Quebec'}\n",
      "    {'timeStamp': 1423136497837, 'seqNr': 2316, 'signal': -60, 'droneId': 'Kilo'}\n",
      "\n",
      "    {'timeStamp': 1423136539690, 'seqNr': 12, 'signal': -64, 'droneId': 'Hotel'}\n",
      "    {'timeStamp': 1423136539691, 'seqNr': 12, 'signal': -78, 'droneId': 'Oscar'}\n",
      "    {'timeStamp': 1423136539695, 'seqNr': 12, 'signal': -80, 'droneId': 'Papa'}\n",
      "    {'timeStamp': 1423136539698, 'seqNr': 12, 'signal': -73, 'droneId': 'Lima'}\n",
      "    {'timeStamp': 1423136539700, 'seqNr': 12, 'signal': -54, 'droneId': 'November'}\n",
      "    {'timeStamp': 1423136539700, 'seqNr': 12, 'signal': -78, 'droneId': 'India'}\n",
      "    {'timeStamp': 1423136539707, 'seqNr': 12, 'signal': -86, 'droneId': 'Mike'}\n",
      "    {'timeStamp': 1423136539707, 'seqNr': 12, 'signal': -84, 'droneId': 'Romeo'}\n",
      "    {'timeStamp': 1423136539716, 'seqNr': 12, 'signal': -74, 'droneId': 'Quebec'}\n",
      "    {'timeStamp': 1423136539757, 'seqNr': 12, 'signal': -81, 'droneId': 'Kilo'}\n",
      "\n",
      "    {'timeStamp': 1423136539701, 'seqNr': 268, 'signal': -78, 'droneId': 'Oscar'}\n",
      "    {'timeStamp': 1423136539701, 'seqNr': 268, 'signal': -65, 'droneId': 'Hotel'}\n",
      "    {'timeStamp': 1423136539705, 'seqNr': 268, 'signal': -80, 'droneId': 'Papa'}\n",
      "    {'timeStamp': 1423136539708, 'seqNr': 268, 'signal': -73, 'droneId': 'Lima'}\n",
      "    {'timeStamp': 1423136539710, 'seqNr': 268, 'signal': -78, 'droneId': 'India'}\n",
      "    {'timeStamp': 1423136539710, 'seqNr': 268, 'signal': -53, 'droneId': 'November'}\n",
      "    {'timeStamp': 1423136539717, 'seqNr': 268, 'signal': -85, 'droneId': 'Romeo'}\n",
      "    {'timeStamp': 1423136539717, 'seqNr': 268, 'signal': -83, 'droneId': 'Mike'}\n",
      "    {'timeStamp': 1423136539726, 'seqNr': 268, 'signal': -73, 'droneId': 'Quebec'}\n",
      "    {'timeStamp': 1423136539767, 'seqNr': 268, 'signal': -83, 'droneId': 'Kilo'}\n",
      "\n",
      "    {'timeStamp': 1423136584681, 'seqNr': 2060, 'signal': -77, 'droneId': 'Oscar'}\n",
      "    {'timeStamp': 1423136584681, 'seqNr': 2060, 'signal': -65, 'droneId': 'Hotel'}\n",
      "    {'timeStamp': 1423136584690, 'seqNr': 2060, 'signal': -56, 'droneId': 'November'}\n",
      "    {'timeStamp': 1423136584691, 'seqNr': 2060, 'signal': -73, 'droneId': 'India'}\n",
      "    {'timeStamp': 1423136584698, 'seqNr': 2060, 'signal': -62, 'droneId': 'Romeo'}\n",
      "    {'timeStamp': 1423136584748, 'seqNr': 2060, 'signal': -61, 'droneId': 'Kilo'}\n",
      "\n",
      "    {'timeStamp': 1423136584690, 'seqNr': 2316, 'signal': -66, 'droneId': 'Hotel'}\n",
      "    {'timeStamp': 1423136584690, 'seqNr': 2316, 'signal': -78, 'droneId': 'Oscar'}\n",
      "    {'timeStamp': 1423136584695, 'seqNr': 2316, 'signal': -77, 'droneId': 'Papa'}\n",
      "    {'timeStamp': 1423136584698, 'seqNr': 2316, 'signal': -79, 'droneId': 'Lima'}\n",
      "    {'timeStamp': 1423136584699, 'seqNr': 2316, 'signal': -63, 'droneId': 'November'}\n",
      "    {'timeStamp': 1423136584700, 'seqNr': 2316, 'signal': -74, 'droneId': 'India'}\n",
      "    {'timeStamp': 1423136584707, 'seqNr': 2316, 'signal': -76, 'droneId': 'Mike'}\n",
      "    {'timeStamp': 1423136584707, 'seqNr': 2316, 'signal': -61, 'droneId': 'Romeo'}\n",
      "    {'timeStamp': 1423136584716, 'seqNr': 2316, 'signal': -69, 'droneId': 'Quebec'}\n",
      "    {'timeStamp': 1423136584757, 'seqNr': 2316, 'signal': -61, 'droneId': 'Kilo'}\n",
      "\n",
      "    {'timeStamp': 1423136629671, 'seqNr': 525, 'signal': -65, 'droneId': 'Oscar'}\n",
      "    {'timeStamp': 1423136629671, 'seqNr': 525, 'signal': -53, 'droneId': 'Hotel'}\n",
      "    {'timeStamp': 1423136629675, 'seqNr': 525, 'signal': -77, 'droneId': 'Papa'}\n",
      "    {'timeStamp': 1423136629678, 'seqNr': 525, 'signal': -68, 'droneId': 'Lima'}\n",
      "    {'timeStamp': 1423136629680, 'seqNr': 525, 'signal': -48, 'droneId': 'November'}\n",
      "    {'timeStamp': 1423136629681, 'seqNr': 525, 'signal': -77, 'droneId': 'India'}\n",
      "    {'timeStamp': 1423136629687, 'seqNr': 525, 'signal': -85, 'droneId': 'Romeo'}\n",
      "    {'timeStamp': 1423136629687, 'seqNr': 525, 'signal': -82, 'droneId': 'Mike'}\n",
      "    {'timeStamp': 1423136629696, 'seqNr': 525, 'signal': -71, 'droneId': 'Quebec'}\n",
      "    {'timeStamp': 1423136629711, 'seqNr': 525, 'signal': -46, 'droneId': 'Alpha'}\n",
      "    {'timeStamp': 1423136629737, 'seqNr': 525, 'signal': -85, 'droneId': 'Kilo'}\n",
      "\n",
      "    {'timeStamp': 1423136629681, 'seqNr': 781, 'signal': -63, 'droneId': 'Oscar'}\n",
      "    {'timeStamp': 1423136629682, 'seqNr': 781, 'signal': -53, 'droneId': 'Hotel'}\n",
      "    {'timeStamp': 1423136629686, 'seqNr': 781, 'signal': -75, 'droneId': 'Papa'}\n",
      "    {'timeStamp': 1423136629689, 'seqNr': 781, 'signal': -68, 'droneId': 'Lima'}\n",
      "    {'timeStamp': 1423136629690, 'seqNr': 781, 'signal': -47, 'droneId': 'November'}\n",
      "    {'timeStamp': 1423136629691, 'seqNr': 781, 'signal': -78, 'droneId': 'India'}\n",
      "    {'timeStamp': 1423136629698, 'seqNr': 781, 'signal': -84, 'droneId': 'Romeo'}\n",
      "    {'timeStamp': 1423136629698, 'seqNr': 781, 'signal': -82, 'droneId': 'Mike'}\n",
      "    {'timeStamp': 1423136629707, 'seqNr': 781, 'signal': -72, 'droneId': 'Quebec'}\n",
      "    {'timeStamp': 1423136629722, 'seqNr': 781, 'signal': -46, 'droneId': 'Alpha'}\n",
      "\n",
      "    {'timeStamp': 1423136674660, 'seqNr': 2573, 'signal': -79, 'droneId': 'Oscar'}\n",
      "    {'timeStamp': 1423136674669, 'seqNr': 2573, 'signal': -73, 'droneId': 'Lima'}\n",
      "    {'timeStamp': 1423136674670, 'seqNr': 2573, 'signal': -64, 'droneId': 'November'}\n",
      "    {'timeStamp': 1423136674671, 'seqNr': 2573, 'signal': -74, 'droneId': 'India'}\n",
      "    {'timeStamp': 1423136674728, 'seqNr': 2573, 'signal': -76, 'droneId': 'Kilo'}\n",
      "\n",
      "    {'timeStamp': 1423136678257, 'seqNr': 2573, 'signal': -78, 'droneId': 'Oscar'}\n",
      "    {'timeStamp': 1423136678258, 'seqNr': 2573, 'signal': -72, 'droneId': 'Hotel'}\n",
      "    {'timeStamp': 1423136678267, 'seqNr': 2573, 'signal': -65, 'droneId': 'November'}\n",
      "    {'timeStamp': 1423136678268, 'seqNr': 2573, 'signal': -76, 'droneId': 'India'}\n",
      "\n",
      "    {'timeStamp': 1423136678267, 'seqNr': 2829, 'signal': -79, 'droneId': 'Oscar'}\n",
      "    {'timeStamp': 1423136678268, 'seqNr': 2829, 'signal': -72, 'droneId': 'Hotel'}\n",
      "    {'timeStamp': 1423136678277, 'seqNr': 2829, 'signal': -67, 'droneId': 'November'}\n",
      "    {'timeStamp': 1423136678278, 'seqNr': 2829, 'signal': -77, 'droneId': 'India'}\n",
      "\n",
      "    {'timeStamp': 1423136679102, 'seqNr': 1037, 'signal': -77, 'droneId': 'India'}\n",
      "    {'timeStamp': 1423136679158, 'seqNr': 1037, 'signal': -80, 'droneId': 'Kilo'}\n",
      "    {'timeStamp': 1423136679906, 'seqNr': 1037, 'signal': -86, 'droneId': 'Oscar'}\n",
      "    {'timeStamp': 1423136679919, 'seqNr': 1037, 'signal': -69, 'droneId': 'Hotel'}\n",
      "    {'timeStamp': 1423136679994, 'seqNr': 1037, 'signal': -77, 'droneId': 'Lima'}\n",
      "\n",
      "    {'timeStamp': 1423136679411, 'seqNr': 1293, 'signal': -71, 'droneId': 'Hotel'}\n",
      "    {'timeStamp': 1423136679418, 'seqNr': 1293, 'signal': -79, 'droneId': 'Lima'}\n",
      "    {'timeStamp': 1423136679420, 'seqNr': 1293, 'signal': -78, 'droneId': 'India'}\n",
      "    {'timeStamp': 1423136679420, 'seqNr': 1293, 'signal': -70, 'droneId': 'November'}\n",
      "    {'timeStamp': 1423136679427, 'seqNr': 1293, 'signal': -96, 'droneId': 'Mike'}\n",
      "    {'timeStamp': 1423136679436, 'seqNr': 1293, 'signal': -82, 'droneId': 'Quebec'}\n",
      "    {'timeStamp': 1423136679477, 'seqNr': 1293, 'signal': -82, 'droneId': 'Kilo'}\n",
      "\n",
      "    {'timeStamp': 1423136679422, 'seqNr': 1549, 'signal': -83, 'droneId': 'Oscar'}\n",
      "    {'timeStamp': 1423136679423, 'seqNr': 1549, 'signal': -74, 'droneId': 'Hotel'}\n",
      "    {'timeStamp': 1423136679431, 'seqNr': 1549, 'signal': -78, 'droneId': 'Lima'}\n",
      "    {'timeStamp': 1423136679432, 'seqNr': 1549, 'signal': -74, 'droneId': 'November'}\n",
      "    {'timeStamp': 1423136679433, 'seqNr': 1549, 'signal': -81, 'droneId': 'India'}\n",
      "    {'timeStamp': 1423136679440, 'seqNr': 1549, 'signal': -89, 'droneId': 'Romeo'}\n",
      "    {'timeStamp': 1423136679440, 'seqNr': 1549, 'signal': -92, 'droneId': 'Mike'}\n",
      "\n",
      "    {'timeStamp': 1423136679425, 'seqNr': 1805, 'signal': -72, 'droneId': 'Hotel'}\n",
      "    {'timeStamp': 1423136679432, 'seqNr': 1805, 'signal': -78, 'droneId': 'Lima'}\n",
      "    {'timeStamp': 1423136679435, 'seqNr': 1805, 'signal': -80, 'droneId': 'India'}\n",
      "    {'timeStamp': 1423136679441, 'seqNr': 1805, 'signal': -88, 'droneId': 'Romeo'}\n",
      "    {'timeStamp': 1423136679465, 'seqNr': 1805, 'signal': -64, 'droneId': 'Alpha'}\n",
      "\n",
      "    {'timeStamp': 1423136679432, 'seqNr': 2061, 'signal': -82, 'droneId': 'Oscar'}\n",
      "    {'timeStamp': 1423136679433, 'seqNr': 2061, 'signal': -74, 'droneId': 'Hotel'}\n",
      "    {'timeStamp': 1423136679441, 'seqNr': 2061, 'signal': -77, 'droneId': 'Lima'}\n",
      "    {'timeStamp': 1423136679442, 'seqNr': 2061, 'signal': -76, 'droneId': 'November'}\n",
      "    {'timeStamp': 1423136679443, 'seqNr': 2061, 'signal': -79, 'droneId': 'India'}\n",
      "    {'timeStamp': 1423136679449, 'seqNr': 2061, 'signal': -94, 'droneId': 'Mike'}\n",
      "    {'timeStamp': 1423136679449, 'seqNr': 2061, 'signal': -91, 'droneId': 'Romeo'}\n",
      "    {'timeStamp': 1423136679459, 'seqNr': 2061, 'signal': -82, 'droneId': 'Quebec'}\n",
      "    {'timeStamp': 1423136679473, 'seqNr': 2061, 'signal': -61, 'droneId': 'Alpha'}\n",
      "    {'timeStamp': 1423136679499, 'seqNr': 2061, 'signal': -85, 'droneId': 'Kilo'}\n",
      "\n",
      "    {'timeStamp': 1423136679437, 'seqNr': 1, 'signal': -80, 'droneId': 'Oscar'}\n",
      "    {'timeStamp': 1423136679439, 'seqNr': 1, 'signal': -75, 'droneId': 'Hotel'}\n",
      "    {'timeStamp': 1423136679446, 'seqNr': 1, 'signal': -78, 'droneId': 'Lima'}\n",
      "    {'timeStamp': 1423136679448, 'seqNr': 1, 'signal': -78, 'droneId': 'India'}\n",
      "    {'timeStamp': 1423136679455, 'seqNr': 1, 'signal': -95, 'droneId': 'Mike'}\n",
      "    {'timeStamp': 1423136679455, 'seqNr': 1, 'signal': -91, 'droneId': 'Romeo'}\n",
      "    {'timeStamp': 1423136679505, 'seqNr': 1, 'signal': -84, 'droneId': 'Kilo'}\n",
      "\n",
      "    {'timeStamp': 1423136679513, 'seqNr': 3385, 'signal': -73, 'droneId': 'Oscar'}\n",
      "    {'timeStamp': 1423136679514, 'seqNr': 3385, 'signal': -68, 'droneId': 'Hotel'}\n",
      "    {'timeStamp': 1423136679523, 'seqNr': 3385, 'signal': -68, 'droneId': 'November'}\n",
      "    {'timeStamp': 1423136679524, 'seqNr': 3385, 'signal': -77, 'droneId': 'India'}\n",
      "    {'timeStamp': 1423136679555, 'seqNr': 3385, 'signal': -59, 'droneId': 'Alpha'}\n",
      "\n",
      "    {'timeStamp': 1423136942454, 'seqNr': 2317, 'signal': -90, 'droneId': 'Oscar'}\n",
      "    {'timeStamp': 1423136942461, 'seqNr': 2317, 'signal': -80, 'droneId': 'Hotel'}\n",
      "    {'timeStamp': 1423136942469, 'seqNr': 2317, 'signal': -79, 'droneId': 'November'}\n",
      "    {'timeStamp': 1423136942476, 'seqNr': 2317, 'signal': -95, 'droneId': 'Romeo'}\n",
      "    {'timeStamp': 1423136942501, 'seqNr': 2317, 'signal': -60, 'droneId': 'Alpha'}\n",
      "\n",
      "    {'timeStamp': 1423136942491, 'seqNr': 2573, 'signal': -85, 'droneId': 'Lima'}\n",
      "    {'timeStamp': 1423136942492, 'seqNr': 2573, 'signal': -81, 'droneId': 'November'}\n",
      "    {'timeStamp': 1423136942493, 'seqNr': 2573, 'signal': -87, 'droneId': 'India'}\n",
      "    {'timeStamp': 1423136942498, 'seqNr': 2573, 'signal': -94, 'droneId': 'Romeo'}\n",
      "    {'timeStamp': 1423136942523, 'seqNr': 2573, 'signal': -58, 'droneId': 'Alpha'}\n",
      "\n",
      "    {'timeStamp': 1423136985263, 'seqNr': 781, 'signal': -76, 'droneId': 'Hotel'}\n",
      "    {'timeStamp': 1423136985336, 'seqNr': 781, 'signal': -83, 'droneId': 'Lima'}\n",
      "    {'timeStamp': 1423136985346, 'seqNr': 781, 'signal': -80, 'droneId': 'November'}\n",
      "    {'timeStamp': 1423136985412, 'seqNr': 781, 'signal': -92, 'droneId': 'Romeo'}\n",
      "\n",
      "    {'timeStamp': 1423136985474, 'seqNr': 1037, 'signal': -79, 'droneId': 'Hotel'}\n",
      "    {'timeStamp': 1423136985547, 'seqNr': 1037, 'signal': -87, 'droneId': 'Lima'}\n",
      "    {'timeStamp': 1423136985558, 'seqNr': 1037, 'signal': -77, 'droneId': 'November'}\n",
      "    {'timeStamp': 1423136985624, 'seqNr': 1037, 'signal': -93, 'droneId': 'Romeo'}\n",
      "groups:  28\n"
     ]
    }
   ],
   "source": [
    "minGroupSize = 4\n",
    "maxTimePassed = 1000\n",
    "\n",
    "def readAndFilterData(groupByTime=False):\n",
    "    reader = csv.reader(open('UvA-wifitracking-exercise-prepped-data.csv'));\n",
    "\n",
    "    # Read data\n",
    "    skippedHeader = False\n",
    "    data = []\n",
    "    for entry in reader:\n",
    "        if not skippedHeader:\n",
    "            skippedHeader = True\n",
    "            continue\n",
    "        data.append({'seqNr': int(entry[3]), 'timeStamp': int(entry[5]), 'droneId': entry[6], 'signal': int(entry[7])})\n",
    "\n",
    "    # Sort by seqNr then measurementTimestamp\n",
    "    data = sorted(data, key=lambda entry: (entry['seqNr'], entry['timeStamp']))\n",
    "\n",
    "    # Create new group if: different seqNr or too much time has passed\n",
    "    groupedData = []\n",
    "    currentGroup = []\n",
    "    firstEntry = True\n",
    "    for entry in data:\n",
    "        if firstEntry:\n",
    "            currentGroup.append(entry)\n",
    "            firstEntry = False\n",
    "            continue\n",
    "        # if new seqNr compared to prev. entry\n",
    "        if currentGroup[-1]['seqNr'] != entry['seqNr']:\n",
    "            if len(currentGroup) >= minGroupSize:\n",
    "                groupedData.append(currentGroup[:])\n",
    "            currentGroup = [entry]\n",
    "            continue\n",
    "        # if too much time past compared to prev entry\n",
    "        if entry['timeStamp'] - currentGroup[-1]['timeStamp'] > maxTimePassed:\n",
    "            if len(currentGroup) >= minGroupSize:\n",
    "                groupedData.append(currentGroup[:])\n",
    "            currentGroup = [entry]\n",
    "            continue\n",
    "        currentGroup.append(entry)\n",
    "        \n",
    "    groupedData = sorted(groupedData, key=lambda group: group[0]['timeStamp'])\n",
    "    \n",
    "    \n",
    "    if groupByTime:\n",
    "        stackedGroups = []\n",
    "        prevTime = 0\n",
    "        for group in groupedData:\n",
    "            if prevTime == 0: \n",
    "                prevTime = group[-1]['timeStamp']\n",
    "                stackedGroups = [group]\n",
    "                continue\n",
    "\n",
    "            if group[0]['timeStamp'] - prevTime > 20:\n",
    "                stackedGroups.append(group)\n",
    "                \n",
    "            prevTime = group[-1]['timeStamp']\n",
    "            \n",
    "        return stackedGroups\n",
    "    \n",
    "    return groupedData\n",
    "\n",
    "data = readAndFilterData()\n",
    "for group in data:\n",
    "    print()\n",
    "    for entry in group:\n",
    "        print(\"   \", entry)\n",
    "print(\"groups: \", len(data))"
   ]
  },
  {
   "cell_type": "markdown",
   "metadata": {
    "collapsed": true,
    "nbpresent": {
     "id": "f7ba6e6c-4f44-4730-98e3-131c4fd364e7"
    }
   },
   "source": [
    "**0.6 b,c,d**"
   ]
  },
  {
   "cell_type": "code",
   "execution_count": 209,
   "metadata": {
    "collapsed": false,
    "nbpresent": {
     "id": "6f4ca9ed-d1d5-46f1-a425-1c18db20bb05"
    }
   },
   "outputs": [
    {
     "data": {
      "image/png": "[encoded data removed]",
      "text/plain": [
       "<matplotlib.figure.Figure at 0x7f5176763208>"
      ]
     },
     "metadata": {},
     "output_type": "display_data"
    },
    {
     "data": {
      "image/png": "[encoded data removed]",
      "text/plain": [
       "<matplotlib.figure.Figure at 0x7f517f1069b0>"
      ]
     },
     "metadata": {},
     "output_type": "display_data"
    }
   ],
   "source": [
    "routers = {'Lima': [5.82, 5.48],\n",
    "          'Mike': [11.33, 9.43],\n",
    "          'Kilo': [12.93, 6.77],\n",
    "          'Oscar': [2.48, 7.36],\n",
    "          'Alpha': [8.53, 2.16],\n",
    "          'India': [2.18, 5.61],\n",
    "          'November': [8.34, 4.13],\n",
    "          'Hotel': [5.43, 4.71],\n",
    "          'Romeo': [10.99, 5.94],\n",
    "          'Quebec': [6.82, 9.78],\n",
    "          'Papa': [9.9, 10.39]}\n",
    "\n",
    "sigma = 10\n",
    "nSamples = 1\n",
    "\n",
    "initialPosition = []\n",
    "currentGroup = []\n",
    "positions = []\n",
    "chis = []\n",
    "Pts = []\n",
    "stdsx = []\n",
    "stdsy = []\n",
    "stdsPt = []\n",
    "\n",
    "def reset():\n",
    "    global initialPosition\n",
    "    global currentGroup\n",
    "    global positions\n",
    "    global chis\n",
    "    global stdsx\n",
    "    global stdsy\n",
    "    global stdsPt\n",
    "    \n",
    "    initialPosition = []\n",
    "    currentGroup = []\n",
    "    positions = []\n",
    "    chis = []\n",
    "    Pts = []\n",
    "    stdsx = []\n",
    "    stdsy = []\n",
    "    stdsPt = []\n",
    "\n",
    "def estimatePosition(parameters):\n",
    "    x,y,Pt = parameters\n",
    "    Chi = 0\n",
    "    for packet in currentGroup:\n",
    "        routerLocation = routers[packet['droneId']]\n",
    "        xi = routerLocation[0]\n",
    "        yi = routerLocation[1]\n",
    "        Z = 2\n",
    "        Si = getExpectedStrength(x,y,xi,yi,Z,Pt)\n",
    "        Pri = packet['signal']\n",
    "        Chi += math.pow(Si-Pri,2)/math.pow(sigma,2)\n",
    "    return Chi\n",
    "\n",
    "def estimateUncertainty(group, position):\n",
    "    B11 = B12 = B13 = B21 = B22 = B23 = B31 = B32 = B33 = 0\n",
    "    for packet in group:\n",
    "        routerLocation = routers[packet['droneId']]\n",
    "        x = routerLocation[0]\n",
    "        y = routerLocation[1]\n",
    "        dFdx = (40*(position[0] - x))/(math.log(10)*((position[0]-x)**2 + (position[1]-y)**2 + Z**2))\n",
    "        dFdy = (40*(position[1] - y))/(math.log(10)*((position[0]-x)**2 + (position[1]-y)**2 + Z**2))\n",
    "        dFdPt = 1\n",
    "        B11 += (dFdx**2 * 1/(sigma**2))\n",
    "        B22 += (dFdy**2 * 1/(sigma**2))\n",
    "        B12 += (dFdx * dFdy * 1/(sigma**2))\n",
    "        B21 = B12\n",
    "        B13 += (dFdx * dFdPt * 1/(sigma**2))\n",
    "        B31 = B13\n",
    "        B23 += (dFdy * dFdPt * 1/(sigma**2))\n",
    "        B32 = B23\n",
    "        B33 += (dFdPt**2 * 1/(sigma**2))\n",
    "    \n",
    "    B = np.matrix([[B11,B12,B13],[B21,B22,B23],[B31,B32,B33]])\n",
    "    \n",
    "    varx, vary, varPt = np.diagonal(np.linalg.inv(B))\n",
    "    \n",
    "    stdsx.append(np.sqrt(varx))\n",
    "    stdsy.append(np.sqrt(vary))\n",
    "    stdsPt.append(np.sqrt(varPt))       \n",
    "\n",
    "    \n",
    "def trackUser(data):\n",
    "    for group in data:\n",
    "        position = [0,0]\n",
    "        chi = 0;\n",
    "        global currentGroup\n",
    "        currentGroup = group\n",
    "        initialPosition = getRandomInitialPosition()   \n",
    "        initialPt = getInitialPt()\n",
    "        result = minimize(estimatePosition, [0,0,0], method='Powell')\n",
    "        position[0] = position[0] + result.x[0]\n",
    "        position[1] = position[1] + result.x[1]\n",
    "        chis.append(result.fun)\n",
    "        Pts.append(result.x[2])\n",
    "        positions.append(position)\n",
    "        estimateUncertainty(group, position)\n",
    "\n",
    "    routerPositions = np.matrix(list(routers.values()))\n",
    "    positionsMatrix = np.matrix(positions)\n",
    "    plt.scatter(routerPositions[:,0], routerPositions[:,1], color='r') \n",
    "    plt.plot(positionsMatrix[:,0], positionsMatrix[:,1])\n",
    "    #plt.ylim(-10, 20)\n",
    "    #plt.xlim(-10, 20)\n",
    "\n",
    "    #print(positions)\n",
    "\n",
    "    e = []\n",
    "    for i in range(len(positions)):\n",
    "        e.append(Ellipse(positions[i], width = stdsx[i], height=stdsy[i]))\n",
    "        plt.gca().add_artist(e[i])\n",
    "        e[i].set_alpha(0.2)\n",
    "        e[i].set_facecolor('g')\n",
    "\n",
    "    plt.show()\n",
    "\n",
    "    plt.hist(chis, bins=10)\n",
    "    plt.show()\n",
    "    \n",
    "trackUser(data)"
   ]
  },
  {
   "cell_type": "markdown",
   "metadata": {},
   "source": [
    "**0.6e**: From averaging the radii of the the uncertainties at each point we estimate the resolution of the tracking system. Given the provided data and with consideration to the estimate uncertainty the system is accurate within 2m of the devices actual location, or slightly less in the x-direction and more in the y-. \n",
    "\n",
    "Given their arrangement, interesting further study could be made into whether the position of the routers has an effect on the indivual axis variances."
   ]
  },
  {
   "cell_type": "code",
   "execution_count": 205,
   "metadata": {
    "collapsed": false,
    "nbpresent": {
     "id": "ab57296a-449d-49c3-9ed3-63a33279252d"
    }
   },
   "outputs": [
    {
     "name": "stdout",
     "output_type": "stream",
     "text": [
      "1.54266028852\n",
      "2.85557231689\n"
     ]
    }
   ],
   "source": [
    "print(np.mean(stdsx)/2)\n",
    "print(np.mean(stdsy)/2)"
   ]
  },
  {
   "cell_type": "markdown",
   "metadata": {
    "collapsed": true
   },
   "source": [
    "**0.6f:** Below is the average estimated transmission power and the histogram showing their distribution. We see an average transmission power of roughly -20 dBm, which aligns with empirical tests for estimation."
   ]
  },
  {
   "cell_type": "code",
   "execution_count": 210,
   "metadata": {
    "collapsed": false
   },
   "outputs": [
    {
     "name": "stdout",
     "output_type": "stream",
     "text": [
      "average Pt: -19.2774812142\n"
     ]
    },
    {
     "data": {
      "image/png": "[encoded data removed]",
      "text/plain": [
       "<matplotlib.figure.Figure at 0x7f5176393f28>"
      ]
     },
     "metadata": {},
     "output_type": "display_data"
    }
   ],
   "source": [
    "print(\"average Pt:\", np.mean(Pts))\n",
    "\n",
    "plt.hist(Pts)\n",
    "plt.show()"
   ]
  },
  {
   "cell_type": "code",
   "execution_count": 207,
   "metadata": {
    "collapsed": false
   },
   "outputs": [
    {
     "data": {
      "image/png": "[encoded data removed]",
      "text/plain": [
       "<matplotlib.figure.Figure at 0x7f517f16c080>"
      ]
     },
     "metadata": {},
     "output_type": "display_data"
    },
    {
     "data": {
      "image/png": "[encoded data removed]",
      "text/plain": [
       "<matplotlib.figure.Figure at 0x7f51767852b0>"
      ]
     },
     "metadata": {},
     "output_type": "display_data"
    }
   ],
   "source": [
    "data2 = readAndFilterData(True)\n",
    "\n",
    "reset()\n",
    "\n",
    "trackUser(data2)"
   ]
  }
 ],
 "metadata": {
  "anaconda-cloud": {},
  "kernelspec": {
   "display_name": "Python 2",
   "language": "python",
   "name": "python2"
  },
  "language_info": {
   "codemirror_mode": {
    "name": "ipython",
    "version": 2
   },
   "file_extension": ".py",
   "mimetype": "text/x-python",
   "name": "python",
   "nbconvert_exporter": "python",
   "pygments_lexer": "ipython2",
   "version": "2.7.11"
  },
  "nbpresent": {
   "slides": {
    "08950829-eb24-41d6-9335-2b2ed226f7cc": {
     "id": "08950829-eb24-41d6-9335-2b2ed226f7cc",
     "prev": "8094f290-0198-4de0-9ae6-e2210b67e616",
     "regions": {
      "23370bbc-5b91-40c6-9852-e463392471f3": {
       "attrs": {
        "height": 0.8,
        "width": 0.8,
        "x": 0.1,
        "y": 0.1
       },
       "content": {
        "cell": "ac5c50ea-664f-4330-9949-30dc84523ca5",
        "part": "whole"
       },
       "id": "23370bbc-5b91-40c6-9852-e463392471f3"
      }
     }
    },
    "2504d6db-5b55-45f4-b788-18326275e14a": {
     "id": "2504d6db-5b55-45f4-b788-18326275e14a",
     "prev": "79ae8124-d158-49e6-b3ef-c2d239748d0b",
     "regions": {
      "186cceb4-b5ef-458a-b33c-b4e3a8158a1e": {
       "attrs": {
        "height": 0.8,
        "width": 0.8,
        "x": 0.1,
        "y": 0.1
       },
       "content": {
        "cell": "1fc3b5c6-226f-42f5-9193-b8b2f6d6526c",
        "part": "whole"
       },
       "id": "186cceb4-b5ef-458a-b33c-b4e3a8158a1e"
      }
     }
    },
    "2d5340ca-5d14-4933-be2c-69af480fe5a1": {
     "id": "2d5340ca-5d14-4933-be2c-69af480fe5a1",
     "prev": "35d79929-cf6f-478b-a529-9aed65aafa89",
     "regions": {
      "d244c92c-8480-4f03-b722-be931afa66b5": {
       "attrs": {
        "height": 0.8,
        "width": 0.8,
        "x": 0.1,
        "y": 0.1
       },
       "content": {
        "cell": "c5d1acbf-b35b-4112-9318-9324954018ae",
        "part": "whole"
       },
       "id": "d244c92c-8480-4f03-b722-be931afa66b5"
      }
     }
    },
    "305a8c03-ac7f-4c92-ba57-499402781293": {
     "id": "305a8c03-ac7f-4c92-ba57-499402781293",
     "layout": "grid",
     "prev": "58873e60-547b-45d0-881b-0eb6914cf6f1",
     "regions": {
      "57943bbf-f613-4931-ba0a-de79091b573f": {
       "attrs": {
        "height": 0.8333333333333334,
        "pad": 0.01,
        "width": 0.8333333333333334,
        "x": 0.08333333333333333,
        "y": 0.08333333333333333
       },
       "content": {
        "cell": "6f4ca9ed-d1d5-46f1-a425-1c18db20bb05",
        "part": "outputs"
       },
       "id": "57943bbf-f613-4931-ba0a-de79091b573f"
      }
     }
    },
    "350c2f32-6b9e-4eb6-bee1-2e44c0a3ad6c": {
     "id": "350c2f32-6b9e-4eb6-bee1-2e44c0a3ad6c",
     "prev": "08950829-eb24-41d6-9335-2b2ed226f7cc",
     "regions": {
      "63dd05b5-bcd9-4a3b-b415-862e0261e4d0": {
       "attrs": {
        "height": 0.8,
        "width": 0.8,
        "x": 0.1,
        "y": 0.1
       },
       "content": {
        "cell": "2a7e7c72-ca5c-433a-9ea0-062ac35c2794",
        "part": "whole"
       },
       "id": "63dd05b5-bcd9-4a3b-b415-862e0261e4d0"
      }
     }
    },
    "35d79929-cf6f-478b-a529-9aed65aafa89": {
     "id": "35d79929-cf6f-478b-a529-9aed65aafa89",
     "prev": "8aa30867-478c-44f6-aae1-f06155c8e110",
     "regions": {
      "3c1a687c-93da-4732-9914-0ad2fdcd79e6": {
       "attrs": {
        "height": 0.8,
        "width": 0.8,
        "x": 0.1,
        "y": 0.1
       },
       "content": {
        "cell": "412971d4-94b7-472a-aab6-d9b03eb0c2ec",
        "part": "whole"
       },
       "id": "3c1a687c-93da-4732-9914-0ad2fdcd79e6"
      }
     }
    },
    "3faa0c73-2222-4503-9312-4e536d1713c2": {
     "id": "3faa0c73-2222-4503-9312-4e536d1713c2",
     "prev": "7812026d-61be-421c-acf5-9003386f550e",
     "regions": {
      "0eb55279-4b1d-4384-b1f4-a400ed3e04ae": {
       "attrs": {
        "height": 0.8,
        "width": 0.8,
        "x": 0.1,
        "y": 0.1
       },
       "content": {
        "cell": "e5b3053e-8c48-45f1-9ac3-5565d7bf9333",
        "part": "whole"
       },
       "id": "0eb55279-4b1d-4384-b1f4-a400ed3e04ae"
      }
     }
    },
    "404f23ef-61a9-4307-841a-6d334311ce0a": {
     "id": "404f23ef-61a9-4307-841a-6d334311ce0a",
     "prev": "ae87cc5d-d0ad-4dcf-916a-2837bfa9db00",
     "regions": {
      "004dd481-b354-4cc2-9465-999fcab2bd17": {
       "attrs": {
        "height": 0.8,
        "width": 0.8,
        "x": 0.1,
        "y": 0.1
       },
       "content": {
        "cell": "1f6e241b-1208-4683-b6cc-5609625fc5e3",
        "part": "whole"
       },
       "id": "004dd481-b354-4cc2-9465-999fcab2bd17"
      }
     }
    },
    "4795104b-c463-46da-ba28-6f77dd84d0c8": {
     "id": "4795104b-c463-46da-ba28-6f77dd84d0c8",
     "prev": "61ffdcab-9037-4bdb-aba6-da9f51d1dfd3",
     "regions": {
      "567d3af2-6b03-4e18-9e2f-0a0ea018e4c8": {
       "attrs": {
        "height": 0.8,
        "width": 0.8,
        "x": 0.1,
        "y": 0.1
       },
       "content": {
        "cell": "f7ba6e6c-4f44-4730-98e3-131c4fd364e7",
        "part": "whole"
       },
       "id": "567d3af2-6b03-4e18-9e2f-0a0ea018e4c8"
      }
     }
    },
    "5521deb3-a9e6-4b73-aea8-e2e27ebafc72": {
     "id": "5521deb3-a9e6-4b73-aea8-e2e27ebafc72",
     "prev": "3faa0c73-2222-4503-9312-4e536d1713c2",
     "regions": {
      "66def367-3c8e-4fb9-8621-2cbce769b5bb": {
       "attrs": {
        "height": 0.8,
        "width": 0.8,
        "x": 0.1,
        "y": 0.1
       },
       "content": {
        "cell": "fbcc0227-f407-4feb-9097-ce21acc125cc",
        "part": "whole"
       },
       "id": "66def367-3c8e-4fb9-8621-2cbce769b5bb"
      }
     }
    },
    "58873e60-547b-45d0-881b-0eb6914cf6f1": {
     "id": "58873e60-547b-45d0-881b-0eb6914cf6f1",
     "prev": "4795104b-c463-46da-ba28-6f77dd84d0c8",
     "regions": {
      "cf716047-4a2a-4473-850c-6fdf48064ef2": {
       "attrs": {
        "height": 0.8,
        "width": 0.8,
        "x": 0.1,
        "y": 0.1
       },
       "content": {
        "cell": "6f4ca9ed-d1d5-46f1-a425-1c18db20bb05",
        "part": "whole"
       },
       "id": "cf716047-4a2a-4473-850c-6fdf48064ef2"
      }
     }
    },
    "5a0d4db3-9ec4-42e2-ba81-b2625f1c5433": {
     "id": "5a0d4db3-9ec4-42e2-ba81-b2625f1c5433",
     "prev": "9ea333a2-70a6-444c-b986-973992b8ddb5",
     "regions": {
      "fbb89c0b-2dc2-49b4-8b47-1f3d49756874": {
       "attrs": {
        "height": 0.8,
        "width": 0.8,
        "x": 0.1,
        "y": 0.1
       },
       "content": {
        "cell": "cce57c55-3ae2-4d19-9188-c894fe1e9e94",
        "part": "whole"
       },
       "id": "fbb89c0b-2dc2-49b4-8b47-1f3d49756874"
      }
     }
    },
    "5b4127c8-d8ba-4270-ba63-02fcff358c00": {
     "id": "5b4127c8-d8ba-4270-ba63-02fcff358c00",
     "prev": "a14bd799-d6c9-437a-9b40-2c9f5fdffb1e",
     "regions": {
      "bb0e9a1c-3c40-4a38-90f2-acde6e932deb": {
       "attrs": {
        "height": 0.8,
        "width": 0.8,
        "x": 0.1,
        "y": 0.1
       },
       "content": {
        "cell": "d44f1dea-6e87-473c-8568-609bf0d09638",
        "part": "whole"
       },
       "id": "bb0e9a1c-3c40-4a38-90f2-acde6e932deb"
      }
     }
    },
    "61ffdcab-9037-4bdb-aba6-da9f51d1dfd3": {
     "id": "61ffdcab-9037-4bdb-aba6-da9f51d1dfd3",
     "prev": "8b3e829d-0481-47f5-a0ac-8f7ae931b001",
     "regions": {
      "7bb23643-56b5-4b4e-b542-471a187028e7": {
       "attrs": {
        "height": 0.8,
        "width": 0.8,
        "x": 0.1,
        "y": 0.1
       },
       "content": {
        "cell": "4a2196c4-2aff-40e6-80d1-a879c7eff53f",
        "part": "whole"
       },
       "id": "7bb23643-56b5-4b4e-b542-471a187028e7"
      }
     }
    },
    "63c689fe-dd88-45ec-b6d3-3f6ac1ef16ff": {
     "id": "63c689fe-dd88-45ec-b6d3-3f6ac1ef16ff",
     "prev": "cb46caff-9324-40cf-aa8d-a4550ffad56a",
     "regions": {
      "908f4939-203d-4cda-8ee8-a4f6968ca926": {
       "attrs": {
        "height": 0.8,
        "width": 0.8,
        "x": 0.1,
        "y": 0.1
       },
       "content": {
        "cell": "f5bd6762-10da-4883-9a02-2e370dc0aa78",
        "part": "whole"
       },
       "id": "908f4939-203d-4cda-8ee8-a4f6968ca926"
      }
     }
    },
    "6682172b-d896-42a8-804b-a00b6d69ae43": {
     "id": "6682172b-d896-42a8-804b-a00b6d69ae43",
     "prev": "bf7bea67-945f-439f-8685-00fbcedac6db",
     "regions": {
      "b6130018-b0f6-4a46-b04a-6c09cd6b04d4": {
       "attrs": {
        "height": 0.8,
        "width": 0.8,
        "x": 0.1,
        "y": 0.1
       },
       "content": {
        "cell": "1196f794-817f-4507-8b1d-1c873ba39e7d",
        "part": "whole"
       },
       "id": "b6130018-b0f6-4a46-b04a-6c09cd6b04d4"
      }
     }
    },
    "67fe05af-5fc2-47ba-8a08-c6e518582a5b": {
     "id": "67fe05af-5fc2-47ba-8a08-c6e518582a5b",
     "prev": "5521deb3-a9e6-4b73-aea8-e2e27ebafc72",
     "regions": {
      "fb54a9b6-f76e-41c6-8902-ae82b2ce5027": {
       "attrs": {
        "height": 0.8,
        "width": 0.8,
        "x": 0.1,
        "y": 0.1
       },
       "content": {
        "cell": "0a69aaaf-9b49-4fe9-b075-96e102dbddb5",
        "part": "whole"
       },
       "id": "fb54a9b6-f76e-41c6-8902-ae82b2ce5027"
      }
     }
    },
    "6fd77b04-d7eb-4b3f-9179-664e8ca13d38": {
     "id": "6fd77b04-d7eb-4b3f-9179-664e8ca13d38",
     "prev": "74f5d9e5-2def-4f00-a388-91acb8429a82",
     "regions": {
      "0addcd21-2d45-4120-8a41-0de9b6d4451e": {
       "attrs": {
        "height": 0.8,
        "width": 0.8,
        "x": 0.1,
        "y": 0.1
       },
       "content": {
        "cell": "14e5cf57-1d50-41f8-aa50-2247a5ff469e",
        "part": "whole"
       },
       "id": "0addcd21-2d45-4120-8a41-0de9b6d4451e"
      }
     }
    },
    "74a68f69-9685-473f-ac7d-236e43682b53": {
     "id": "74a68f69-9685-473f-ac7d-236e43682b53",
     "prev": "5b4127c8-d8ba-4270-ba63-02fcff358c00",
     "regions": {
      "78ed2ca7-29d0-4b13-af57-55b882456ad6": {
       "attrs": {
        "height": 0.8,
        "width": 0.8,
        "x": 0.1,
        "y": 0.1
       },
       "content": {
        "cell": "00729f73-1034-4d71-ba55-a34c7d01d5b3",
        "part": "whole"
       },
       "id": "78ed2ca7-29d0-4b13-af57-55b882456ad6"
      }
     }
    },
    "74f5d9e5-2def-4f00-a388-91acb8429a82": {
     "id": "74f5d9e5-2def-4f00-a388-91acb8429a82",
     "prev": "cdc2eecf-d718-4c9b-be20-f10bb5239ce0",
     "regions": {
      "d7a697bf-a000-4a37-a6b1-b98f861c9d39": {
       "attrs": {
        "height": 0.8,
        "width": 0.8,
        "x": 0.1,
        "y": 0.1
       },
       "content": {
        "cell": "c4e5875d-65d5-401c-b69e-625578623b64",
        "part": "whole"
       },
       "id": "d7a697bf-a000-4a37-a6b1-b98f861c9d39"
      }
     }
    },
    "76ff7754-64e7-4f5e-8154-358f95ae5725": {
     "id": "76ff7754-64e7-4f5e-8154-358f95ae5725",
     "prev": "ed096f58-bfd5-4383-8f40-ca4de8a748fb",
     "regions": {
      "0a916c24-1527-4ad8-beb5-ae7fab143e40": {
       "attrs": {
        "height": 0.8,
        "width": 0.8,
        "x": 0.1,
        "y": 0.1
       },
       "content": {
        "cell": "1b69c674-f7da-4d25-8460-d6998be63b9f",
        "part": "whole"
       },
       "id": "0a916c24-1527-4ad8-beb5-ae7fab143e40"
      }
     }
    },
    "77341dfe-4b3b-4b27-b449-e90c5a7d6cd2": {
     "id": "77341dfe-4b3b-4b27-b449-e90c5a7d6cd2",
     "prev": "cd960d31-2802-443d-8590-e3429e20d9e0",
     "regions": {
      "3f864d3f-9bf1-4092-8120-b8f7ec02a2ef": {
       "attrs": {
        "height": 0.8,
        "width": 0.8,
        "x": 0.1,
        "y": 0.1
       },
       "content": {
        "cell": "05ce12fc-d462-4846-b044-b1238fe3a582",
        "part": "whole"
       },
       "id": "3f864d3f-9bf1-4092-8120-b8f7ec02a2ef"
      }
     }
    },
    "779778a8-5175-415b-a9af-db61e15a3dc7": {
     "id": "779778a8-5175-415b-a9af-db61e15a3dc7",
     "prev": null,
     "regions": {
      "4ee69e83-b587-49e7-a9ed-12355224ba30": {
       "attrs": {
        "height": 0.8,
        "width": 0.8,
        "x": 0.1,
        "y": 0.1
       },
       "content": {
        "cell": "7a4c91f8-fa4e-4081-983e-e6f31527914d",
        "part": "whole"
       },
       "id": "4ee69e83-b587-49e7-a9ed-12355224ba30"
      }
     }
    },
    "77fef642-c4f3-468c-9221-b69885ca4210": {
     "id": "77fef642-c4f3-468c-9221-b69885ca4210",
     "prev": "2d5340ca-5d14-4933-be2c-69af480fe5a1",
     "regions": {
      "50369bc5-bd1a-41f6-b339-51e7db7eaca6": {
       "attrs": {
        "height": 0.8,
        "width": 0.8,
        "x": 0.1,
        "y": 0.1
       },
       "content": {
        "cell": "d21f7dfd-1d93-49b7-a862-c2c2cf92a07a",
        "part": "whole"
       },
       "id": "50369bc5-bd1a-41f6-b339-51e7db7eaca6"
      }
     }
    },
    "7812026d-61be-421c-acf5-9003386f550e": {
     "id": "7812026d-61be-421c-acf5-9003386f550e",
     "prev": "77341dfe-4b3b-4b27-b449-e90c5a7d6cd2",
     "regions": {
      "492e8e59-c267-4325-9421-bd673e354da6": {
       "attrs": {
        "height": 0.8,
        "width": 0.8,
        "x": 0.1,
        "y": 0.1
       },
       "content": {
        "cell": "a1c4ee54-fe4c-491c-9574-1f1f7ec22bc6",
        "part": "whole"
       },
       "id": "492e8e59-c267-4325-9421-bd673e354da6"
      }
     }
    },
    "78258d29-a0bb-46a2-b63a-8958baf2bcd4": {
     "id": "78258d29-a0bb-46a2-b63a-8958baf2bcd4",
     "prev": "6682172b-d896-42a8-804b-a00b6d69ae43",
     "regions": {
      "e20f5a52-2b95-4a99-87c4-c4f65cd3d93d": {
       "attrs": {
        "height": 0.8,
        "width": 0.8,
        "x": 0.1,
        "y": 0.1
       },
       "content": {
        "cell": "7eeb08fe-96c4-4040-a926-52116505d6b3",
        "part": "whole"
       },
       "id": "e20f5a52-2b95-4a99-87c4-c4f65cd3d93d"
      }
     }
    },
    "79ae8124-d158-49e6-b3ef-c2d239748d0b": {
     "id": "79ae8124-d158-49e6-b3ef-c2d239748d0b",
     "prev": "779778a8-5175-415b-a9af-db61e15a3dc7",
     "regions": {
      "bddf8f46-c5fa-4d22-a788-24bd335325e8": {
       "attrs": {
        "height": 0.8,
        "width": 0.8,
        "x": 0.1,
        "y": 0.1
       },
       "content": {
        "cell": "b69b5afb-5e0a-4166-be58-abba99f27efa",
        "part": "whole"
       },
       "id": "bddf8f46-c5fa-4d22-a788-24bd335325e8"
      }
     }
    },
    "79e5e8f6-2f63-43f5-ac0d-eb3d8ebd9407": {
     "id": "79e5e8f6-2f63-43f5-ac0d-eb3d8ebd9407",
     "prev": "6fd77b04-d7eb-4b3f-9179-664e8ca13d38",
     "regions": {
      "cec46620-ec4d-4dee-b033-3a5c3f11e4dc": {
       "attrs": {
        "height": 0.8,
        "width": 0.8,
        "x": 0.1,
        "y": 0.1
       },
       "content": {
        "cell": "e0dd70bb-475e-43bc-8587-77e89bee1651",
        "part": "whole"
       },
       "id": "cec46620-ec4d-4dee-b033-3a5c3f11e4dc"
      }
     }
    },
    "7b4ba0eb-3a04-4c08-9d09-93bd7710a084": {
     "id": "7b4ba0eb-3a04-4c08-9d09-93bd7710a084",
     "prev": "63c689fe-dd88-45ec-b6d3-3f6ac1ef16ff",
     "regions": {
      "d7f519c0-7ae3-47e4-8385-64955fdc12a6": {
       "attrs": {
        "height": 0.8,
        "width": 0.8,
        "x": 0.1,
        "y": 0.1
       },
       "content": {
        "cell": "50880be4-328a-4776-87a4-babc0123278d",
        "part": "whole"
       },
       "id": "d7f519c0-7ae3-47e4-8385-64955fdc12a6"
      }
     }
    },
    "8094f290-0198-4de0-9ae6-e2210b67e616": {
     "id": "8094f290-0198-4de0-9ae6-e2210b67e616",
     "prev": "404f23ef-61a9-4307-841a-6d334311ce0a",
     "regions": {
      "3b03545b-d184-41ce-a049-c90d923a0c24": {
       "attrs": {
        "height": 0.8,
        "width": 0.8,
        "x": 0.1,
        "y": 0.1
       },
       "content": {
        "cell": "5736c50c-7c98-49e2-a915-cb45efdc53b4",
        "part": "whole"
       },
       "id": "3b03545b-d184-41ce-a049-c90d923a0c24"
      }
     }
    },
    "8aa30867-478c-44f6-aae1-f06155c8e110": {
     "id": "8aa30867-478c-44f6-aae1-f06155c8e110",
     "prev": "2504d6db-5b55-45f4-b788-18326275e14a",
     "regions": {
      "59cb6b87-2bc2-4464-9d01-4692a839073b": {
       "attrs": {
        "height": 0.8,
        "width": 0.8,
        "x": 0.1,
        "y": 0.1
       },
       "content": {
        "cell": "44225553-4f7a-45bf-88bd-b2dc34e9e5ec",
        "part": "whole"
       },
       "id": "59cb6b87-2bc2-4464-9d01-4692a839073b"
      }
     }
    },
    "8b3e829d-0481-47f5-a0ac-8f7ae931b001": {
     "id": "8b3e829d-0481-47f5-a0ac-8f7ae931b001",
     "prev": "cfb6daa6-dc79-4f89-96e9-88d46b870453",
     "regions": {
      "5d849054-5454-409f-8f13-992a7ee234f6": {
       "attrs": {
        "height": 0.8,
        "width": 0.8,
        "x": 0.1,
        "y": 0.1
       },
       "content": {
        "cell": "1d91aa05-514e-40a4-8465-006f32dc24fc",
        "part": "whole"
       },
       "id": "5d849054-5454-409f-8f13-992a7ee234f6"
      }
     }
    },
    "8f5cb419-5dd7-402c-9bf8-a47b58c027cd": {
     "id": "8f5cb419-5dd7-402c-9bf8-a47b58c027cd",
     "prev": "67fe05af-5fc2-47ba-8a08-c6e518582a5b",
     "regions": {
      "b2c05b05-dff8-4c28-a9d5-1a4f8eb5e454": {
       "attrs": {
        "height": 0.8,
        "width": 0.8,
        "x": 0.1,
        "y": 0.1
       },
       "content": {
        "cell": "b487770a-4830-4017-b3e9-f3fe6addf9f9",
        "part": "whole"
       },
       "id": "b2c05b05-dff8-4c28-a9d5-1a4f8eb5e454"
      }
     }
    },
    "9ea333a2-70a6-444c-b986-973992b8ddb5": {
     "id": "9ea333a2-70a6-444c-b986-973992b8ddb5",
     "prev": "c44e2d0f-253c-4868-b281-cb8b06950924",
     "regions": {
      "646f2db6-5f0c-4327-9073-1ba152d89ceb": {
       "attrs": {
        "height": 0.8,
        "width": 0.8,
        "x": 0.1,
        "y": 0.1
       },
       "content": {
        "cell": "d621f6aa-c0bc-4dcb-bf74-18d906b6feae",
        "part": "whole"
       },
       "id": "646f2db6-5f0c-4327-9073-1ba152d89ceb"
      }
     }
    },
    "a14bd799-d6c9-437a-9b40-2c9f5fdffb1e": {
     "id": "a14bd799-d6c9-437a-9b40-2c9f5fdffb1e",
     "prev": "76ff7754-64e7-4f5e-8154-358f95ae5725",
     "regions": {
      "e8586aee-570c-431c-b8b4-6dc0673085c1": {
       "attrs": {
        "height": 0.8,
        "width": 0.8,
        "x": 0.1,
        "y": 0.1
       },
       "content": {
        "cell": "a683e9ae-c552-4e36-b2c2-64501ee75860",
        "part": "whole"
       },
       "id": "e8586aee-570c-431c-b8b4-6dc0673085c1"
      }
     }
    },
    "ae87cc5d-d0ad-4dcf-916a-2837bfa9db00": {
     "id": "ae87cc5d-d0ad-4dcf-916a-2837bfa9db00",
     "prev": "c06a7e82-8a1b-4e8b-bce4-d836be12a13a",
     "regions": {
      "0cceb500-bd14-472e-b544-5521dd60c4b9": {
       "attrs": {
        "height": 0.8,
        "width": 0.8,
        "x": 0.1,
        "y": 0.1
       },
       "content": {
        "cell": "8ad97527-5110-49c5-84b1-2649232fcbce",
        "part": "whole"
       },
       "id": "0cceb500-bd14-472e-b544-5521dd60c4b9"
      }
     }
    },
    "b790ea5a-bfb8-4ab5-9c11-e6d08d7f4184": {
     "id": "b790ea5a-bfb8-4ab5-9c11-e6d08d7f4184",
     "prev": "305a8c03-ac7f-4c92-ba57-499402781293",
     "regions": {
      "8b277d79-d553-4c19-b5a6-ed7f56b6f061": {
       "attrs": {
        "height": 0.8,
        "width": 0.8,
        "x": 0.1,
        "y": 0.1
       },
       "content": {
        "cell": "46507673-ab10-491b-bccb-c372c18f8c41",
        "part": "whole"
       },
       "id": "8b277d79-d553-4c19-b5a6-ed7f56b6f061"
      }
     }
    },
    "bf7bea67-945f-439f-8685-00fbcedac6db": {
     "id": "bf7bea67-945f-439f-8685-00fbcedac6db",
     "prev": "79e5e8f6-2f63-43f5-ac0d-eb3d8ebd9407",
     "regions": {
      "40042c66-1335-4699-81a1-0e08f3702103": {
       "attrs": {
        "height": 0.8,
        "width": 0.8,
        "x": 0.1,
        "y": 0.1
       },
       "content": {
        "cell": "ffc6c4af-4c8b-42ee-9c31-36e7ce19fa0d",
        "part": "whole"
       },
       "id": "40042c66-1335-4699-81a1-0e08f3702103"
      }
     }
    },
    "c06a7e82-8a1b-4e8b-bce4-d836be12a13a": {
     "id": "c06a7e82-8a1b-4e8b-bce4-d836be12a13a",
     "prev": "d7e186dc-0f6e-4261-b1ac-34818a96f22f",
     "regions": {
      "5d3e0c62-5a21-42b6-a4fd-535177eb498f": {
       "attrs": {
        "height": 0.8,
        "width": 0.8,
        "x": 0.1,
        "y": 0.1
       },
       "content": {
        "cell": "2ef9cf63-380e-46c2-a088-67f579aaf6b3",
        "part": "whole"
       },
       "id": "5d3e0c62-5a21-42b6-a4fd-535177eb498f"
      }
     }
    },
    "c44e2d0f-253c-4868-b281-cb8b06950924": {
     "id": "c44e2d0f-253c-4868-b281-cb8b06950924",
     "prev": "8f5cb419-5dd7-402c-9bf8-a47b58c027cd",
     "regions": {
      "48a81d1e-15d8-43cd-81f7-da94e255e6c9": {
       "attrs": {
        "height": 0.8,
        "width": 0.8,
        "x": 0.1,
        "y": 0.1
       },
       "content": {
        "cell": "2397a10c-2e2a-4f34-b27d-5ea74cbecf38",
        "part": "whole"
       },
       "id": "48a81d1e-15d8-43cd-81f7-da94e255e6c9"
      }
     }
    },
    "cb46caff-9324-40cf-aa8d-a4550ffad56a": {
     "id": "cb46caff-9324-40cf-aa8d-a4550ffad56a",
     "prev": "74a68f69-9685-473f-ac7d-236e43682b53",
     "regions": {
      "1b49f1a7-059e-4a95-9edf-7dc9d5c887d2": {
       "attrs": {
        "height": 0.8,
        "width": 0.8,
        "x": 0.1,
        "y": 0.1
       },
       "content": {
        "cell": "9612fa4a-7777-42a9-9c07-eacc0d92eb6d",
        "part": "whole"
       },
       "id": "1b49f1a7-059e-4a95-9edf-7dc9d5c887d2"
      }
     }
    },
    "cd960d31-2802-443d-8590-e3429e20d9e0": {
     "id": "cd960d31-2802-443d-8590-e3429e20d9e0",
     "prev": "78258d29-a0bb-46a2-b63a-8958baf2bcd4",
     "regions": {
      "b675bb44-2bcf-47ad-bbaf-b3da054df629": {
       "attrs": {
        "height": 0.8,
        "width": 0.8,
        "x": 0.1,
        "y": 0.1
       },
       "content": {
        "cell": "be9f5f23-aaff-4408-9384-52caf1f12195",
        "part": "whole"
       },
       "id": "b675bb44-2bcf-47ad-bbaf-b3da054df629"
      }
     }
    },
    "cdc2eecf-d718-4c9b-be20-f10bb5239ce0": {
     "id": "cdc2eecf-d718-4c9b-be20-f10bb5239ce0",
     "prev": "7b4ba0eb-3a04-4c08-9d09-93bd7710a084",
     "regions": {
      "d78f448d-a8a8-426e-8f24-791b9e32e420": {
       "attrs": {
        "height": 0.8,
        "width": 0.8,
        "x": 0.1,
        "y": 0.1
       },
       "content": {
        "cell": "89acacd1-10a3-40c0-a2d6-0f4021d5d4e9",
        "part": "whole"
       },
       "id": "d78f448d-a8a8-426e-8f24-791b9e32e420"
      }
     }
    },
    "cfb6daa6-dc79-4f89-96e9-88d46b870453": {
     "id": "cfb6daa6-dc79-4f89-96e9-88d46b870453",
     "prev": "d860eed8-6a73-4e94-9553-aa116cc4e5a0",
     "regions": {
      "51818e85-accd-419d-9971-38409727499a": {
       "attrs": {
        "height": 0.8,
        "width": 0.8,
        "x": 0.1,
        "y": 0.1
       },
       "content": {
        "cell": "1eed7cc8-85d9-4986-a32c-442fbbd8882c",
        "part": "whole"
       },
       "id": "51818e85-accd-419d-9971-38409727499a"
      }
     }
    },
    "d7e186dc-0f6e-4261-b1ac-34818a96f22f": {
     "id": "d7e186dc-0f6e-4261-b1ac-34818a96f22f",
     "prev": "ee7dd614-ea8f-403a-8887-20592d401162",
     "regions": {
      "2985c14b-efe9-44f6-b8e9-7ea505d436a8": {
       "attrs": {
        "height": 0.8,
        "width": 0.8,
        "x": 0.1,
        "y": 0.1
       },
       "content": {
        "cell": "95ce272e-4914-47af-a2ea-4ecd2e816559",
        "part": "whole"
       },
       "id": "2985c14b-efe9-44f6-b8e9-7ea505d436a8"
      }
     }
    },
    "d860eed8-6a73-4e94-9553-aa116cc4e5a0": {
     "id": "d860eed8-6a73-4e94-9553-aa116cc4e5a0",
     "prev": "5a0d4db3-9ec4-42e2-ba81-b2625f1c5433",
     "regions": {
      "ba4131b4-683a-4c86-bb29-cdbc4d516652": {
       "attrs": {
        "height": 0.8,
        "width": 0.8,
        "x": 0.1,
        "y": 0.1
       },
       "content": {
        "cell": "2f644538-a9ba-427c-a438-a849cb58c7cc",
        "part": "whole"
       },
       "id": "ba4131b4-683a-4c86-bb29-cdbc4d516652"
      }
     }
    },
    "ed096f58-bfd5-4383-8f40-ca4de8a748fb": {
     "id": "ed096f58-bfd5-4383-8f40-ca4de8a748fb",
     "prev": "350c2f32-6b9e-4eb6-bee1-2e44c0a3ad6c",
     "regions": {
      "53295f51-02b3-4f1a-b8e2-e30aaa4a0b18": {
       "attrs": {
        "height": 0.8,
        "width": 0.8,
        "x": 0.1,
        "y": 0.1
       },
       "content": {
        "cell": "d328b5b8-97dc-476e-bb5e-67c387aacc76",
        "part": "whole"
       },
       "id": "53295f51-02b3-4f1a-b8e2-e30aaa4a0b18"
      }
     }
    },
    "ee7dd614-ea8f-403a-8887-20592d401162": {
     "id": "ee7dd614-ea8f-403a-8887-20592d401162",
     "prev": "77fef642-c4f3-468c-9221-b69885ca4210",
     "regions": {
      "ec6bc8e2-10e6-4df3-af67-1a7608b99a39": {
       "attrs": {
        "height": 0.8,
        "width": 0.8,
        "x": 0.1,
        "y": 0.1
       },
       "content": {
        "cell": "6ecf9451-27a4-4775-99ad-ca25aa8202fb",
        "part": "whole"
       },
       "id": "ec6bc8e2-10e6-4df3-af67-1a7608b99a39"
      }
     }
    }
   },
   "themes": {}
  }
 },
 "nbformat": 4,
 "nbformat_minor": 0
}
