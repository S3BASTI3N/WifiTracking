{
 "cells": [
  {
   "cell_type": "code",
   "execution_count": 29,
   "metadata": {
    "collapsed": false
   },
   "outputs": [],
   "source": [
    "%matplotlib inline\n",
    "\n",
    "import scipy.constants\n",
    "import numpy as np\n",
    "import matplotlib.pyplot as plt\n",
    "import math\n",
    "import csv\n",
    "import scipy as sp\n",
    "from scipy.optimize import minimize\n",
    "from matplotlib.patches import Ellipse"
   ]
  },
  {
   "cell_type": "markdown",
   "metadata": {},
   "source": [
    "0.2 a The Friis free space equation consists of:\n",
    "\n",
    "$$P_r = P_t + 20 \\times \\log^{10}{\\frac{c}{4\\pi f r}}$$\n",
    "\n",
    "where P_t equals the transmission power, c the speed of sound, f the frequency and r the distance. Plotting this for f is 2.4Ghz and r between 0.4 and 30 metres results in the plot down below. As we can see the router is more sensitive to devices that are closer to the router. The difference in signal strength between devices that are 1 and 2 meters from the router is greater than the difference in signal strength between devices that are 10 and 11 meters from the router."
   ]
  },
  {
   "cell_type": "code",
   "execution_count": 30,
   "metadata": {
    "collapsed": false
   },
   "outputs": [
    {
     "data": {
      "image/png": "[encoded data removed]",
      "text/plain": [
       "<matplotlib.figure.Figure at 0x7fb122057e80>"
      ]
     },
     "metadata": {},
     "output_type": "display_data"
    }
   ],
   "source": [
    "c  = scipy.constants.speed_of_light\n",
    "f  = 2.4e9\n",
    "r  = np.arange(0.4, 30, 0.1)\n",
    "Pt = 0\n",
    "P  = Pt + 20 * np.log10(c/(4.* np.pi * f * r))\n",
    "\n",
    "plt.figure(1)\n",
    "plt.plot(r,P)\n",
    "plt.show()"
   ]
  },
  {
   "cell_type": "markdown",
   "metadata": {},
   "source": [
    "b: This equation can also be inverted to r as a function of P_r:\n",
    "    \n",
    "$$r = \\frac{c}{4 \\pi f 10^{\\frac{P_r - P_t}{20}}}$$"
   ]
  },
  {
   "cell_type": "code",
   "execution_count": 31,
   "metadata": {
    "collapsed": false
   },
   "outputs": [
    {
     "name": "stdout",
     "output_type": "stream",
     "text": [
      "The difference in metres between -30 to -31 and -60 to -61 is: 0.03835527636485858 and 1.2129003359817592\n"
     ]
    }
   ],
   "source": [
    "def getDistance(Pr):\n",
    "    return c/(4*np.pi*f*math.pow(10, (Pr-Pt)/20))\n",
    "\n",
    "d30 = getDistance(-31) - getDistance(-30)\n",
    "d60 = getDistance(-61) - getDistance(-60)\n",
    "\n",
    "print(\"The difference in metres between -30 to -31 and -60 to -61 is:\", d30, \"and\", d60)"
   ]
  },
  {
   "cell_type": "markdown",
   "metadata": {},
   "source": [
    "c: As can be seen above, the difference in distance between 30 and 31 dBm is 0.0384 metres and between -60 and -61 dBm is 1.21 metres. This that with a lower signal strength the difference in strength has a larger influence on the difference in distance."
   ]
  },
  {
   "cell_type": "markdown",
   "metadata": {},
   "source": [
    "d: This also means that the uncertainty for the distance is larger when the signal strength is smaller. As an error in the measured signal strength has a larger influance on the resulting calculated distance."
   ]
  },
  {
   "cell_type": "markdown",
   "metadata": {},
   "source": [
    "e: In order to reconstruct the location of the client triangulation can be used. There exists unfortunately no exact solution as can be seen in the picture below. There is no point where all the circles intersect \n"
   ]
  },
  {
   "cell_type": "code",
   "execution_count": 32,
   "metadata": {
    "collapsed": false
   },
   "outputs": [
    {
     "data": {
      "image/png": "[encoded data removed]",
      "text/plain": [
       "<matplotlib.figure.Figure at 0x7fb1220dac88>"
      ]
     },
     "metadata": {},
     "output_type": "display_data"
    }
   ],
   "source": [
    "c1 = plt.Circle((0,0), 15, alpha=0.5)\n",
    "c2 = plt.Circle((0,20), 15, alpha=0.5)\n",
    "c3 = plt.Circle((20,10), 15, alpha=0.5)\n",
    "fig,ax=plt.subplots()\n",
    "plt.xlim(-16,36)\n",
    "plt.ylim(-16,36)\n",
    "\n",
    "ax.add_artist(c1)\n",
    "ax.add_artist(c2)\n",
    "ax.add_artist(c3)\n",
    "\n",
    "plt.show()"
   ]
  },
  {
   "cell_type": "markdown",
   "metadata": {},
   "source": [
    "f: To Calculate the signal strength of a client at a certain location with a certain router the original formula can be rewritten to:\n",
    "\n",
    "$$P_r = P_t + 20 \\times \\log^{10}({\\frac{c}{4\\pi f r}})$$\n",
    "$$P_r = P_t + 20 \\times (\\log^{10}({\\frac{c}{4\\pi f}}) - \\log^{10}({r}))$$\n",
    "$$P_r = P_t + 20 \\times (\\log^{10}({\\frac{c}{4\\pi f}}) - \\log^{10}(\\sqrt{(x-x_i)^2 + (y-y_i)^2 + Z^2}))$$\n",
    "$$P_r = P_t + 20 \\times \\log^{10}({\\frac{c}{4\\pi f}}) - 20 \\times \\log^{10}(\\sqrt{(x-x_i)^2 + (y-y_i)^2 + Z^2})$$\n",
    "$$P_r = P_t + 20 \\times \\log^{10}({\\frac{c}{4\\pi f}}) - 20 \\times \\log^{10}(((x-x_i)^2 + (y-y_i)^2 + Z^2)^\\frac{1}{2})$$\n",
    "$$P_r = P_t + 20 \\times \\log^{10}({\\frac{c}{4\\pi f}}) - 10 \\times \\log^{10}((x-x_i)^2 + (y-y_i)^2 + Z^2)$$\n",
    "\n"
   ]
  },
  {
   "cell_type": "markdown",
   "metadata": {},
   "source": [
    "g: "
   ]
  },
  {
   "cell_type": "code",
   "execution_count": 33,
   "metadata": {
    "collapsed": false
   },
   "outputs": [
    {
     "data": {
      "image/png": "[encoded data removed]",
      "text/plain": [
       "<matplotlib.figure.Figure at 0x7fb122124630>"
      ]
     },
     "metadata": {},
     "output_type": "display_data"
    },
    {
     "name": "stdout",
     "output_type": "stream",
     "text": [
      "The mean and deviation are: 0.0295198865817 and 1.01368427145\n"
     ]
    }
   ],
   "source": [
    "def getExpectedStrength(x, y, xi, yi, Z, Pt):\n",
    "    return (Pt + 20 * np.log10(c/(4*np.pi*f)) -\n",
    "            10*np.log10(math.pow(x-xi,2) + math.pow(y-yi,2) + math.pow(Z,2)))\n",
    "\n",
    "def getMeassuredStrength(x, y, xi, yi, Z, Pt, G, sigma, noise=None):\n",
    "    if(not noise): \n",
    "        noise = np.random.normal(0, sigma);\n",
    "    return (Pt + G * np.log10(c/(4*np.pi*f)) -\n",
    "            10*np.log10(math.pow(x-xi,2) + math.pow(y-yi,2) + math.pow(Z,2)) +\n",
    "            noise)\n",
    "Z = 2\n",
    "G = 20\n",
    "\n",
    "sigma = 1\n",
    "expectedStrength = getExpectedStrength(20, 0, 0, 0, Z, 0)\n",
    "meassurements = [getMeassuredStrength(20, 0, 0, 0, Z, 0, G, sigma) for x in range(1000)]\n",
    "nRisiduals = (meassurements - expectedStrength)/sigma\n",
    "plt.hist(nRisiduals, bins=10)\n",
    "plt.show()\n",
    "\n",
    "mean = np.mean(nRisiduals)\n",
    "mu = np.std(nRisiduals)\n",
    "\n",
    "print(\"The mean and deviation are:\", mean, \"and\", mu)"
   ]
  },
  {
   "cell_type": "markdown",
   "metadata": {},
   "source": [
    "h: If you underestimatethe noise/fluctuations/measurement uncertainties, the deviation gets smaller. If you overestimate, the deviation will get larger, meaning you are even more uncertain about your predictions."
   ]
  },
  {
   "cell_type": "code",
   "execution_count": 34,
   "metadata": {
    "collapsed": false
   },
   "outputs": [
    {
     "name": "stdout",
     "output_type": "stream",
     "text": [
      "The mean and deviation when underestimating are: -0.0283788004405 and 1.94402208335\n"
     ]
    },
    {
     "data": {
      "image/png": "[encoded data removed]",
      "text/plain": [
       "<matplotlib.figure.Figure at 0x7fb11fa4fcc0>"
      ]
     },
     "metadata": {},
     "output_type": "display_data"
    },
    {
     "name": "stdout",
     "output_type": "stream",
     "text": [
      "The mean and deviation when overestimating are: -0.00709470011012 and 0.486005520839\n"
     ]
    },
    {
     "data": {
      "image/png": "[encoded data removed]",
      "text/plain": [
       "<matplotlib.figure.Figure at 0x7fb11f967470>"
      ]
     },
     "metadata": {},
     "output_type": "display_data"
    }
   ],
   "source": [
    "sigma = 2\n",
    "G = 20\n",
    "expectedStrength = getExpectedStrength(20, 0, 0, 0, Z, 0)\n",
    "meassurements = [getMeassuredStrength(20, 0, 0, 0, Z, 0, G, sigma) for x in range(1000)]\n",
    "\n",
    "# Underestimate\n",
    "nRisiduals = (meassurements - expectedStrength)/1\n",
    "mean = np.mean(nRisiduals)\n",
    "mu = np.std(nRisiduals)\n",
    "print(\"The mean and deviation when underestimating are:\", mean, \"and\", mu)\n",
    "plt.hist(nRisiduals, bins=10)\n",
    "plt.show()\n",
    "\n",
    "# Overestimate\n",
    "nRisiduals = (meassurements - expectedStrength)/4\n",
    "mean = np.mean(nRisiduals)\n",
    "mu = np.std(nRisiduals)\n",
    "print(\"The mean and deviation when overestimating are:\", mean, \"and\", mu)\n",
    "plt.hist(nRisiduals, bins=10)\n",
    "plt.show()"
   ]
  },
  {
   "cell_type": "markdown",
   "metadata": {},
   "source": [
    "i: The mean is no longer at zero, which means that there is an single error that affects all measurements."
   ]
  },
  {
   "cell_type": "code",
   "execution_count": 35,
   "metadata": {
    "collapsed": false
   },
   "outputs": [
    {
     "data": {
      "image/png": "[encoded data removed]",
      "text/plain": [
       "<matplotlib.figure.Figure at 0x7fb11fa4c438>"
      ]
     },
     "metadata": {},
     "output_type": "display_data"
    },
    {
     "name": "stdout",
     "output_type": "stream",
     "text": [
      "The mean and deviation are: 10.0206881595 and 1.00994079295\n"
     ]
    }
   ],
   "source": [
    "G = 15\n",
    "\n",
    "sigma = 1\n",
    "expectedStrength = getExpectedStrength(20, 0, 0, 0, Z, 0)\n",
    "meassurements = [getMeassuredStrength(20, 0, 0, 0, Z, 0, G, sigma) for x in range(1000)]\n",
    "nRisiduals = (meassurements - expectedStrength)/sigma\n",
    "plt.hist(nRisiduals, bins=10)\n",
    "plt.show()\n",
    "\n",
    "mean = np.mean(nRisiduals)\n",
    "mu = np.std(nRisiduals)\n",
    "\n",
    "print(\"The mean and deviation are:\", mean, \"and\", mu)"
   ]
  },
  {
   "cell_type": "markdown",
   "metadata": {},
   "source": [
    "j: In general, we would like to see a mean of zero and a deviation of one in my pull distribution."
   ]
  },
  {
   "cell_type": "markdown",
   "metadata": {},
   "source": [
    "k: When generating a single wifi packet without noise and an assumed sigma of 1dBm, the $\\chi^{2}$ is at its minimum at (5,5) which is the actual position:"
   ]
  },
  {
   "cell_type": "code",
   "execution_count": 36,
   "metadata": {
    "collapsed": false
   },
   "outputs": [
    {
     "data": {
      "image/png": "[encoded data removed]",
      "text/plain": [
       "<matplotlib.figure.Figure at 0x7fb122124a20>"
      ]
     },
     "metadata": {},
     "output_type": "display_data"
    }
   ],
   "source": [
    "def estimatePositionWithoutNoise(routers, assumedClient, actualClient, sigma, G, Pt):\n",
    "    x,y,z = assumedClient\n",
    "    xreal, yreal, zreal = actualClient\n",
    "    Chi = 0\n",
    "    for xi,yi,zi in routers:\n",
    "        Z = zi - z\n",
    "        Si = getExpectedStrength(x,y,xi,yi,Z,Pt)\n",
    "        Pri = getExpectedStrength(xreal,yreal,xi,yi,zreal-zi,Pt)\n",
    "        Chi += math.pow(Si-Pri,2)/math.pow(sigma,2)\n",
    "    return Chi\n",
    "\n",
    "\n",
    "\n",
    "routers = [[0, 0, 3],[ 0, 20, 3],[20, 0, 3],[20, 20, 3]]\n",
    "actualClient = [5,5,1]\n",
    "X = np.arange(-5,16,1)\n",
    "Chis = [[x, estimatePositionWithoutNoise(routers, [x,5,1], actualClient, 1, 20, 0)] for x in X]\n",
    "\n",
    "Chis = np.matrix(Chis)\n",
    "plt.plot(Chis[:,0],Chis[:,1])\n",
    "plt.show()"
   ]
  },
  {
   "cell_type": "markdown",
   "metadata": {},
   "source": [
    "l: When generating a single wifi packet with random Gaussian noise and a sigma of 1dBm, the $\\chi^{2}$ is at its minimum around (5,5) which is the actual position, but not necessarily exactly at (5,5. If you run it different times, the minimum stays around (5,5) sometimes actually being at (5,5) but not always."
   ]
  },
  {
   "cell_type": "code",
   "execution_count": 37,
   "metadata": {
    "collapsed": false
   },
   "outputs": [
    {
     "data": {
      "image/png": "[encoded data removed]",
      "text/plain": [
       "<matplotlib.figure.Figure at 0x7fb11f88d400>"
      ]
     },
     "metadata": {},
     "output_type": "display_data"
    },
    {
     "data": {
      "image/png": "[encoded data removed]",
      "text/plain": [
       "<matplotlib.figure.Figure at 0x7fb11f7f1ba8>"
      ]
     },
     "metadata": {},
     "output_type": "display_data"
    },
    {
     "data": {
      "image/png": "[encoded data removed]",
      "text/plain": [
       "<matplotlib.figure.Figure at 0x7fb11f71f160>"
      ]
     },
     "metadata": {},
     "output_type": "display_data"
    },
    {
     "data": {
      "image/png": "[encoded data removed]",
      "text/plain": [
       "<matplotlib.figure.Figure at 0x7fb11f6f2f60>"
      ]
     },
     "metadata": {},
     "output_type": "display_data"
    }
   ],
   "source": [
    "def estimatePositionWithNoise(routers, assumedClient, actualClient, sigma, G, Pt, noise, unc=sigma):\n",
    "    x,y,z = assumedClient\n",
    "    xreal, yreal, zreal = actualClient\n",
    "    Chi = 0\n",
    "    for i,[xi,yi,zi] in enumerate(routers):\n",
    "        Z = zi - z\n",
    "        Si = getExpectedStrength(x,y,xi,yi,Z,Pt)\n",
    "        Pri = getMeassuredStrength(xreal,yreal, xi, yi, zreal-zi, Pt, G, sigma, noise[i])\n",
    "        \n",
    "        Chi += math.pow(Si-Pri,2)/math.pow(unc,2)\n",
    "    return Chi\n",
    "\n",
    "routers = [[0, 0, 3],[ 0, 20, 3],[20, 0, 3],[20, 20, 3]]\n",
    "actualClient = [5,5,1]\n",
    "X = np.arange(-5,16,1)\n",
    "noise = [np.random.normal(0, 1) for x in range(4)]\n",
    "#Chis = [[x, estimatePositionWithNoise(routers, [x,5,1], actualClient, 1, 20, 0, noise)] for x in X]\n",
    "for i in range(0,4):\n",
    "    Chis = []\n",
    "    for x in X:\n",
    "        noise = [np.random.normal(0, 1) for x in range(4)]\n",
    "        Chis.append([x, estimatePositionWithNoise(routers, [x,5,1], actualClient, 1, 20, 0, noise)])\n",
    "\n",
    "    Chis = np.matrix(Chis)\n",
    "    plt.plot(Chis[:,0],Chis[:,1])\n",
    "    plt.show()"
   ]
  },
  {
   "cell_type": "markdown",
   "metadata": {},
   "source": [
    "m: The minimize function (the Powell method) will find the optimum of the estimated position at location (5,5)."
   ]
  },
  {
   "cell_type": "code",
   "execution_count": 38,
   "metadata": {
    "collapsed": false
   },
   "outputs": [
    {
     "name": "stdout",
     "output_type": "stream",
     "text": [
      "[ 5.  5.]\n"
     ]
    }
   ],
   "source": [
    "def g(X):\n",
    "    x,y = X\n",
    "    routers = [[0, 0, 3],[ 0, 20, 3],[20, 0, 3],[20, 20, 3]]\n",
    "    actualClient = [5,5,1]\n",
    "    return estimatePositionWithoutNoise(routers, [x,y,1], actualClient, 1, 20, 0)\n",
    "\n",
    "print(minimize(g,[3,8], method='Powell').x)\n",
    "    "
   ]
  },
  {
   "cell_type": "markdown",
   "metadata": {},
   "source": [
    "0.4n: The average estimated position is quite good (around (5,5)), the $\\chi^{2}$ value is also close to the expected value of 2. We expect it to be 2 since the number of datapoints (routers) is 4 and the number of parameters is 2 (x and y position)."
   ]
  },
  {
   "cell_type": "code",
   "execution_count": null,
   "metadata": {
    "collapsed": true
   },
   "outputs": [],
   "source": []
  },
  {
   "cell_type": "code",
   "execution_count": 39,
   "metadata": {
    "collapsed": false
   },
   "outputs": [
    {
     "data": {
      "image/png": "[encoded data removed]",
      "text/plain": [
       "<matplotlib.figure.Figure at 0x7fb11f6fff28>"
      ]
     },
     "metadata": {},
     "output_type": "display_data"
    },
    {
     "data": {
      "image/png": "[encoded data removed]",
      "text/plain": [
       "<matplotlib.figure.Figure at 0x7fb11f653470>"
      ]
     },
     "metadata": {},
     "output_type": "display_data"
    },
    {
     "name": "stdout",
     "output_type": "stream",
     "text": [
      "Chi squared = 1.8765259315\n",
      "Position = [[ 4.87798418  4.93846341]]\n"
     ]
    }
   ],
   "source": [
    "noise = []\n",
    "\n",
    "def g2(X):\n",
    "    x,y = X\n",
    "    routers = [[0, 0, 3],[ 0, 20, 3],[20, 0, 3],[20, 20, 3]]\n",
    "    actualClient = [5,5,1]\n",
    "    return estimatePositionWithNoise(routers, [x,y,1], actualClient, 1 ,20, 0, noise)\n",
    "\n",
    "results = []\n",
    "Chis = []\n",
    "#print(minimize(g2,[10,10], method='Powell'))\n",
    "\n",
    "for i in range(0,1000):\n",
    "    noise = [np.random.normal(0, 1) for x in range(4)]\n",
    "    randx = np.random.rand()*19\n",
    "    randy = np.random.rand()*19\n",
    "    minimized = minimize(g2,[randx,randy], method='Powell')\n",
    "    results.append(minimized.x)\n",
    "    Chis.append(minimized.fun)\n",
    "\n",
    "results = np.matrix(results)\n",
    "plt.scatter(results[:,0],results[:,1])\n",
    "plt.ylim(0,20)\n",
    "plt.xlim(0,20)\n",
    "plt.show()\n",
    "\n",
    "plt.hist(Chis, bins=50)\n",
    "plt.show()\n",
    "\n",
    "print(\"Chi squared =\", np.mean(Chis))\n",
    "print(\"Position =\", results.mean(0))"
   ]
  },
  {
   "cell_type": "markdown",
   "metadata": {},
   "source": [
    "o: The average $\\chi^{2}$ value of the minimums agrees with the NDoF which is 4 - 2 = 2 (number of routers - number of parameters)."
   ]
  },
  {
   "cell_type": "markdown",
   "metadata": {},
   "source": [
    "p: The minimums hisogram (green in the histogram below) seems to agree with the $\\chi^{2}$ histogram (blue in the histogram below) quite well."
   ]
  },
  {
   "cell_type": "code",
   "execution_count": 40,
   "metadata": {
    "collapsed": false
   },
   "outputs": [
    {
     "data": {
      "image/png": "[encoded data removed]",
      "text/plain": [
       "<matplotlib.figure.Figure at 0x7fb11f5aff60>"
      ]
     },
     "metadata": {},
     "output_type": "display_data"
    }
   ],
   "source": [
    "plt.hist(np.random.chisquare(2,1000), alpha=0.3, bins=100,label='chi2 distribution',normed=True)\n",
    "plt.hist(Chis, bins=100, alpha=0.3, label='wifi chi2', normed=True)\n",
    "plt.xlim(0,20)\n",
    "plt.ylim(0,0.5)\n",
    "plt.legend()\n",
    "plt.show()\n"
   ]
  },
  {
   "cell_type": "markdown",
   "metadata": {},
   "source": [
    "q: The cloud of estimated device positions became more scattered, because we added Gaussian noise with a sigma of 2 while we used a sigma of 1 as an estimation. The $\\chi^{2}$ became higher, which is to be expected when we underestimate the noise in our model. The $\\chi^{2}$ distribution is more flat than we'd expect, this is also because we underestimate the noise."
   ]
  },
  {
   "cell_type": "code",
   "execution_count": 41,
   "metadata": {
    "collapsed": false
   },
   "outputs": [
    {
     "data": {
      "image/png": "[encoded data removed]",
      "text/plain": [
       "<matplotlib.figure.Figure at 0x7fb11f7a6048>"
      ]
     },
     "metadata": {},
     "output_type": "display_data"
    },
    {
     "data": {
      "image/png": "[encoded data removed]",
      "text/plain": [
       "<matplotlib.figure.Figure at 0x7fb11f78da90>"
      ]
     },
     "metadata": {},
     "output_type": "display_data"
    },
    {
     "name": "stdout",
     "output_type": "stream",
     "text": [
      "The average chi-squared is: 7.52632327019\n",
      "The average position is: [[ 4.22608482  4.50809167]]\n"
     ]
    },
    {
     "data": {
      "image/png": "[encoded data removed]",
      "text/plain": [
       "<matplotlib.figure.Figure at 0x7fb11f905da0>"
      ]
     },
     "metadata": {},
     "output_type": "display_data"
    }
   ],
   "source": [
    "noise = []\n",
    "\n",
    "def g2(X):\n",
    "    x,y = X\n",
    "    routers = [[0, 0, 3],[ 0, 20, 3],[20, 0, 3],[20, 20, 3]]\n",
    "    actualClient = [5,5,1]\n",
    "    return estimatePositionWithNoise(routers, [x,y,1], actualClient, 2 ,20, 0, noise, 1)\n",
    "\n",
    "results = []\n",
    "Chis = []\n",
    "#print(minimize(g2,[10,10], method='Powell'))\n",
    "\n",
    "for i in range(0,1000):\n",
    "    noise = [np.random.normal(0, 2) for x in range(4)]\n",
    "    randx = np.random.rand()*19\n",
    "    randy = np.random.rand()*19\n",
    "    minimized = minimize(g2,[randx,randy], method='Powell')\n",
    "    results.append(minimized.x)\n",
    "    Chis.append(minimized.fun)\n",
    "\n",
    "results = np.matrix(results)\n",
    "plt.scatter(results[:,0],results[:,1])\n",
    "plt.xlim(0,20)\n",
    "plt.ylim(0,20)\n",
    "plt.show()\n",
    "\n",
    "plt.hist(Chis, bins=100)\n",
    "plt.show()\n",
    "\n",
    "print(\"The average chi-squared is:\", np.mean(Chis))\n",
    "print(\"The average position is:\", results.mean(0))\n",
    "\n",
    "plt.hist(np.random.chisquare(2,1000), alpha=0.5, bins=100,label='chi2 distribution',normed=True)\n",
    "plt.hist(Chis, bins=100, alpha=0.5, label='wifi chi2', normed=True)\n",
    "plt.xlim(0,20)\n",
    "plt.ylim(0,0.5)\n",
    "plt.legend()\n",
    "plt.show()"
   ]
  },
  {
   "cell_type": "markdown",
   "metadata": {},
   "source": [
    "\n",
    "\n",
    "\n"
   ]
  },
  {
   "cell_type": "markdown",
   "metadata": {},
   "source": [
    "r: When the average minimim $\\chi^{2}$ value is much higher than the NDoF, it means that either the model is wrong or the measurement/data uncertainties have been underestimated. Experimenting with the uncertainties should explain whether the model was wrong or the initial estimated uncertainties were wrong.\n"
   ]
  },
  {
   "cell_type": "markdown",
   "metadata": {
    "collapsed": false
   },
   "source": [
    "**0.5**"
   ]
  },
  {
   "cell_type": "markdown",
   "metadata": {
    "collapsed": true
   },
   "source": [
    "s) <br>\n",
    "let:\n",
    "$C_{i} = P_{i}(x_0,y_0),\n",
    "D_{x/y}^{i} = \\frac{\\partial}{\\partial x/y} C_{i}\n",
    "$ <br>\n",
    "\n",
    "\n",
    "$$\n",
    "\\begin{aligned}\n",
    "\\chi^2 &= \\sum_{i} \\frac{1}{\\sigma_{i}^2}\\left(S_{i} - P_{i}(x,y)\\right)^2 \\\\\n",
    "&= \\sum_{i} \\frac{1}{\\sigma_{i}^2}\\left(S_{i} - (C_{i} + D_{x}^{i}(x-x_0) + D_{y}^{i}(y -y_0) ) \\right)^2 \\\\\n",
    "&= \\sum_{i} \\left( (S_{i} - C_{i})^2 - 2 (S_{i} - C_{i})\\left(D_{x}^{i}(x-x_0) + D_{y}^{i}(y -y_0)\\right) + \\left(D_{x}^{i}(x-x_0) + D_{y}^{i}(y -y_0)\\right)^2 \\right)\n",
    "\\end{aligned}\n",
    "$$ <br>\n",
    "\n",
    "This can be expanded further but with little insight gained."
   ]
  },
  {
   "cell_type": "markdown",
   "metadata": {
    "collapsed": true
   },
   "source": [
    "t) <br>\n",
    "\n",
    "\n",
    "$$\n",
    "\\begin{aligned}\n",
    "\\frac{\\partial}{\\partial x} \\chi^2 &= \\frac{\\partial}{\\partial x} \\sum_{i} \\frac{1}{\\sigma_{i}^2}\\left(S_{i} - P_{i}(x,y)\\right)^2 \\\\\n",
    "&= \\sum_{i} 2 \\frac{1}{\\sigma_{i}^2}\\left(S_{i} - P_{i}(x,y)\\right) \\frac{\\partial}{\\partial x} P_{i}(x,y)\n",
    "\\end{aligned}\n",
    "$$ <br>\n",
    "\n",
    "Making the substitution from $(3)$ and by noticing \n",
    "$$ \n",
    "\\begin{aligned}\n",
    "\\frac{\\partial}{\\partial x} P_{i}(x,y) &=  \\frac{\\partial}{\\partial x} P_{i}(x_0,y_0) \\\\\n",
    "&= D_{x}^{i}\n",
    "\\end{aligned}\n",
    "$$ \n",
    "we see: <br>\n",
    "\n",
    "$$\n",
    "\\begin{aligned}\n",
    "\\frac{\\partial}{\\partial x} \\chi^2 &= 2 \\sum_{i} \\frac{D_{x}^{i}}{\\sigma_{i}^2}\\left(S_{i} - C_{i} + D_{x}^{i}(x-x_0) +D_{y}^{i}(y -y_0)  \\right)\n",
    "\\end{aligned}\n",
    "$$ <br>\n",
    "\n",
    "from $(4)$:\n",
    "$$\n",
    "\\begin{aligned}\n",
    "2 \\sum_{i} \\frac{D_{x}^{i}}{\\sigma_{i}^2}\\left(S_{i} - C_{i} + D_{x}^{i}(x-x_0) +D_{y}^{i}(y -y_0)  \\right)\n",
    "&= 2 \\sum_{i} \\frac{D_{x}^{i}}{\\sigma_{i}^2}\\left(S_{i} - C_{i} \\right)\n",
    "\\end{aligned}\n",
    "$$ <br>\n",
    "\n",
    "so:\n",
    "$$\n",
    "\\begin{aligned}\n",
    "\\sum_{i} \\left(D_{x}^{i}(x-x_0) +D_{y}^{i}(y -y_0)  \\right) &= 0\n",
    "\\end{aligned}\n",
    "$$ <br>\n",
    "\n",
    "by substituting this back into the taylor expanded $\\chi^2$ we get:\n",
    "$$\n",
    "\\begin{aligned}\n",
    "\\chi^2 &= \\sum_{i} \\frac{1}{\\sigma_{i}^2} \\left( (S_{i} - C_{i})^2 + \\left(D_{x}^{i}(x-x_0) + D_{y}^{i}(y -y_0)\\right)^2 \\right) \\\\\n",
    "&= \\sum_{i} \\frac{1}{\\sigma_{i}^2} \\left( (S_{i} - C_{i})^2 + (D_{x}^{i})^2(x-x_0)^2 + (D_{y}^{i})^2(y -y_0)^2 + 2 D_{x}^{i}(x-x_0)D_{y}^{i}(y -y_0)\\right)\n",
    "\\end{aligned}\n",
    "$$ <br>"
   ]
  },
  {
   "cell_type": "markdown",
   "metadata": {},
   "source": [
    "u) <br>\n",
    "with $(x - x_0) = \\Delta x$ and $(y - y_0) = \\Delta y$ <br>\n",
    "$$\n",
    "\\begin{aligned}\n",
    "\\chi^2 &= \\sum_{i} \\frac{1}{\\sigma_{i}^2} \\left( (S_{i} - C_{i})^2 + (D_{x}^{i})^2\\Delta x^2 + (D_{y}^{i})^2\\Delta y^2 + 2 D_{x}^{i}D_{y}^{i}\\Delta x\\Delta y\\right) \\\\\n",
    "&= \\left( \\sum_{i} \\frac{1}{\\sigma_{i}^2} (S_{i} - C_{i})^2 \\right) + \\sum_{i} \\frac{1}{\\sigma_{i}^2} \\left((D_{x}^{i})^2\\Delta x^2 + (D_{y}^{i})^2\\Delta y^2 + 2 D_{x}^{i}D_{y}^{i}\\Delta x\\Delta y\\right)\n",
    "\\end{aligned}\n",
    "$$ <br>\n",
    "\n",
    "\n",
    "with\n",
    "$$\n",
    "A =  \\left( \\sum_{i} \\frac{1}{\\sigma_{i}^2} (S_{i} - C_{i})^2 \\right)\n",
    "$$\n",
    "$$\n",
    "\\hat{B} = \n",
    "\\begin{bmatrix}\n",
    "\\sum_{i}\\frac{1}{\\sigma_{i}^2}(D_{x}^{i})^2 & \\sum_{i}\\frac{1}{\\sigma_{i}^2} D_{x}^{i}D_{y}^{i} \\\\\n",
    "\\sum_{i}\\frac{1}{\\sigma_{i}^2} D_{x}^{i}D_{y}^{i} & \\sum_{i}\\frac{1}{\\sigma_{i}^2} (D_{y}^{i})^2 \n",
    "\\end{bmatrix}\n",
    "$$\n",
    "\n",
    "then:\n",
    "$$\n",
    "\\chi^2 = A + (\\Delta x, \\Delta y) \\hat{B} (\\Delta x, \\Delta y)^{T}\n",
    "$$"
   ]
  },
  {
   "cell_type": "markdown",
   "metadata": {},
   "source": [
    "v) <br>\n",
    "assume:\n",
    "$$\n",
    "\\chi_0 = \\chi^2(x_0, y_0) \\\\\n",
    "\\chi_1 = \\chi^2(x_1,y_1) \\\\\n",
    "$$\n",
    "\n",
    "with $\\chi_1 = \\chi_0 + 1$ so:\n",
    "$$\n",
    "(\\Delta x_1, \\Delta y_1) \\hat{B} (\\Delta x_1, \\Delta y_1)^{T} = (\\Delta x_0, \\Delta y_0) \\hat{B} (\\Delta x_0, \\Delta y_0)^{T} + 1\n",
    "$$\n",
    "\n",
    "but as $\\Delta x_0 = x_0 - x_0 = 0$ this simplifies to:\n",
    "$$\n",
    "(\\Delta x_1, \\Delta y_1) \\hat{B} (\\Delta x_1, \\Delta y_1)^{T} = 1\n",
    "$$\n",
    "\n",
    "this can be rewritten in the form\n",
    "$$\n",
    "\\Delta x_1^2 \\left[D_{x}^{i}\\right]^2 + \\Delta x_1\\left[2 \\Delta y_1 D_{x}^{i} D_{y}^{i} \\right] + \\left[ \\Delta y_1^2(D_{y}^{i})^2 - 1 \\right] = 0\n",
    "$$\n",
    "\n",
    "so solving using the quadratic formula gives the result\n",
    "$$\n",
    "\\Delta x_1 = \\frac{-\\Delta y_1 D_{y}^{i} \\pm 1}{D_{x}^{i}}\n",
    "$$\n",
    "\n",
    "\n",
    "\n",
    "NOTES: this seems wrong, there is still more to do so maybe we should ask on tuesday/wednesday"
   ]
  },
  {
   "cell_type": "markdown",
   "metadata": {},
   "source": [
    "for w) onwards..\n",
    "\n",
    "\n",
    "\n",
    "covariance matrix of x & y is given by $\\hat{B}^{-1}$ so...\n",
    "\n",
    "variance of x & y is given by $tr(\\hat{B}^{-1})$\n",
    "\n",
    "noise should definitely not be 1, if the noise is good then $\\chi^{2}$"
   ]
  },
  {
   "cell_type": "code",
   "execution_count": 42,
   "metadata": {
    "collapsed": false
   },
   "outputs": [
    {
     "name": "stdout",
     "output_type": "stream",
     "text": [
      "0.884769444105\n",
      "0.420525050376\n"
     ]
    },
    {
     "data": {
      "image/png": "[encoded data removed]",
      "text/plain": [
       "<matplotlib.figure.Figure at 0x7fb11f78bf98>"
      ]
     },
     "metadata": {},
     "output_type": "display_data"
    }
   ],
   "source": [
    "actualXY = [5,5]\n",
    "noise = [np.random.normal(0, 1) for x in range(4)]\n",
    "randx = np.random.rand()*19\n",
    "randy = np.random.rand()*19\n",
    "minimized = minimize(g2,[randx,randy], method='Powell')\n",
    "estimatedXY = minimized.x\n",
    "\n",
    "#dFdx = (40(x - xi))/(math.log(10)*((x-xi)^2 + (y-yi)^2 + Z^2))\n",
    "#dFdy = (40(y - yi))/(math.log(10)*((x-xi)^2 + (y-yi)^2 + Z^2))\n",
    "B11 = 0\n",
    "B22 = 0\n",
    "B12 = 0\n",
    "\n",
    "x = [0,0,20,20]\n",
    "y = [0,20,0,20]\n",
    "Z = 2\n",
    "\n",
    "for i in range(0,4):\n",
    "    dFdx = (40*(estimatedXY[0] - x[i]))/(math.log(10)*((estimatedXY[0]-x[i])**2 + (estimatedXY[1]-y[i])**2 + Z**2))\n",
    "    dFdy = (40*(estimatedXY[1] - y[i]))/(math.log(10)*((estimatedXY[0]-x[i])**2 + (estimatedXY[1]-y[i])**2 + Z**2))\n",
    "    B11 += (dFdx**2 * 1/(sigma**2))\n",
    "    B22 += (dFdy**2 * 1/(sigma**2))\n",
    "    B12 += (dFdx * dFdy * 1/(sigma**2))\n",
    "\n",
    "varx = B22 / (B11*B22 - B12**2)\n",
    "vary = B11 / (B11*B22 - B12**2)\n",
    "\n",
    "stdx = np.sqrt(varx)\n",
    "stdy = np.sqrt(vary)\n",
    "print(stdx)\n",
    "print(stdy)\n",
    "\n",
    "e = Ellipse(estimatedXY, width = stdx, height=stdy)\n",
    "plt.scatter(actualXY[0],actualXY[1])\n",
    "plt.scatter(estimatedXY[0], estimatedXY[1])\n",
    "plt.gca().add_artist(e)\n",
    "\n",
    "e.set_alpha(0.5)\n",
    "e.set_facecolor('g')\n",
    "plt.xlim(0,10)\n",
    "plt.ylim(0,10)\n",
    "\n",
    "plt.show()"
   ]
  },
  {
   "cell_type": "code",
   "execution_count": 43,
   "metadata": {
    "collapsed": false
   },
   "outputs": [
    {
     "data": {
      "image/png": "[encoded data removed]",
      "text/plain": [
       "<matplotlib.figure.Figure at 0x7fb1220dad68>"
      ]
     },
     "metadata": {},
     "output_type": "display_data"
    },
    {
     "data": {
      "image/png": "[encoded data removed]",
      "text/plain": [
       "<matplotlib.figure.Figure at 0x7fb11f77af28>"
      ]
     },
     "metadata": {},
     "output_type": "display_data"
    }
   ],
   "source": [
    "actualXY = [5,5]\n",
    "x = [0,0,20,20]\n",
    "y = [0,20,0,20]\n",
    "Z = 2\n",
    "sigma = 1\n",
    "\n",
    "residualsX = []\n",
    "residualsY = []\n",
    "uncertainties = []\n",
    "\n",
    "for i in range(1000):\n",
    "    noise = [np.random.normal(0, 1) for x in range(4)]\n",
    "    randx = np.random.rand()*19\n",
    "    randy = np.random.rand()*19\n",
    "    minimized = minimize(g2,[randx,randy], method='Powell')\n",
    "    estimatedXY = minimized.x\n",
    "\n",
    "    #dFdx = (40(x - xi))/(math.log(10)*((x-xi)^2 + (y-yi)^2 + Z^2))\n",
    "    #dFdy = (40(y - yi))/(math.log(10)*((x-xi)^2 + (y-yi)^2 + Z^2))\n",
    "    B11 = 0\n",
    "    B22 = 0\n",
    "    B12 = 0\n",
    "\n",
    "    for i in range(0,4):\n",
    "        dFdx = (40*(estimatedXY[0] - x[i]))/(math.log(10)*((estimatedXY[0]-x[i])**2 + (estimatedXY[1]-y[i])**2 + Z**2))\n",
    "        dFdy = (40*(estimatedXY[1] - y[i]))/(math.log(10)*((estimatedXY[0]-x[i])**2 + (estimatedXY[1]-y[i])**2 + Z**2))\n",
    "        B11 += (dFdx**2 * 1/(sigma**2))\n",
    "        B22 += (dFdy**2 * 1/(sigma**2))\n",
    "        B12 += (dFdx * dFdy * 1/(sigma**2))\n",
    "\n",
    "    varx = B22 / (B11*B22 - B12**2)\n",
    "    vary = B11 / (B11*B22 - B12**2)\n",
    "\n",
    "    stdx = np.sqrt(varx)\n",
    "    stdy = np.sqrt(vary)\n",
    "    \n",
    "    residualsX.append((estimatedXY[0]-actualXY[0])/sigma)\n",
    "    residualsY.append((estimatedXY[1]-actualXY[1])/sigma)\n",
    "    uncertainties.append([stdx,stdy])\n",
    "\n",
    "plt.hist(residualsX, bins=30)\n",
    "plt.show()\n",
    "\n",
    "plt.hist(residualsY, bins=30)\n",
    "plt.show()"
   ]
  },
  {
   "cell_type": "markdown",
   "metadata": {
    "collapsed": true
   },
   "source": [
    "The centers are where we expect them to be and about as wide as we expect it to be. If we would over or underestimate the uncertainty we would expect a pull distribution that is either centered incorrectly or with a variance that is not 1."
   ]
  },
  {
   "cell_type": "markdown",
   "metadata": {
    "collapsed": true
   },
   "source": [
    "z: If underestimate the measurement error by a factor 2, we expect the width of the pull distribution of the estimated errors on the x and y positions to become wider by a factor 2."
   ]
  },
  {
   "cell_type": "markdown",
   "metadata": {},
   "source": [
    "**0.6a**"
   ]
  },
  {
   "cell_type": "code",
   "execution_count": 44,
   "metadata": {
    "collapsed": false
   },
   "outputs": [
    {
     "name": "stdout",
     "output_type": "stream",
     "text": [
      "\n",
      "    {'timeStamp': 1423136679437, 'seqNr': 1, 'droneId': 'Oscar', 'signal': -80}\n",
      "    {'timeStamp': 1423136679439, 'seqNr': 1, 'droneId': 'Hotel', 'signal': -75}\n",
      "    {'timeStamp': 1423136679446, 'seqNr': 1, 'droneId': 'Lima', 'signal': -78}\n",
      "    {'timeStamp': 1423136679448, 'seqNr': 1, 'droneId': 'India', 'signal': -78}\n",
      "    {'timeStamp': 1423136679455, 'seqNr': 1, 'droneId': 'Mike', 'signal': -95}\n",
      "    {'timeStamp': 1423136679455, 'seqNr': 1, 'droneId': 'Romeo', 'signal': -91}\n",
      "    {'timeStamp': 1423136679505, 'seqNr': 1, 'droneId': 'Kilo', 'signal': -84}\n",
      "\n",
      "    {'timeStamp': 1423136407778, 'seqNr': 12, 'droneId': 'Oscar', 'signal': -57}\n",
      "    {'timeStamp': 1423136407779, 'seqNr': 12, 'droneId': 'Hotel', 'signal': -68}\n",
      "    {'timeStamp': 1423136407784, 'seqNr': 12, 'droneId': 'Papa', 'signal': -60}\n",
      "    {'timeStamp': 1423136407788, 'seqNr': 12, 'droneId': 'November', 'signal': -68}\n",
      "    {'timeStamp': 1423136407789, 'seqNr': 12, 'droneId': 'India', 'signal': -66}\n",
      "    {'timeStamp': 1423136407796, 'seqNr': 12, 'droneId': 'Romeo', 'signal': -75}\n",
      "    {'timeStamp': 1423136407796, 'seqNr': 12, 'droneId': 'Mike', 'signal': -82}\n",
      "    {'timeStamp': 1423136407805, 'seqNr': 12, 'droneId': 'Quebec', 'signal': -60}\n",
      "\n",
      "    {'timeStamp': 1423136539690, 'seqNr': 12, 'droneId': 'Hotel', 'signal': -64}\n",
      "    {'timeStamp': 1423136539691, 'seqNr': 12, 'droneId': 'Oscar', 'signal': -78}\n",
      "    {'timeStamp': 1423136539695, 'seqNr': 12, 'droneId': 'Papa', 'signal': -80}\n",
      "    {'timeStamp': 1423136539698, 'seqNr': 12, 'droneId': 'Lima', 'signal': -73}\n",
      "    {'timeStamp': 1423136539700, 'seqNr': 12, 'droneId': 'November', 'signal': -54}\n",
      "    {'timeStamp': 1423136539700, 'seqNr': 12, 'droneId': 'India', 'signal': -78}\n",
      "    {'timeStamp': 1423136539707, 'seqNr': 12, 'droneId': 'Mike', 'signal': -86}\n",
      "    {'timeStamp': 1423136539707, 'seqNr': 12, 'droneId': 'Romeo', 'signal': -84}\n",
      "    {'timeStamp': 1423136539716, 'seqNr': 12, 'droneId': 'Quebec', 'signal': -74}\n",
      "    {'timeStamp': 1423136539757, 'seqNr': 12, 'droneId': 'Kilo', 'signal': -81}\n",
      "\n",
      "    {'timeStamp': 1423136407788, 'seqNr': 268, 'droneId': 'Oscar', 'signal': -59}\n",
      "    {'timeStamp': 1423136407789, 'seqNr': 268, 'droneId': 'Hotel', 'signal': -67}\n",
      "    {'timeStamp': 1423136407794, 'seqNr': 268, 'droneId': 'Papa', 'signal': -60}\n",
      "    {'timeStamp': 1423136407797, 'seqNr': 268, 'droneId': 'Lima', 'signal': -62}\n",
      "    {'timeStamp': 1423136407798, 'seqNr': 268, 'droneId': 'November', 'signal': -65}\n",
      "    {'timeStamp': 1423136407799, 'seqNr': 268, 'droneId': 'India', 'signal': -64}\n",
      "    {'timeStamp': 1423136407806, 'seqNr': 268, 'droneId': 'Romeo', 'signal': -76}\n",
      "    {'timeStamp': 1423136407815, 'seqNr': 268, 'droneId': 'Quebec', 'signal': -60}\n",
      "    {'timeStamp': 1423136407856, 'seqNr': 268, 'droneId': 'Kilo', 'signal': -79}\n",
      "\n",
      "    {'timeStamp': 1423136539701, 'seqNr': 268, 'droneId': 'Oscar', 'signal': -78}\n",
      "    {'timeStamp': 1423136539701, 'seqNr': 268, 'droneId': 'Hotel', 'signal': -65}\n",
      "    {'timeStamp': 1423136539705, 'seqNr': 268, 'droneId': 'Papa', 'signal': -80}\n",
      "    {'timeStamp': 1423136539708, 'seqNr': 268, 'droneId': 'Lima', 'signal': -73}\n",
      "    {'timeStamp': 1423136539710, 'seqNr': 268, 'droneId': 'India', 'signal': -78}\n",
      "    {'timeStamp': 1423136539710, 'seqNr': 268, 'droneId': 'November', 'signal': -53}\n",
      "    {'timeStamp': 1423136539717, 'seqNr': 268, 'droneId': 'Romeo', 'signal': -85}\n",
      "    {'timeStamp': 1423136539717, 'seqNr': 268, 'droneId': 'Mike', 'signal': -83}\n",
      "    {'timeStamp': 1423136539726, 'seqNr': 268, 'droneId': 'Quebec', 'signal': -73}\n",
      "    {'timeStamp': 1423136539767, 'seqNr': 268, 'droneId': 'Kilo', 'signal': -83}\n",
      "\n",
      "    {'timeStamp': 1423136629671, 'seqNr': 525, 'droneId': 'Oscar', 'signal': -65}\n",
      "    {'timeStamp': 1423136629671, 'seqNr': 525, 'droneId': 'Hotel', 'signal': -53}\n",
      "    {'timeStamp': 1423136629675, 'seqNr': 525, 'droneId': 'Papa', 'signal': -77}\n",
      "    {'timeStamp': 1423136629678, 'seqNr': 525, 'droneId': 'Lima', 'signal': -68}\n",
      "    {'timeStamp': 1423136629680, 'seqNr': 525, 'droneId': 'November', 'signal': -48}\n",
      "    {'timeStamp': 1423136629681, 'seqNr': 525, 'droneId': 'India', 'signal': -77}\n",
      "    {'timeStamp': 1423136629687, 'seqNr': 525, 'droneId': 'Romeo', 'signal': -85}\n",
      "    {'timeStamp': 1423136629687, 'seqNr': 525, 'droneId': 'Mike', 'signal': -82}\n",
      "    {'timeStamp': 1423136629696, 'seqNr': 525, 'droneId': 'Quebec', 'signal': -71}\n",
      "    {'timeStamp': 1423136629711, 'seqNr': 525, 'droneId': 'Alpha', 'signal': -46}\n",
      "    {'timeStamp': 1423136629737, 'seqNr': 525, 'droneId': 'Kilo', 'signal': -85}\n",
      "\n",
      "    {'timeStamp': 1423136629681, 'seqNr': 781, 'droneId': 'Oscar', 'signal': -63}\n",
      "    {'timeStamp': 1423136629682, 'seqNr': 781, 'droneId': 'Hotel', 'signal': -53}\n",
      "    {'timeStamp': 1423136629686, 'seqNr': 781, 'droneId': 'Papa', 'signal': -75}\n",
      "    {'timeStamp': 1423136629689, 'seqNr': 781, 'droneId': 'Lima', 'signal': -68}\n",
      "    {'timeStamp': 1423136629690, 'seqNr': 781, 'droneId': 'November', 'signal': -47}\n",
      "    {'timeStamp': 1423136629691, 'seqNr': 781, 'droneId': 'India', 'signal': -78}\n",
      "    {'timeStamp': 1423136629698, 'seqNr': 781, 'droneId': 'Romeo', 'signal': -84}\n",
      "    {'timeStamp': 1423136629698, 'seqNr': 781, 'droneId': 'Mike', 'signal': -82}\n",
      "    {'timeStamp': 1423136629707, 'seqNr': 781, 'droneId': 'Quebec', 'signal': -72}\n",
      "    {'timeStamp': 1423136629722, 'seqNr': 781, 'droneId': 'Alpha', 'signal': -46}\n",
      "\n",
      "    {'timeStamp': 1423136985263, 'seqNr': 781, 'droneId': 'Hotel', 'signal': -76}\n",
      "    {'timeStamp': 1423136985336, 'seqNr': 781, 'droneId': 'Lima', 'signal': -83}\n",
      "    {'timeStamp': 1423136985346, 'seqNr': 781, 'droneId': 'November', 'signal': -80}\n",
      "    {'timeStamp': 1423136985412, 'seqNr': 781, 'droneId': 'Romeo', 'signal': -92}\n",
      "\n",
      "    {'timeStamp': 1423136679102, 'seqNr': 1037, 'droneId': 'India', 'signal': -77}\n",
      "    {'timeStamp': 1423136679158, 'seqNr': 1037, 'droneId': 'Kilo', 'signal': -80}\n",
      "    {'timeStamp': 1423136679906, 'seqNr': 1037, 'droneId': 'Oscar', 'signal': -86}\n",
      "    {'timeStamp': 1423136679919, 'seqNr': 1037, 'droneId': 'Hotel', 'signal': -69}\n",
      "    {'timeStamp': 1423136679994, 'seqNr': 1037, 'droneId': 'Lima', 'signal': -77}\n",
      "\n",
      "    {'timeStamp': 1423136985474, 'seqNr': 1037, 'droneId': 'Hotel', 'signal': -79}\n",
      "    {'timeStamp': 1423136985547, 'seqNr': 1037, 'droneId': 'Lima', 'signal': -87}\n",
      "    {'timeStamp': 1423136985558, 'seqNr': 1037, 'droneId': 'November', 'signal': -77}\n",
      "    {'timeStamp': 1423136985624, 'seqNr': 1037, 'droneId': 'Romeo', 'signal': -93}\n",
      "\n",
      "    {'timeStamp': 1423136679411, 'seqNr': 1293, 'droneId': 'Hotel', 'signal': -71}\n",
      "    {'timeStamp': 1423136679418, 'seqNr': 1293, 'droneId': 'Lima', 'signal': -79}\n",
      "    {'timeStamp': 1423136679420, 'seqNr': 1293, 'droneId': 'India', 'signal': -78}\n",
      "    {'timeStamp': 1423136679420, 'seqNr': 1293, 'droneId': 'November', 'signal': -70}\n",
      "    {'timeStamp': 1423136679427, 'seqNr': 1293, 'droneId': 'Mike', 'signal': -96}\n",
      "    {'timeStamp': 1423136679436, 'seqNr': 1293, 'droneId': 'Quebec', 'signal': -82}\n",
      "    {'timeStamp': 1423136679477, 'seqNr': 1293, 'droneId': 'Kilo', 'signal': -82}\n",
      "\n",
      "    {'timeStamp': 1423136679422, 'seqNr': 1549, 'droneId': 'Oscar', 'signal': -83}\n",
      "    {'timeStamp': 1423136679423, 'seqNr': 1549, 'droneId': 'Hotel', 'signal': -74}\n",
      "    {'timeStamp': 1423136679431, 'seqNr': 1549, 'droneId': 'Lima', 'signal': -78}\n",
      "    {'timeStamp': 1423136679432, 'seqNr': 1549, 'droneId': 'November', 'signal': -74}\n",
      "    {'timeStamp': 1423136679433, 'seqNr': 1549, 'droneId': 'India', 'signal': -81}\n",
      "    {'timeStamp': 1423136679440, 'seqNr': 1549, 'droneId': 'Romeo', 'signal': -89}\n",
      "    {'timeStamp': 1423136679440, 'seqNr': 1549, 'droneId': 'Mike', 'signal': -92}\n",
      "\n",
      "    {'timeStamp': 1423136679425, 'seqNr': 1805, 'droneId': 'Hotel', 'signal': -72}\n",
      "    {'timeStamp': 1423136679432, 'seqNr': 1805, 'droneId': 'Lima', 'signal': -78}\n",
      "    {'timeStamp': 1423136679435, 'seqNr': 1805, 'droneId': 'India', 'signal': -80}\n",
      "    {'timeStamp': 1423136679441, 'seqNr': 1805, 'droneId': 'Romeo', 'signal': -88}\n",
      "    {'timeStamp': 1423136679465, 'seqNr': 1805, 'droneId': 'Alpha', 'signal': -64}\n",
      "\n",
      "    {'timeStamp': 1423136497760, 'seqNr': 2060, 'droneId': 'Hotel', 'signal': -59}\n",
      "    {'timeStamp': 1423136497760, 'seqNr': 2060, 'droneId': 'Oscar', 'signal': -70}\n",
      "    {'timeStamp': 1423136497765, 'seqNr': 2060, 'droneId': 'Papa', 'signal': -67}\n",
      "    {'timeStamp': 1423136497768, 'seqNr': 2060, 'droneId': 'Lima', 'signal': -66}\n",
      "    {'timeStamp': 1423136497769, 'seqNr': 2060, 'droneId': 'November', 'signal': -49}\n",
      "    {'timeStamp': 1423136497770, 'seqNr': 2060, 'droneId': 'India', 'signal': -70}\n",
      "    {'timeStamp': 1423136497777, 'seqNr': 2060, 'droneId': 'Mike', 'signal': -75}\n",
      "    {'timeStamp': 1423136497777, 'seqNr': 2060, 'droneId': 'Romeo', 'signal': -51}\n",
      "    {'timeStamp': 1423136497785, 'seqNr': 2060, 'droneId': 'Quebec', 'signal': -65}\n",
      "    {'timeStamp': 1423136497801, 'seqNr': 2060, 'droneId': 'Alpha', 'signal': -61}\n",
      "    {'timeStamp': 1423136497827, 'seqNr': 2060, 'droneId': 'Kilo', 'signal': -61}\n",
      "\n",
      "    {'timeStamp': 1423136584681, 'seqNr': 2060, 'droneId': 'Oscar', 'signal': -77}\n",
      "    {'timeStamp': 1423136584681, 'seqNr': 2060, 'droneId': 'Hotel', 'signal': -65}\n",
      "    {'timeStamp': 1423136584690, 'seqNr': 2060, 'droneId': 'November', 'signal': -56}\n",
      "    {'timeStamp': 1423136584691, 'seqNr': 2060, 'droneId': 'India', 'signal': -73}\n",
      "    {'timeStamp': 1423136584698, 'seqNr': 2060, 'droneId': 'Romeo', 'signal': -62}\n",
      "    {'timeStamp': 1423136584748, 'seqNr': 2060, 'droneId': 'Kilo', 'signal': -61}\n",
      "\n",
      "    {'timeStamp': 1423136679432, 'seqNr': 2061, 'droneId': 'Oscar', 'signal': -82}\n",
      "    {'timeStamp': 1423136679433, 'seqNr': 2061, 'droneId': 'Hotel', 'signal': -74}\n",
      "    {'timeStamp': 1423136679441, 'seqNr': 2061, 'droneId': 'Lima', 'signal': -77}\n",
      "    {'timeStamp': 1423136679442, 'seqNr': 2061, 'droneId': 'November', 'signal': -76}\n",
      "    {'timeStamp': 1423136679443, 'seqNr': 2061, 'droneId': 'India', 'signal': -79}\n",
      "    {'timeStamp': 1423136679449, 'seqNr': 2061, 'droneId': 'Mike', 'signal': -94}\n",
      "    {'timeStamp': 1423136679449, 'seqNr': 2061, 'droneId': 'Romeo', 'signal': -91}\n",
      "    {'timeStamp': 1423136679459, 'seqNr': 2061, 'droneId': 'Quebec', 'signal': -82}\n",
      "    {'timeStamp': 1423136679473, 'seqNr': 2061, 'droneId': 'Alpha', 'signal': -61}\n",
      "    {'timeStamp': 1423136679499, 'seqNr': 2061, 'droneId': 'Kilo', 'signal': -85}\n",
      "\n",
      "    {'timeStamp': 1423136497770, 'seqNr': 2316, 'droneId': 'Oscar', 'signal': -69}\n",
      "    {'timeStamp': 1423136497770, 'seqNr': 2316, 'droneId': 'Hotel', 'signal': -59}\n",
      "    {'timeStamp': 1423136497775, 'seqNr': 2316, 'droneId': 'Papa', 'signal': -68}\n",
      "    {'timeStamp': 1423136497778, 'seqNr': 2316, 'droneId': 'Lima', 'signal': -68}\n",
      "    {'timeStamp': 1423136497779, 'seqNr': 2316, 'droneId': 'November', 'signal': -49}\n",
      "    {'timeStamp': 1423136497780, 'seqNr': 2316, 'droneId': 'India', 'signal': -71}\n",
      "    {'timeStamp': 1423136497787, 'seqNr': 2316, 'droneId': 'Mike', 'signal': -81}\n",
      "    {'timeStamp': 1423136497787, 'seqNr': 2316, 'droneId': 'Romeo', 'signal': -52}\n",
      "    {'timeStamp': 1423136497796, 'seqNr': 2316, 'droneId': 'Quebec', 'signal': -66}\n",
      "    {'timeStamp': 1423136497837, 'seqNr': 2316, 'droneId': 'Kilo', 'signal': -60}\n",
      "\n",
      "    {'timeStamp': 1423136584690, 'seqNr': 2316, 'droneId': 'Hotel', 'signal': -66}\n",
      "    {'timeStamp': 1423136584690, 'seqNr': 2316, 'droneId': 'Oscar', 'signal': -78}\n",
      "    {'timeStamp': 1423136584695, 'seqNr': 2316, 'droneId': 'Papa', 'signal': -77}\n",
      "    {'timeStamp': 1423136584698, 'seqNr': 2316, 'droneId': 'Lima', 'signal': -79}\n",
      "    {'timeStamp': 1423136584699, 'seqNr': 2316, 'droneId': 'November', 'signal': -63}\n",
      "    {'timeStamp': 1423136584700, 'seqNr': 2316, 'droneId': 'India', 'signal': -74}\n",
      "    {'timeStamp': 1423136584707, 'seqNr': 2316, 'droneId': 'Mike', 'signal': -76}\n",
      "    {'timeStamp': 1423136584707, 'seqNr': 2316, 'droneId': 'Romeo', 'signal': -61}\n",
      "    {'timeStamp': 1423136584716, 'seqNr': 2316, 'droneId': 'Quebec', 'signal': -69}\n",
      "    {'timeStamp': 1423136584757, 'seqNr': 2316, 'droneId': 'Kilo', 'signal': -61}\n",
      "\n",
      "    {'timeStamp': 1423136942454, 'seqNr': 2317, 'droneId': 'Oscar', 'signal': -90}\n",
      "    {'timeStamp': 1423136942461, 'seqNr': 2317, 'droneId': 'Hotel', 'signal': -80}\n",
      "    {'timeStamp': 1423136942469, 'seqNr': 2317, 'droneId': 'November', 'signal': -79}\n",
      "    {'timeStamp': 1423136942476, 'seqNr': 2317, 'droneId': 'Romeo', 'signal': -95}\n",
      "    {'timeStamp': 1423136942501, 'seqNr': 2317, 'droneId': 'Alpha', 'signal': -60}\n",
      "\n",
      "    {'timeStamp': 1423136674660, 'seqNr': 2573, 'droneId': 'Oscar', 'signal': -79}\n",
      "    {'timeStamp': 1423136674669, 'seqNr': 2573, 'droneId': 'Lima', 'signal': -73}\n",
      "    {'timeStamp': 1423136674670, 'seqNr': 2573, 'droneId': 'November', 'signal': -64}\n",
      "    {'timeStamp': 1423136674671, 'seqNr': 2573, 'droneId': 'India', 'signal': -74}\n",
      "    {'timeStamp': 1423136674728, 'seqNr': 2573, 'droneId': 'Kilo', 'signal': -76}\n",
      "\n",
      "    {'timeStamp': 1423136678257, 'seqNr': 2573, 'droneId': 'Oscar', 'signal': -78}\n",
      "    {'timeStamp': 1423136678258, 'seqNr': 2573, 'droneId': 'Hotel', 'signal': -72}\n",
      "    {'timeStamp': 1423136678267, 'seqNr': 2573, 'droneId': 'November', 'signal': -65}\n",
      "    {'timeStamp': 1423136678268, 'seqNr': 2573, 'droneId': 'India', 'signal': -76}\n",
      "\n",
      "    {'timeStamp': 1423136942491, 'seqNr': 2573, 'droneId': 'Lima', 'signal': -85}\n",
      "    {'timeStamp': 1423136942492, 'seqNr': 2573, 'droneId': 'November', 'signal': -81}\n",
      "    {'timeStamp': 1423136942493, 'seqNr': 2573, 'droneId': 'India', 'signal': -87}\n",
      "    {'timeStamp': 1423136942498, 'seqNr': 2573, 'droneId': 'Romeo', 'signal': -94}\n",
      "    {'timeStamp': 1423136942523, 'seqNr': 2573, 'droneId': 'Alpha', 'signal': -58}\n",
      "\n",
      "    {'timeStamp': 1423136452767, 'seqNr': 2828, 'droneId': 'Hotel', 'signal': -65}\n",
      "    {'timeStamp': 1423136452767, 'seqNr': 2828, 'droneId': 'Oscar', 'signal': -59}\n",
      "    {'timeStamp': 1423136452773, 'seqNr': 2828, 'droneId': 'Papa', 'signal': -47}\n",
      "    {'timeStamp': 1423136452775, 'seqNr': 2828, 'droneId': 'Lima', 'signal': -60}\n",
      "    {'timeStamp': 1423136452777, 'seqNr': 2828, 'droneId': 'India', 'signal': -73}\n",
      "    {'timeStamp': 1423136452777, 'seqNr': 2828, 'droneId': 'November', 'signal': -65}\n",
      "    {'timeStamp': 1423136452784, 'seqNr': 2828, 'droneId': 'Mike', 'signal': -62}\n",
      "    {'timeStamp': 1423136452785, 'seqNr': 2828, 'droneId': 'Romeo', 'signal': -71}\n",
      "    {'timeStamp': 1423136452793, 'seqNr': 2828, 'droneId': 'Quebec', 'signal': -50}\n",
      "    {'timeStamp': 1423136452808, 'seqNr': 2828, 'droneId': 'Alpha', 'signal': -71}\n",
      "    {'timeStamp': 1423136452834, 'seqNr': 2828, 'droneId': 'Kilo', 'signal': -64}\n",
      "\n",
      "    {'timeStamp': 1423136678267, 'seqNr': 2829, 'droneId': 'Oscar', 'signal': -79}\n",
      "    {'timeStamp': 1423136678268, 'seqNr': 2829, 'droneId': 'Hotel', 'signal': -72}\n",
      "    {'timeStamp': 1423136678277, 'seqNr': 2829, 'droneId': 'November', 'signal': -67}\n",
      "    {'timeStamp': 1423136678278, 'seqNr': 2829, 'droneId': 'India', 'signal': -77}\n",
      "\n",
      "    {'timeStamp': 1423137092918, 'seqNr': 2829, 'droneId': 'Hotel', 'signal': -81}\n",
      "    {'timeStamp': 1423137092927, 'seqNr': 2829, 'droneId': 'November', 'signal': -79}\n",
      "    {'timeStamp': 1423137092958, 'seqNr': 2829, 'droneId': 'Alpha', 'signal': -66}\n",
      "\n",
      "    {'timeStamp': 1423136407967, 'seqNr': 3084, 'droneId': 'Oscar', 'signal': -64}\n",
      "    {'timeStamp': 1423136407968, 'seqNr': 3084, 'droneId': 'Hotel', 'signal': -69}\n",
      "    {'timeStamp': 1423136407973, 'seqNr': 3084, 'droneId': 'Papa', 'signal': -67}\n",
      "    {'timeStamp': 1423136407976, 'seqNr': 3084, 'droneId': 'Lima', 'signal': -53}\n",
      "    {'timeStamp': 1423136407977, 'seqNr': 3084, 'droneId': 'November', 'signal': -70}\n",
      "    {'timeStamp': 1423136407978, 'seqNr': 3084, 'droneId': 'India', 'signal': -70}\n",
      "    {'timeStamp': 1423136407985, 'seqNr': 3084, 'droneId': 'Romeo', 'signal': -88}\n",
      "    {'timeStamp': 1423136407985, 'seqNr': 3084, 'droneId': 'Mike', 'signal': -81}\n",
      "    {'timeStamp': 1423136407993, 'seqNr': 3084, 'droneId': 'Quebec', 'signal': -56}\n",
      "    {'timeStamp': 1423136408347, 'seqNr': 3084, 'droneId': 'Kilo', 'signal': -82}\n",
      "\n",
      "    {'timeStamp': 1423136452777, 'seqNr': 3084, 'droneId': 'Hotel', 'signal': -67}\n",
      "    {'timeStamp': 1423136452777, 'seqNr': 3084, 'droneId': 'Oscar', 'signal': -60}\n",
      "    {'timeStamp': 1423136452783, 'seqNr': 3084, 'droneId': 'Papa', 'signal': -46}\n",
      "    {'timeStamp': 1423136452787, 'seqNr': 3084, 'droneId': 'India', 'signal': -73}\n",
      "    {'timeStamp': 1423136452787, 'seqNr': 3084, 'droneId': 'November', 'signal': -64}\n",
      "    {'timeStamp': 1423136452794, 'seqNr': 3084, 'droneId': 'Romeo', 'signal': -69}\n",
      "    {'timeStamp': 1423136452794, 'seqNr': 3084, 'droneId': 'Mike', 'signal': -62}\n",
      "    {'timeStamp': 1423136452803, 'seqNr': 3084, 'droneId': 'Quebec', 'signal': -48}\n",
      "    {'timeStamp': 1423136452818, 'seqNr': 3084, 'droneId': 'Alpha', 'signal': -72}\n",
      "    {'timeStamp': 1423136452844, 'seqNr': 3084, 'droneId': 'Kilo', 'signal': -64}\n",
      "\n",
      "    {'timeStamp': 1423136407977, 'seqNr': 3340, 'droneId': 'Oscar', 'signal': -61}\n",
      "    {'timeStamp': 1423136407978, 'seqNr': 3340, 'droneId': 'Hotel', 'signal': -69}\n",
      "    {'timeStamp': 1423136407984, 'seqNr': 3340, 'droneId': 'Papa', 'signal': -70}\n",
      "    {'timeStamp': 1423136407986, 'seqNr': 3340, 'droneId': 'Lima', 'signal': -52}\n",
      "    {'timeStamp': 1423136407988, 'seqNr': 3340, 'droneId': 'November', 'signal': -75}\n",
      "    {'timeStamp': 1423136407989, 'seqNr': 3340, 'droneId': 'India', 'signal': -69}\n",
      "    {'timeStamp': 1423136407995, 'seqNr': 3340, 'droneId': 'Mike', 'signal': -80}\n",
      "    {'timeStamp': 1423136407996, 'seqNr': 3340, 'droneId': 'Romeo', 'signal': -84}\n",
      "    {'timeStamp': 1423136408409, 'seqNr': 3340, 'droneId': 'Quebec', 'signal': -55}\n",
      "    {'timeStamp': 1423136408453, 'seqNr': 3340, 'droneId': 'Kilo', 'signal': -82}\n",
      "\n",
      "    {'timeStamp': 1423136679513, 'seqNr': 3385, 'droneId': 'Oscar', 'signal': -73}\n",
      "    {'timeStamp': 1423136679514, 'seqNr': 3385, 'droneId': 'Hotel', 'signal': -68}\n",
      "    {'timeStamp': 1423136679523, 'seqNr': 3385, 'droneId': 'November', 'signal': -68}\n",
      "    {'timeStamp': 1423136679524, 'seqNr': 3385, 'droneId': 'India', 'signal': -77}\n",
      "    {'timeStamp': 1423136679555, 'seqNr': 3385, 'droneId': 'Alpha', 'signal': -59}\n",
      "\n",
      "    {'timeStamp': 1423137092743, 'seqNr': 3431, 'droneId': 'Hotel', 'signal': -77}\n",
      "    {'timeStamp': 1423137092751, 'seqNr': 3431, 'droneId': 'November', 'signal': -77}\n",
      "    {'timeStamp': 1423137092783, 'seqNr': 3431, 'droneId': 'Alpha', 'signal': -61}\n",
      "\n",
      "    {'timeStamp': 1423137092765, 'seqNr': 3432, 'droneId': 'Hotel', 'signal': -77}\n",
      "    {'timeStamp': 1423137092773, 'seqNr': 3432, 'droneId': 'November', 'signal': -78}\n",
      "    {'timeStamp': 1423137092805, 'seqNr': 3432, 'droneId': 'Alpha', 'signal': -62}\n",
      "\n",
      "    {'timeStamp': 1423137093481, 'seqNr': 3439, 'droneId': 'Hotel', 'signal': -74}\n",
      "    {'timeStamp': 1423137093489, 'seqNr': 3439, 'droneId': 'November', 'signal': -77}\n",
      "    {'timeStamp': 1423137093521, 'seqNr': 3439, 'droneId': 'Alpha', 'signal': -69}\n",
      "\n",
      "    {'timeStamp': 1423137093564, 'seqNr': 3440, 'droneId': 'Hotel', 'signal': -74}\n",
      "    {'timeStamp': 1423137093572, 'seqNr': 3440, 'droneId': 'November', 'signal': -76}\n",
      "    {'timeStamp': 1423137093604, 'seqNr': 3440, 'droneId': 'Alpha', 'signal': -70}\n",
      "\n",
      "    {'timeStamp': 1423137094766, 'seqNr': 3444, 'droneId': 'Hotel', 'signal': -75}\n",
      "    {'timeStamp': 1423137094774, 'seqNr': 3444, 'droneId': 'November', 'signal': -77}\n",
      "    {'timeStamp': 1423137094806, 'seqNr': 3444, 'droneId': 'Alpha', 'signal': -68}\n",
      "\n",
      "    {'timeStamp': 1423137095168, 'seqNr': 3449, 'droneId': 'Hotel', 'signal': -74}\n",
      "    {'timeStamp': 1423137095176, 'seqNr': 3449, 'droneId': 'November', 'signal': -71}\n",
      "    {'timeStamp': 1423137095208, 'seqNr': 3449, 'droneId': 'Alpha', 'signal': -64}\n",
      "\n",
      "    {'timeStamp': 1423137095230, 'seqNr': 3450, 'droneId': 'Hotel', 'signal': -71}\n",
      "    {'timeStamp': 1423137095238, 'seqNr': 3450, 'droneId': 'November', 'signal': -70}\n",
      "    {'timeStamp': 1423137095270, 'seqNr': 3450, 'droneId': 'Alpha', 'signal': -65}\n",
      "\n",
      "    {'timeStamp': 1423137124502, 'seqNr': 3455, 'droneId': 'Hotel', 'signal': -75}\n",
      "    {'timeStamp': 1423137124511, 'seqNr': 3455, 'droneId': 'November', 'signal': -74}\n",
      "    {'timeStamp': 1423137124542, 'seqNr': 3455, 'droneId': 'Alpha', 'signal': -73}\n",
      "groups:  37\n"
     ]
    }
   ],
   "source": [
    "minGroupSize = 3\n",
    "maxTimePassed = 1000\n",
    "\n",
    "def readAndFilterData():\n",
    "    reader = csv.reader(open('UvA-wifitracking-exercise-prepped-data.csv'));\n",
    "\n",
    "    # Read data\n",
    "    skippedHeader = False\n",
    "    data = []\n",
    "    for entry in reader:\n",
    "        if not skippedHeader:\n",
    "            skippedHeader = True\n",
    "            continue\n",
    "        data.append({'seqNr': int(entry[3]), 'timeStamp': int(entry[5]), 'droneId': entry[6], 'signal': int(entry[7])})\n",
    "\n",
    "    # Sort by seqNr then measurementTimestamp\n",
    "    data = sorted(data, key=lambda entry: (entry['seqNr'], entry['timeStamp']))\n",
    "\n",
    "    # Create new group if: different seqNr or too much time has passed\n",
    "    groupedData = []\n",
    "    currentGroup = []\n",
    "    firstEntry = True\n",
    "    for entry in data:\n",
    "        if firstEntry:\n",
    "            currentGroup.append(entry)\n",
    "            firstEntry = False\n",
    "            continue\n",
    "        # if new seqNr compared to prev. entry\n",
    "        if currentGroup[-1]['seqNr'] != entry['seqNr']:\n",
    "            if len(currentGroup) >= minGroupSize:\n",
    "                groupedData.append(currentGroup[:])\n",
    "            currentGroup = [entry]\n",
    "            continue\n",
    "        # if too much time past compared to prev entry\n",
    "        if entry['timeStamp'] - currentGroup[-1]['timeStamp'] > maxTimePassed:\n",
    "            if len(currentGroup) >= minGroupSize:\n",
    "                groupedData.append(currentGroup[:])\n",
    "            currentGroup = [entry]\n",
    "            continue\n",
    "        currentGroup.append(entry)\n",
    "    return groupedData\n",
    "\n",
    "data = readAndFilterData()\n",
    "for group in data:\n",
    "    print()\n",
    "    for entry in group:\n",
    "        print(\"   \", entry)\n",
    "print(\"groups: \", len(data))"
   ]
  },
  {
   "cell_type": "markdown",
   "metadata": {
    "collapsed": true
   },
   "source": [
    "**0.6b**"
   ]
  },
  {
   "cell_type": "code",
   "execution_count": 98,
   "metadata": {
    "collapsed": false
   },
   "outputs": [
    {
     "data": {
      "image/png": "[encoded data removed]",
      "text/plain": [
       "<matplotlib.figure.Figure at 0x7fb10efabd68>"
      ]
     },
     "metadata": {},
     "output_type": "display_data"
    },
    {
     "data": {
      "image/png": "[encoded data removed]",
      "text/plain": [
       "<matplotlib.figure.Figure at 0x7fb10eb94f28>"
      ]
     },
     "metadata": {},
     "output_type": "display_data"
    },
    {
     "name": "stdout",
     "output_type": "stream",
     "text": [
      "2.17490392608\n"
     ]
    }
   ],
   "source": [
    "routers = {'Lima': [5.82, 5.48],\n",
    "          'Mike': [11.33, 9.43],\n",
    "          'Kilo': [12.93, 6.77],\n",
    "          'Oscar': [2.48, 7.36],\n",
    "          'Alpha': [8.53, 2.16],\n",
    "          'India': [2.18, 5.61],\n",
    "          'November': [8.34, 4.13],\n",
    "          'Hotel': [5.43, 4.71],\n",
    "          'Romeo': [10.99, 5.94],\n",
    "          'Quebec': [6.82, 9.78],\n",
    "          'Papa': [9.9, 10.39]}\n",
    "\n",
    "Pt = 0\n",
    "sigma = 12\n",
    "nSamples = 100\n",
    "\n",
    "initialPosition = []\n",
    "currentGroup = []\n",
    "positions = []\n",
    "chis = []\n",
    "\n",
    "def estimatePosition(devicePosition):\n",
    "    x,y = devicePosition\n",
    "    Chi = 0\n",
    "    for packet in currentGroup:\n",
    "        routerLocation = routers[packet['droneId']]\n",
    "        xi = routerLocation[0]\n",
    "        yi = routerLocation[1]\n",
    "        Z = 2\n",
    "        Si = getExpectedStrength(x,y,xi,yi,Z,Pt)\n",
    "        Pri = packet['signal']\n",
    "        \n",
    "        Chi += math.pow(Si-Pri,2)/math.pow(sigma,2)\n",
    "    return Chi\n",
    "\n",
    "def getRandomInitialPosition():\n",
    "    xMin = min(routers.values(), key=lambda router: router[0])[0]\n",
    "    yMin = min(routers.values(), key=lambda router: router[1])[1]\n",
    "    xMax = max(routers.values(), key=lambda router: router[0])[0]\n",
    "    yMax = max(routers.values(), key=lambda router: router[1])[1]\n",
    "    \n",
    "    randX = np.random.rand()*(xMax-xMin)\n",
    "    randY = np.random.rand()*(yMax-yMin)\n",
    "    \n",
    "    return [randX, randY]\n",
    "\n",
    "for group in data:\n",
    "    position = [0,0]\n",
    "    chi = 0;\n",
    "    currentGroup = group\n",
    "    for i in range(nSamples):\n",
    "        initialPosition = getRandomInitialPosition()\n",
    "        \n",
    "        result = minimize(estimatePosition, initialPosition, method='Powell')\n",
    "        #position[0] = position[0] + (1/nSamples) * result.x[0]\n",
    "        #position[1] = position[1] + (1/nSamples) * result.x[1]\n",
    "        \n",
    "        #chi += (1/nSamples) * result.fun\n",
    "        \n",
    "        positions.append([result.x[0], result.x[1]])\n",
    "        chis.append(result.fun)\n",
    "        \n",
    "    break\n",
    "        \n",
    "    #positions.append(position)\n",
    "    #chis.append(chi)\n",
    "    \n",
    "routerPositions = np.matrix(list(routers.values()))\n",
    "positions = np.matrix(positions)\n",
    "plt.scatter(routerPositions[:,0], routerPositions[:,1], color='r') \n",
    "plt.scatter(positions[:,0], positions[:,1])\n",
    "\n",
    "plt.show()\n",
    "\n",
    "plt.hist(chis, bins=10)\n",
    "plt.show()\n",
    "\n",
    "print(np.mean(chis))"
   ]
  },
  {
   "cell_type": "code",
   "execution_count": null,
   "metadata": {
    "collapsed": false
   },
   "outputs": [],
   "source": []
  },
  {
   "cell_type": "code",
   "execution_count": null,
   "metadata": {
    "collapsed": true
   },
   "outputs": [],
   "source": []
  }
 ],
 "metadata": {
  "anaconda-cloud": {},
  "kernelspec": {
   "display_name": "Python [Root]",
   "language": "python",
   "name": "Python [Root]"
  },
  "language_info": {
   "codemirror_mode": {
    "name": "ipython",
    "version": 3
   },
   "file_extension": ".py",
   "mimetype": "text/x-python",
   "name": "python",
   "nbconvert_exporter": "python",
   "pygments_lexer": "ipython3",
   "version": "3.5.2"
  }
 },
 "nbformat": 4,
 "nbformat_minor": 0
}
